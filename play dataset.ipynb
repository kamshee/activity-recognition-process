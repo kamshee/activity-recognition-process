{
 "cells": [
  {
   "cell_type": "markdown",
   "metadata": {},
   "source": [
    "Dataset that I'm playing around with for the stroke sensor HC data"
   ]
  },
  {
   "cell_type": "code",
   "execution_count": 1,
   "metadata": {},
   "outputs": [
    {
     "ename": "ModuleNotFoundError",
     "evalue": "No module named 'nolds'",
     "output_type": "error",
     "traceback": [
      "\u001b[1;31m---------------------------------------------------------------------------\u001b[0m",
      "\u001b[1;31mModuleNotFoundError\u001b[0m                       Traceback (most recent call last)",
      "\u001b[1;32m<ipython-input-1-7373bd480f3c>\u001b[0m in \u001b[0;36m<module>\u001b[1;34m()\u001b[0m\n\u001b[0;32m     13\u001b[0m \u001b[1;32mfrom\u001b[0m \u001b[0mscipy\u001b[0m\u001b[1;33m.\u001b[0m\u001b[0msignal\u001b[0m \u001b[1;32mimport\u001b[0m \u001b[0mbutter\u001b[0m\u001b[1;33m,\u001b[0m \u001b[0mwelch\u001b[0m\u001b[1;33m,\u001b[0m \u001b[0mfiltfilt\u001b[0m\u001b[1;33m,\u001b[0m \u001b[0mresample\u001b[0m\u001b[1;33m\u001b[0m\u001b[0m\n\u001b[0;32m     14\u001b[0m \u001b[1;32mimport\u001b[0m \u001b[0mtime\u001b[0m\u001b[1;33m\u001b[0m\u001b[0m\n\u001b[1;32m---> 15\u001b[1;33m \u001b[1;32mimport\u001b[0m \u001b[0mnolds\u001b[0m\u001b[1;33m\u001b[0m\u001b[0m\n\u001b[0m\u001b[0;32m     16\u001b[0m \u001b[1;32mimport\u001b[0m \u001b[0mre\u001b[0m\u001b[1;33m\u001b[0m\u001b[0m\n\u001b[0;32m     17\u001b[0m \u001b[1;32mimport\u001b[0m \u001b[0mcopy\u001b[0m\u001b[1;33m\u001b[0m\u001b[0m\n",
      "\u001b[1;31mModuleNotFoundError\u001b[0m: No module named 'nolds'"
     ]
    }
   ],
   "source": [
    "# Importing the Libraries\n",
    "import os\n",
    "import platform\n",
    "import numpy as np\n",
    "import pandas as pd\n",
    "import seaborn as sns\n",
    "import matplotlib.pyplot as plt\n",
    "import datetime as dt\n",
    "import pathlib\n",
    "import pickle #to save files\n",
    "from itertools import product\n",
    "from scipy.stats import skew, kurtosis, pearsonr\n",
    "from scipy.signal import butter, welch, filtfilt, resample\n",
    "import time\n",
    "import nolds\n",
    "import re\n",
    "import copy"
   ]
  },
  {
   "cell_type": "code",
   "execution_count": 2,
   "metadata": {},
   "outputs": [
    {
     "name": "stdout",
     "output_type": "stream",
     "text": [
      "Y:\\\n"
     ]
    }
   ],
   "source": [
    "cd y:"
   ]
  },
  {
   "cell_type": "code",
   "execution_count": 3,
   "metadata": {},
   "outputs": [
    {
     "name": "stdout",
     "output_type": "stream",
     "text": [
      "Y:\\Inpatient Sensors -Stroke\\Data\\biostamp_data\\controls\\HC01\n"
     ]
    }
   ],
   "source": [
    "cd Inpatient Sensors -Stroke\\Data\\biostamp_data\\controls\\HC01"
   ]
  },
  {
   "cell_type": "code",
   "execution_count": 4,
   "metadata": {},
   "outputs": [],
   "source": [
    "dataset = pd.read_csv('annotations.csv')"
   ]
  },
  {
   "cell_type": "code",
   "execution_count": 5,
   "metadata": {},
   "outputs": [],
   "source": [
    "df1 = dataset[dataset['EventType'].str.match('Activity')]\n",
    "df1 = df1[['Start Timestamp (ms)', 'Stop Timestamp (ms)', 'Value']]\n",
    "df1.Value = df1.Value.shift(-1)\n",
    "df2 = df1.dropna()"
   ]
  },
  {
   "cell_type": "code",
   "execution_count": 6,
   "metadata": {},
   "outputs": [
    {
     "name": "stderr",
     "output_type": "stream",
     "text": [
      "C:\\Users\\lu-rto\\AppData\\Local\\Continuum\\anaconda3\\lib\\site-packages\\ipykernel_launcher.py:2: SettingWithCopyWarning: \n",
      "A value is trying to be set on a copy of a slice from a DataFrame.\n",
      "Try using .loc[row_indexer,col_indexer] = value instead\n",
      "\n",
      "See the caveats in the documentation: http://pandas.pydata.org/pandas-docs/stable/indexing.html#indexing-view-versus-copy\n",
      "  \n"
     ]
    }
   ],
   "source": [
    "trial = ['trial 1','trial 1','trial 1','trial 1','trial 2','trial 1','trial 1','trial 3','trial 2','trial 3','trial 4','trial 2']\n",
    "df2['trial'] = trial\n"
   ]
  },
  {
   "cell_type": "code",
   "execution_count": 7,
   "metadata": {},
   "outputs": [
    {
     "data": {
      "text/plain": [
       "<bound method NDFrame.head of      Start Timestamp (ms)  Stop Timestamp (ms)        Value    trial\n",
       "148         1510002069639        1510002130051        LYING  trial 1\n",
       "150         1510002153976        1510002214893      SITTING  trial 1\n",
       "152         1510002250787        1510002311224     STANDING  trial 1\n",
       "154         1510002352692        1510002384115      WALKING  trial 1\n",
       "156         1510002415166        1510002475751     STANDING  trial 2\n",
       "158         1510002535559        1510002547458  STAIRS DOWN  trial 1\n",
       "160         1510002568801        1510002581432    STAIRS UP  trial 1\n",
       "162         1510002620624        1510002651580     STANDING  trial 3\n",
       "164         1510002668365        1510002721676      WALKING  trial 2\n",
       "166         1510002852155        1510002863746      WALKING  trial 3\n",
       "168         1510002895517        1510002925845     STANDING  trial 4\n",
       "170         1510002949365        1510003009363      SITTING  trial 2>"
      ]
     },
     "execution_count": 7,
     "metadata": {},
     "output_type": "execute_result"
    }
   ],
   "source": [
    "df2.head"
   ]
  },
  {
   "cell_type": "code",
   "execution_count": 8,
   "metadata": {},
   "outputs": [
    {
     "name": "stdout",
     "output_type": "stream",
     "text": [
      "Y:\\Inpatient Sensors -Stroke\\Data\\biostamp_data\\controls\\HC01\\sacrum\\d5la7y2l\\2017-10-30T18-20-57-099Z\n"
     ]
    }
   ],
   "source": [
    "cd sacrum\\d5la7y2l\\2017-10-30T18-20-57-099Z\\"
   ]
  },
  {
   "cell_type": "code",
   "execution_count": 9,
   "metadata": {},
   "outputs": [],
   "source": [
    "dataset1 = pd.read_csv('accel.csv')"
   ]
  },
  {
   "cell_type": "code",
   "execution_count": 10,
   "metadata": {},
   "outputs": [],
   "source": [
    "dataset2 = pd.read_csv('gyro.csv')"
   ]
  },
  {
   "cell_type": "code",
   "execution_count": 11,
   "metadata": {},
   "outputs": [
    {
     "name": "stdout",
     "output_type": "stream",
     "text": [
      "Y:\\Inpatient Sensors -Stroke\\Data\\biostamp_data\\controls\\HC01\\sacrum\\d5la7y2l\\2017-11-06T19-26-17-003Z\n"
     ]
    }
   ],
   "source": [
    "cd ..\\2017-11-06T19-26-17-003Z"
   ]
  },
  {
   "cell_type": "code",
   "execution_count": 12,
   "metadata": {},
   "outputs": [],
   "source": [
    "dataset3 = pd.read_csv('accel.csv')"
   ]
  },
  {
   "cell_type": "code",
   "execution_count": 13,
   "metadata": {},
   "outputs": [],
   "source": [
    "dataset4 = pd.read_csv('gyro.csv')"
   ]
  },
  {
   "cell_type": "code",
   "execution_count": 14,
   "metadata": {},
   "outputs": [
    {
     "name": "stdout",
     "output_type": "stream",
     "text": [
      "Y:\\Inpatient Sensors -Stroke\\Data\\biostamp_data\\controls\\HC01\\sacrum\\d5la7y2l\\2017-11-06T19-32-07-426Z\n"
     ]
    }
   ],
   "source": [
    "cd ..\\2017-11-06T19-32-07-426Z"
   ]
  },
  {
   "cell_type": "code",
   "execution_count": 15,
   "metadata": {},
   "outputs": [],
   "source": [
    "dataset5 = pd.read_csv('accel.csv')"
   ]
  },
  {
   "cell_type": "code",
   "execution_count": 16,
   "metadata": {},
   "outputs": [],
   "source": [
    "dataset6 = pd.read_csv('gyro.csv')"
   ]
  },
  {
   "cell_type": "code",
   "execution_count": 17,
   "metadata": {},
   "outputs": [],
   "source": [
    "accel = pd.DataFrame()\n",
    "gyro = pd.DataFrame()"
   ]
  },
  {
   "cell_type": "code",
   "execution_count": 18,
   "metadata": {},
   "outputs": [],
   "source": [
    "accel = accel.append([dataset1,dataset3,dataset5])\n",
    "gyro = gyro.append([dataset2,dataset4,dataset6])"
   ]
  },
  {
   "cell_type": "code",
   "execution_count": 19,
   "metadata": {},
   "outputs": [
    {
     "data": {
      "text/plain": [
       "((452140, 4), (452140, 4))"
      ]
     },
     "execution_count": 19,
     "metadata": {},
     "output_type": "execute_result"
    }
   ],
   "source": [
    "accel.shape, gyro.shape"
   ]
  },
  {
   "cell_type": "code",
   "execution_count": 20,
   "metadata": {},
   "outputs": [],
   "source": [
    "dataset7 = pd.merge(accel,gyro,how='left')"
   ]
  },
  {
   "cell_type": "code",
   "execution_count": 21,
   "metadata": {},
   "outputs": [
    {
     "data": {
      "text/html": [
       "<div>\n",
       "<style scoped>\n",
       "    .dataframe tbody tr th:only-of-type {\n",
       "        vertical-align: middle;\n",
       "    }\n",
       "\n",
       "    .dataframe tbody tr th {\n",
       "        vertical-align: top;\n",
       "    }\n",
       "\n",
       "    .dataframe thead th {\n",
       "        text-align: right;\n",
       "    }\n",
       "</style>\n",
       "<table border=\"1\" class=\"dataframe\">\n",
       "  <thead>\n",
       "    <tr style=\"text-align: right;\">\n",
       "      <th></th>\n",
       "      <th>Timestamp (ms)</th>\n",
       "      <th>Accel X (g)</th>\n",
       "      <th>Accel Y (g)</th>\n",
       "      <th>Accel Z (g)</th>\n",
       "      <th>Gyro X (°/s)</th>\n",
       "      <th>Gyro Y (°/s)</th>\n",
       "      <th>Gyro Z (°/s)</th>\n",
       "    </tr>\n",
       "  </thead>\n",
       "  <tbody>\n",
       "    <tr>\n",
       "      <th>0</th>\n",
       "      <td>1509387657099</td>\n",
       "      <td>0.094301</td>\n",
       "      <td>1.003861</td>\n",
       "      <td>0.027039</td>\n",
       "      <td>-1.068132</td>\n",
       "      <td>-5.035477</td>\n",
       "      <td>1.251240</td>\n",
       "    </tr>\n",
       "    <tr>\n",
       "      <th>1</th>\n",
       "      <td>1509387657131</td>\n",
       "      <td>0.092592</td>\n",
       "      <td>1.008377</td>\n",
       "      <td>0.024964</td>\n",
       "      <td>-0.946059</td>\n",
       "      <td>-5.767910</td>\n",
       "      <td>1.678492</td>\n",
       "    </tr>\n",
       "    <tr>\n",
       "      <th>2</th>\n",
       "      <td>1509387657163</td>\n",
       "      <td>0.095399</td>\n",
       "      <td>1.007401</td>\n",
       "      <td>0.020081</td>\n",
       "      <td>-0.762951</td>\n",
       "      <td>-7.293812</td>\n",
       "      <td>2.349889</td>\n",
       "    </tr>\n",
       "    <tr>\n",
       "      <th>3</th>\n",
       "      <td>1509387657195</td>\n",
       "      <td>0.103334</td>\n",
       "      <td>1.006546</td>\n",
       "      <td>0.028016</td>\n",
       "      <td>-1.190204</td>\n",
       "      <td>-8.148318</td>\n",
       "      <td>2.899214</td>\n",
       "    </tr>\n",
       "    <tr>\n",
       "      <th>4</th>\n",
       "      <td>1509387657227</td>\n",
       "      <td>0.111391</td>\n",
       "      <td>1.005814</td>\n",
       "      <td>0.025208</td>\n",
       "      <td>-1.068132</td>\n",
       "      <td>-7.110704</td>\n",
       "      <td>2.960250</td>\n",
       "    </tr>\n",
       "  </tbody>\n",
       "</table>\n",
       "</div>"
      ],
      "text/plain": [
       "   Timestamp (ms)  Accel X (g)  Accel Y (g)  Accel Z (g)  Gyro X (°/s)  \\\n",
       "0   1509387657099     0.094301     1.003861     0.027039     -1.068132   \n",
       "1   1509387657131     0.092592     1.008377     0.024964     -0.946059   \n",
       "2   1509387657163     0.095399     1.007401     0.020081     -0.762951   \n",
       "3   1509387657195     0.103334     1.006546     0.028016     -1.190204   \n",
       "4   1509387657227     0.111391     1.005814     0.025208     -1.068132   \n",
       "\n",
       "   Gyro Y (°/s)  Gyro Z (°/s)  \n",
       "0     -5.035477      1.251240  \n",
       "1     -5.767910      1.678492  \n",
       "2     -7.293812      2.349889  \n",
       "3     -8.148318      2.899214  \n",
       "4     -7.110704      2.960250  "
      ]
     },
     "execution_count": 21,
     "metadata": {},
     "output_type": "execute_result"
    }
   ],
   "source": [
    "dataset7.head(5)"
   ]
  },
  {
   "cell_type": "code",
   "execution_count": 22,
   "metadata": {},
   "outputs": [
    {
     "data": {
      "text/plain": [
       "(452140, 7)"
      ]
     },
     "execution_count": 22,
     "metadata": {},
     "output_type": "execute_result"
    }
   ],
   "source": [
    "dataset7.shape"
   ]
  },
  {
   "cell_type": "code",
   "execution_count": 23,
   "metadata": {},
   "outputs": [
    {
     "data": {
      "text/html": [
       "<div>\n",
       "<style scoped>\n",
       "    .dataframe tbody tr th:only-of-type {\n",
       "        vertical-align: middle;\n",
       "    }\n",
       "\n",
       "    .dataframe tbody tr th {\n",
       "        vertical-align: top;\n",
       "    }\n",
       "\n",
       "    .dataframe thead th {\n",
       "        text-align: right;\n",
       "    }\n",
       "</style>\n",
       "<table border=\"1\" class=\"dataframe\">\n",
       "  <thead>\n",
       "    <tr style=\"text-align: right;\">\n",
       "      <th></th>\n",
       "      <th>Start Timestamp (ms)</th>\n",
       "      <th>Stop Timestamp (ms)</th>\n",
       "      <th>Value</th>\n",
       "      <th>trial</th>\n",
       "    </tr>\n",
       "  </thead>\n",
       "  <tbody>\n",
       "    <tr>\n",
       "      <th>148</th>\n",
       "      <td>1510002069639</td>\n",
       "      <td>1510002130051</td>\n",
       "      <td>LYING</td>\n",
       "      <td>trial 1</td>\n",
       "    </tr>\n",
       "    <tr>\n",
       "      <th>150</th>\n",
       "      <td>1510002153976</td>\n",
       "      <td>1510002214893</td>\n",
       "      <td>SITTING</td>\n",
       "      <td>trial 1</td>\n",
       "    </tr>\n",
       "    <tr>\n",
       "      <th>152</th>\n",
       "      <td>1510002250787</td>\n",
       "      <td>1510002311224</td>\n",
       "      <td>STANDING</td>\n",
       "      <td>trial 1</td>\n",
       "    </tr>\n",
       "    <tr>\n",
       "      <th>154</th>\n",
       "      <td>1510002352692</td>\n",
       "      <td>1510002384115</td>\n",
       "      <td>WALKING</td>\n",
       "      <td>trial 1</td>\n",
       "    </tr>\n",
       "    <tr>\n",
       "      <th>156</th>\n",
       "      <td>1510002415166</td>\n",
       "      <td>1510002475751</td>\n",
       "      <td>STANDING</td>\n",
       "      <td>trial 2</td>\n",
       "    </tr>\n",
       "    <tr>\n",
       "      <th>158</th>\n",
       "      <td>1510002535559</td>\n",
       "      <td>1510002547458</td>\n",
       "      <td>STAIRS DOWN</td>\n",
       "      <td>trial 1</td>\n",
       "    </tr>\n",
       "    <tr>\n",
       "      <th>160</th>\n",
       "      <td>1510002568801</td>\n",
       "      <td>1510002581432</td>\n",
       "      <td>STAIRS UP</td>\n",
       "      <td>trial 1</td>\n",
       "    </tr>\n",
       "    <tr>\n",
       "      <th>162</th>\n",
       "      <td>1510002620624</td>\n",
       "      <td>1510002651580</td>\n",
       "      <td>STANDING</td>\n",
       "      <td>trial 3</td>\n",
       "    </tr>\n",
       "    <tr>\n",
       "      <th>164</th>\n",
       "      <td>1510002668365</td>\n",
       "      <td>1510002721676</td>\n",
       "      <td>WALKING</td>\n",
       "      <td>trial 2</td>\n",
       "    </tr>\n",
       "    <tr>\n",
       "      <th>166</th>\n",
       "      <td>1510002852155</td>\n",
       "      <td>1510002863746</td>\n",
       "      <td>WALKING</td>\n",
       "      <td>trial 3</td>\n",
       "    </tr>\n",
       "    <tr>\n",
       "      <th>168</th>\n",
       "      <td>1510002895517</td>\n",
       "      <td>1510002925845</td>\n",
       "      <td>STANDING</td>\n",
       "      <td>trial 4</td>\n",
       "    </tr>\n",
       "    <tr>\n",
       "      <th>170</th>\n",
       "      <td>1510002949365</td>\n",
       "      <td>1510003009363</td>\n",
       "      <td>SITTING</td>\n",
       "      <td>trial 2</td>\n",
       "    </tr>\n",
       "  </tbody>\n",
       "</table>\n",
       "</div>"
      ],
      "text/plain": [
       "     Start Timestamp (ms)  Stop Timestamp (ms)        Value    trial\n",
       "148         1510002069639        1510002130051        LYING  trial 1\n",
       "150         1510002153976        1510002214893      SITTING  trial 1\n",
       "152         1510002250787        1510002311224     STANDING  trial 1\n",
       "154         1510002352692        1510002384115      WALKING  trial 1\n",
       "156         1510002415166        1510002475751     STANDING  trial 2\n",
       "158         1510002535559        1510002547458  STAIRS DOWN  trial 1\n",
       "160         1510002568801        1510002581432    STAIRS UP  trial 1\n",
       "162         1510002620624        1510002651580     STANDING  trial 3\n",
       "164         1510002668365        1510002721676      WALKING  trial 2\n",
       "166         1510002852155        1510002863746      WALKING  trial 3\n",
       "168         1510002895517        1510002925845     STANDING  trial 4\n",
       "170         1510002949365        1510003009363      SITTING  trial 2"
      ]
     },
     "execution_count": 23,
     "metadata": {},
     "output_type": "execute_result"
    }
   ],
   "source": [
    "df2"
   ]
  },
  {
   "cell_type": "code",
   "execution_count": null,
   "metadata": {},
   "outputs": [],
   "source": [
    "#time = [1510002069639, 1510003009363]\n",
    "#temp = dataset7.Timestamp (ms).isin(time)\n",
    "#temp = dataset7[(dataset7['Timestamp (ms)'] >= 1510002069639) & (dataset7['Timestamp (ms)'] <= 1510003009363)]\n",
    "temp = dataset7[dataset7['Timestamp (ms)'].between(1510002069639, 1510002130051)]\n",
    "#temp = dataset7.loc[(dataset7['Timestamp (ms)'] >= 1510002069639) & (dataset7['Timestamp (ms)'] <= 1510003009363)]"
   ]
  },
  {
   "cell_type": "code",
   "execution_count": null,
   "metadata": {},
   "outputs": [],
   "source": [
    "temp.shape"
   ]
  },
  {
   "cell_type": "code",
   "execution_count": null,
   "metadata": {},
   "outputs": [],
   "source": [
    "dataset = pd.read_csv('annotations.csv')\n",
    "dataset.head(5)"
   ]
  },
  {
   "cell_type": "code",
   "execution_count": 25,
   "metadata": {},
   "outputs": [],
   "source": [
    "d1 = dataset"
   ]
  },
  {
   "cell_type": "code",
   "execution_count": 26,
   "metadata": {},
   "outputs": [
    {
     "data": {
      "text/html": [
       "<div>\n",
       "<style scoped>\n",
       "    .dataframe tbody tr th:only-of-type {\n",
       "        vertical-align: middle;\n",
       "    }\n",
       "\n",
       "    .dataframe tbody tr th {\n",
       "        vertical-align: top;\n",
       "    }\n",
       "\n",
       "    .dataframe thead th {\n",
       "        text-align: right;\n",
       "    }\n",
       "</style>\n",
       "<table border=\"1\" class=\"dataframe\">\n",
       "  <thead>\n",
       "    <tr style=\"text-align: right;\">\n",
       "      <th></th>\n",
       "      <th>Timestamp (ms)</th>\n",
       "      <th>AnnotationId</th>\n",
       "      <th>EventType</th>\n",
       "      <th>AuthorId</th>\n",
       "      <th>Start Timestamp (ms)</th>\n",
       "      <th>Stop Timestamp (ms)</th>\n",
       "      <th>Value</th>\n",
       "    </tr>\n",
       "  </thead>\n",
       "  <tbody>\n",
       "    <tr>\n",
       "      <th>0</th>\n",
       "      <td>1509388559518</td>\n",
       "      <td>Activity:Clinical - MAS</td>\n",
       "      <td>Clinical - MAS</td>\n",
       "      <td>NaN</td>\n",
       "      <td>1509388520775</td>\n",
       "      <td>1509388527445</td>\n",
       "      <td>NaN</td>\n",
       "    </tr>\n",
       "    <tr>\n",
       "      <th>1</th>\n",
       "      <td>1509388560044</td>\n",
       "      <td>ActivityQuestion:Movement Type</td>\n",
       "      <td>Movement Type</td>\n",
       "      <td>NaN</td>\n",
       "      <td>1509388527445</td>\n",
       "      <td>1509388527445</td>\n",
       "      <td>HIP FLEXION</td>\n",
       "    </tr>\n",
       "    <tr>\n",
       "      <th>2</th>\n",
       "      <td>1509388560156</td>\n",
       "      <td>ActivityQuestion:Side</td>\n",
       "      <td>Side</td>\n",
       "      <td>NaN</td>\n",
       "      <td>1509388527445</td>\n",
       "      <td>1509388527445</td>\n",
       "      <td>RIGHT</td>\n",
       "    </tr>\n",
       "    <tr>\n",
       "      <th>3</th>\n",
       "      <td>1509388588413</td>\n",
       "      <td>Activity:Clinical - MAS</td>\n",
       "      <td>Clinical - MAS</td>\n",
       "      <td>NaN</td>\n",
       "      <td>1509388573007</td>\n",
       "      <td>1509388578220</td>\n",
       "      <td>NaN</td>\n",
       "    </tr>\n",
       "    <tr>\n",
       "      <th>4</th>\n",
       "      <td>1509388588931</td>\n",
       "      <td>ActivityQuestion:Movement Type</td>\n",
       "      <td>Movement Type</td>\n",
       "      <td>NaN</td>\n",
       "      <td>1509388578220</td>\n",
       "      <td>1509388578220</td>\n",
       "      <td>HIP EXTENSION</td>\n",
       "    </tr>\n",
       "  </tbody>\n",
       "</table>\n",
       "</div>"
      ],
      "text/plain": [
       "   Timestamp (ms)                    AnnotationId       EventType  AuthorId  \\\n",
       "0   1509388559518         Activity:Clinical - MAS  Clinical - MAS       NaN   \n",
       "1   1509388560044  ActivityQuestion:Movement Type   Movement Type       NaN   \n",
       "2   1509388560156           ActivityQuestion:Side            Side       NaN   \n",
       "3   1509388588413         Activity:Clinical - MAS  Clinical - MAS       NaN   \n",
       "4   1509388588931  ActivityQuestion:Movement Type   Movement Type       NaN   \n",
       "\n",
       "   Start Timestamp (ms)  Stop Timestamp (ms)          Value  \n",
       "0         1509388520775        1509388527445            NaN  \n",
       "1         1509388527445        1509388527445    HIP FLEXION  \n",
       "2         1509388527445        1509388527445          RIGHT  \n",
       "3         1509388573007        1509388578220            NaN  \n",
       "4         1509388578220        1509388578220  HIP EXTENSION  "
      ]
     },
     "execution_count": 26,
     "metadata": {},
     "output_type": "execute_result"
    }
   ],
   "source": [
    "d1.head(5)"
   ]
  },
  {
   "cell_type": "code",
   "execution_count": 27,
   "metadata": {},
   "outputs": [],
   "source": [
    "del d1['Timestamp (ms)']\n",
    "del d1['AnnotationId']\n",
    "del d1['AuthorId']"
   ]
  },
  {
   "cell_type": "code",
   "execution_count": 28,
   "metadata": {},
   "outputs": [
    {
     "data": {
      "text/html": [
       "<div>\n",
       "<style scoped>\n",
       "    .dataframe tbody tr th:only-of-type {\n",
       "        vertical-align: middle;\n",
       "    }\n",
       "\n",
       "    .dataframe tbody tr th {\n",
       "        vertical-align: top;\n",
       "    }\n",
       "\n",
       "    .dataframe thead th {\n",
       "        text-align: right;\n",
       "    }\n",
       "</style>\n",
       "<table border=\"1\" class=\"dataframe\">\n",
       "  <thead>\n",
       "    <tr style=\"text-align: right;\">\n",
       "      <th></th>\n",
       "      <th>EventType</th>\n",
       "      <th>Start Timestamp (ms)</th>\n",
       "      <th>Stop Timestamp (ms)</th>\n",
       "      <th>Value</th>\n",
       "    </tr>\n",
       "  </thead>\n",
       "  <tbody>\n",
       "    <tr>\n",
       "      <th>0</th>\n",
       "      <td>Clinical - MAS</td>\n",
       "      <td>1509388520775</td>\n",
       "      <td>1509388527445</td>\n",
       "      <td>NaN</td>\n",
       "    </tr>\n",
       "    <tr>\n",
       "      <th>1</th>\n",
       "      <td>Movement Type</td>\n",
       "      <td>1509388527445</td>\n",
       "      <td>1509388527445</td>\n",
       "      <td>HIP FLEXION</td>\n",
       "    </tr>\n",
       "    <tr>\n",
       "      <th>2</th>\n",
       "      <td>Side</td>\n",
       "      <td>1509388527445</td>\n",
       "      <td>1509388527445</td>\n",
       "      <td>RIGHT</td>\n",
       "    </tr>\n",
       "    <tr>\n",
       "      <th>3</th>\n",
       "      <td>Clinical - MAS</td>\n",
       "      <td>1509388573007</td>\n",
       "      <td>1509388578220</td>\n",
       "      <td>NaN</td>\n",
       "    </tr>\n",
       "    <tr>\n",
       "      <th>4</th>\n",
       "      <td>Movement Type</td>\n",
       "      <td>1509388578220</td>\n",
       "      <td>1509388578220</td>\n",
       "      <td>HIP EXTENSION</td>\n",
       "    </tr>\n",
       "  </tbody>\n",
       "</table>\n",
       "</div>"
      ],
      "text/plain": [
       "        EventType  Start Timestamp (ms)  Stop Timestamp (ms)          Value\n",
       "0  Clinical - MAS         1509388520775        1509388527445            NaN\n",
       "1   Movement Type         1509388527445        1509388527445    HIP FLEXION\n",
       "2            Side         1509388527445        1509388527445          RIGHT\n",
       "3  Clinical - MAS         1509388573007        1509388578220            NaN\n",
       "4   Movement Type         1509388578220        1509388578220  HIP EXTENSION"
      ]
     },
     "execution_count": 28,
     "metadata": {},
     "output_type": "execute_result"
    }
   ],
   "source": [
    "d1.head(5)"
   ]
  },
  {
   "cell_type": "code",
   "execution_count": 29,
   "metadata": {},
   "outputs": [],
   "source": [
    " d1 = d1[d1['EventType'].str.match('Activity')]"
   ]
  },
  {
   "cell_type": "code",
   "execution_count": 30,
   "metadata": {},
   "outputs": [
    {
     "name": "stderr",
     "output_type": "stream",
     "text": [
      "C:\\Users\\lu-rto\\AppData\\Local\\Continuum\\anaconda3\\lib\\site-packages\\pandas\\core\\generic.py:3643: SettingWithCopyWarning: \n",
      "A value is trying to be set on a copy of a slice from a DataFrame.\n",
      "Try using .loc[row_indexer,col_indexer] = value instead\n",
      "\n",
      "See the caveats in the documentation: http://pandas.pydata.org/pandas-docs/stable/indexing.html#indexing-view-versus-copy\n",
      "  self[name] = value\n"
     ]
    },
    {
     "data": {
      "text/html": [
       "<div>\n",
       "<style scoped>\n",
       "    .dataframe tbody tr th:only-of-type {\n",
       "        vertical-align: middle;\n",
       "    }\n",
       "\n",
       "    .dataframe tbody tr th {\n",
       "        vertical-align: top;\n",
       "    }\n",
       "\n",
       "    .dataframe thead th {\n",
       "        text-align: right;\n",
       "    }\n",
       "</style>\n",
       "<table border=\"1\" class=\"dataframe\">\n",
       "  <thead>\n",
       "    <tr style=\"text-align: right;\">\n",
       "      <th></th>\n",
       "      <th>Start Timestamp (ms)</th>\n",
       "      <th>Stop Timestamp (ms)</th>\n",
       "      <th>Value</th>\n",
       "    </tr>\n",
       "  </thead>\n",
       "  <tbody>\n",
       "    <tr>\n",
       "      <th>148</th>\n",
       "      <td>1510002069639</td>\n",
       "      <td>1510002130051</td>\n",
       "      <td>LYING</td>\n",
       "    </tr>\n",
       "    <tr>\n",
       "      <th>149</th>\n",
       "      <td>1510002130051</td>\n",
       "      <td>1510002130051</td>\n",
       "      <td>NaN</td>\n",
       "    </tr>\n",
       "    <tr>\n",
       "      <th>150</th>\n",
       "      <td>1510002153976</td>\n",
       "      <td>1510002214893</td>\n",
       "      <td>SITTING</td>\n",
       "    </tr>\n",
       "    <tr>\n",
       "      <th>151</th>\n",
       "      <td>1510002214893</td>\n",
       "      <td>1510002214893</td>\n",
       "      <td>NaN</td>\n",
       "    </tr>\n",
       "    <tr>\n",
       "      <th>152</th>\n",
       "      <td>1510002250787</td>\n",
       "      <td>1510002311224</td>\n",
       "      <td>STANDING</td>\n",
       "    </tr>\n",
       "  </tbody>\n",
       "</table>\n",
       "</div>"
      ],
      "text/plain": [
       "     Start Timestamp (ms)  Stop Timestamp (ms)     Value\n",
       "148         1510002069639        1510002130051     LYING\n",
       "149         1510002130051        1510002130051       NaN\n",
       "150         1510002153976        1510002214893   SITTING\n",
       "151         1510002214893        1510002214893       NaN\n",
       "152         1510002250787        1510002311224  STANDING"
      ]
     },
     "execution_count": 30,
     "metadata": {},
     "output_type": "execute_result"
    }
   ],
   "source": [
    "del d1['EventType']\n",
    "d1.Value = d1.Value.shift(-1)\n",
    "d1.head(5)"
   ]
  },
  {
   "cell_type": "code",
   "execution_count": 31,
   "metadata": {},
   "outputs": [
    {
     "data": {
      "text/html": [
       "<div>\n",
       "<style scoped>\n",
       "    .dataframe tbody tr th:only-of-type {\n",
       "        vertical-align: middle;\n",
       "    }\n",
       "\n",
       "    .dataframe tbody tr th {\n",
       "        vertical-align: top;\n",
       "    }\n",
       "\n",
       "    .dataframe thead th {\n",
       "        text-align: right;\n",
       "    }\n",
       "</style>\n",
       "<table border=\"1\" class=\"dataframe\">\n",
       "  <thead>\n",
       "    <tr style=\"text-align: right;\">\n",
       "      <th></th>\n",
       "      <th>Start Timestamp (ms)</th>\n",
       "      <th>Stop Timestamp (ms)</th>\n",
       "      <th>Value</th>\n",
       "    </tr>\n",
       "  </thead>\n",
       "  <tbody>\n",
       "    <tr>\n",
       "      <th>148</th>\n",
       "      <td>1510002069639</td>\n",
       "      <td>1510002130051</td>\n",
       "      <td>LYING</td>\n",
       "    </tr>\n",
       "    <tr>\n",
       "      <th>150</th>\n",
       "      <td>1510002153976</td>\n",
       "      <td>1510002214893</td>\n",
       "      <td>SITTING</td>\n",
       "    </tr>\n",
       "    <tr>\n",
       "      <th>152</th>\n",
       "      <td>1510002250787</td>\n",
       "      <td>1510002311224</td>\n",
       "      <td>STANDING</td>\n",
       "    </tr>\n",
       "    <tr>\n",
       "      <th>154</th>\n",
       "      <td>1510002352692</td>\n",
       "      <td>1510002384115</td>\n",
       "      <td>WALKING</td>\n",
       "    </tr>\n",
       "    <tr>\n",
       "      <th>156</th>\n",
       "      <td>1510002415166</td>\n",
       "      <td>1510002475751</td>\n",
       "      <td>STANDING</td>\n",
       "    </tr>\n",
       "  </tbody>\n",
       "</table>\n",
       "</div>"
      ],
      "text/plain": [
       "     Start Timestamp (ms)  Stop Timestamp (ms)     Value\n",
       "148         1510002069639        1510002130051     LYING\n",
       "150         1510002153976        1510002214893   SITTING\n",
       "152         1510002250787        1510002311224  STANDING\n",
       "154         1510002352692        1510002384115   WALKING\n",
       "156         1510002415166        1510002475751  STANDING"
      ]
     },
     "execution_count": 31,
     "metadata": {},
     "output_type": "execute_result"
    }
   ],
   "source": [
    "d1 = d1.dropna()\n",
    "d1.head(5)"
   ]
  },
  {
   "cell_type": "code",
   "execution_count": 32,
   "metadata": {},
   "outputs": [
    {
     "data": {
      "text/html": [
       "<div>\n",
       "<style scoped>\n",
       "    .dataframe tbody tr th:only-of-type {\n",
       "        vertical-align: middle;\n",
       "    }\n",
       "\n",
       "    .dataframe tbody tr th {\n",
       "        vertical-align: top;\n",
       "    }\n",
       "\n",
       "    .dataframe thead th {\n",
       "        text-align: right;\n",
       "    }\n",
       "</style>\n",
       "<table border=\"1\" class=\"dataframe\">\n",
       "  <thead>\n",
       "    <tr style=\"text-align: right;\">\n",
       "      <th></th>\n",
       "      <th>Start Timestamp (ms)</th>\n",
       "      <th>Stop Timestamp (ms)</th>\n",
       "      <th>Value</th>\n",
       "      <th>trial</th>\n",
       "    </tr>\n",
       "  </thead>\n",
       "  <tbody>\n",
       "    <tr>\n",
       "      <th>148</th>\n",
       "      <td>1510002069639</td>\n",
       "      <td>1510002130051</td>\n",
       "      <td>LYING</td>\n",
       "      <td>trial 1</td>\n",
       "    </tr>\n",
       "    <tr>\n",
       "      <th>150</th>\n",
       "      <td>1510002153976</td>\n",
       "      <td>1510002214893</td>\n",
       "      <td>SITTING</td>\n",
       "      <td>trial 1</td>\n",
       "    </tr>\n",
       "    <tr>\n",
       "      <th>152</th>\n",
       "      <td>1510002250787</td>\n",
       "      <td>1510002311224</td>\n",
       "      <td>STANDING</td>\n",
       "      <td>trial 1</td>\n",
       "    </tr>\n",
       "    <tr>\n",
       "      <th>154</th>\n",
       "      <td>1510002352692</td>\n",
       "      <td>1510002384115</td>\n",
       "      <td>WALKING</td>\n",
       "      <td>trial 1</td>\n",
       "    </tr>\n",
       "    <tr>\n",
       "      <th>156</th>\n",
       "      <td>1510002415166</td>\n",
       "      <td>1510002475751</td>\n",
       "      <td>STANDING</td>\n",
       "      <td>trial 2</td>\n",
       "    </tr>\n",
       "    <tr>\n",
       "      <th>158</th>\n",
       "      <td>1510002535559</td>\n",
       "      <td>1510002547458</td>\n",
       "      <td>STAIRS DOWN</td>\n",
       "      <td>trial 1</td>\n",
       "    </tr>\n",
       "    <tr>\n",
       "      <th>160</th>\n",
       "      <td>1510002568801</td>\n",
       "      <td>1510002581432</td>\n",
       "      <td>STAIRS UP</td>\n",
       "      <td>trial 1</td>\n",
       "    </tr>\n",
       "    <tr>\n",
       "      <th>162</th>\n",
       "      <td>1510002620624</td>\n",
       "      <td>1510002651580</td>\n",
       "      <td>STANDING</td>\n",
       "      <td>trial 3</td>\n",
       "    </tr>\n",
       "    <tr>\n",
       "      <th>164</th>\n",
       "      <td>1510002668365</td>\n",
       "      <td>1510002721676</td>\n",
       "      <td>WALKING</td>\n",
       "      <td>trial 2</td>\n",
       "    </tr>\n",
       "    <tr>\n",
       "      <th>166</th>\n",
       "      <td>1510002852155</td>\n",
       "      <td>1510002863746</td>\n",
       "      <td>WALKING</td>\n",
       "      <td>trial 3</td>\n",
       "    </tr>\n",
       "    <tr>\n",
       "      <th>168</th>\n",
       "      <td>1510002895517</td>\n",
       "      <td>1510002925845</td>\n",
       "      <td>STANDING</td>\n",
       "      <td>trial 4</td>\n",
       "    </tr>\n",
       "    <tr>\n",
       "      <th>170</th>\n",
       "      <td>1510002949365</td>\n",
       "      <td>1510003009363</td>\n",
       "      <td>SITTING</td>\n",
       "      <td>trial 2</td>\n",
       "    </tr>\n",
       "  </tbody>\n",
       "</table>\n",
       "</div>"
      ],
      "text/plain": [
       "     Start Timestamp (ms)  Stop Timestamp (ms)        Value    trial\n",
       "148         1510002069639        1510002130051        LYING  trial 1\n",
       "150         1510002153976        1510002214893      SITTING  trial 1\n",
       "152         1510002250787        1510002311224     STANDING  trial 1\n",
       "154         1510002352692        1510002384115      WALKING  trial 1\n",
       "156         1510002415166        1510002475751     STANDING  trial 2\n",
       "158         1510002535559        1510002547458  STAIRS DOWN  trial 1\n",
       "160         1510002568801        1510002581432    STAIRS UP  trial 1\n",
       "162         1510002620624        1510002651580     STANDING  trial 3\n",
       "164         1510002668365        1510002721676      WALKING  trial 2\n",
       "166         1510002852155        1510002863746      WALKING  trial 3\n",
       "168         1510002895517        1510002925845     STANDING  trial 4\n",
       "170         1510002949365        1510003009363      SITTING  trial 2"
      ]
     },
     "execution_count": 32,
     "metadata": {},
     "output_type": "execute_result"
    }
   ],
   "source": [
    "trial = ['trial 1','trial 1','trial 1','trial 1','trial 2','trial 1','trial 1','trial 3','trial 2','trial 3','trial 4','trial 2']\n",
    "d1['trial'] = trial\n",
    "d1"
   ]
  },
  {
   "cell_type": "code",
   "execution_count": 33,
   "metadata": {},
   "outputs": [],
   "source": [
    "# debug function\n",
    "# def extract_data(SubID, path):\n",
    "timestamps = d1"
   ]
  },
  {
   "cell_type": "code",
   "execution_count": 34,
   "metadata": {},
   "outputs": [],
   "source": [
    "path = r'Y:\\Inpatient Sensors -Stroke\\Data\\biostamp_data\\controls'"
   ]
  },
  {
   "cell_type": "code",
   "execution_count": 35,
   "metadata": {},
   "outputs": [],
   "source": [
    "# Creates list of sensor locations from folders within subject's raw data directory\n",
    "locations = [locs for locs in os.listdir(path) if os.path.isdir(os.path.join(path, locs))]"
   ]
  },
  {
   "cell_type": "code",
   "execution_count": 36,
   "metadata": {},
   "outputs": [
    {
     "data": {
      "text/plain": [
       "['HC20',\n",
       " 'HC26',\n",
       " 'HC13',\n",
       " 'HC06',\n",
       " 'HC28',\n",
       " 'HC01',\n",
       " 'HC30',\n",
       " 'HC05',\n",
       " 'HC08',\n",
       " 'HC09',\n",
       " 'HC07',\n",
       " 'HC27',\n",
       " 'HC22',\n",
       " 'HC33',\n",
       " 'HC21',\n",
       " 'HC25',\n",
       " 'HC04',\n",
       " 'HC11',\n",
       " 'HC24',\n",
       " 'HC18',\n",
       " 'HC14',\n",
       " 'HC17',\n",
       " 'HC31',\n",
       " 'HC03',\n",
       " 'HC15',\n",
       " 'HC29',\n",
       " 'HC10',\n",
       " 'HC12',\n",
       " 'HC19',\n",
       " 'HC32',\n",
       " 'HC16',\n",
       " 'HC23',\n",
       " 'HC02']"
      ]
     },
     "execution_count": 36,
     "metadata": {},
     "output_type": "execute_result"
    }
   ],
   "source": [
    "locations"
   ]
  },
  {
   "cell_type": "code",
   "execution_count": null,
   "metadata": {},
   "outputs": [],
   "source": [
    "##########################################\n",
    "#########################################\n",
    "####################################\n",
    "## Start running from here...."
   ]
  },
  {
   "cell_type": "code",
   "execution_count": 51,
   "metadata": {},
   "outputs": [],
   "source": [
    "accel = {locs: pd.DataFrame() for locs in locations}\n",
    "gyro = {locs: pd.DataFrame() for locs in locations}\n",
    "elec = {locs: pd.DataFrame() for locs in locations}"
   ]
  },
  {
   "cell_type": "code",
   "execution_count": 52,
   "metadata": {},
   "outputs": [],
   "source": [
    "for root, dirs, files in os.walk(path, topdown=True):\n",
    "        for filenames in files:\n",
    "            if filenames.endswith('accel.csv'):\n",
    "                p = pathlib.Path(os.path.join(root, filenames))\n",
    "                location = str(p.relative_to(path)).split(\"\\\\\")[0]\n",
    "                temp_df = pd.read_csv(p).set_index('Timestamp (ms)')\n",
    "                accel[location] = accel[location].append(temp_df)\n"
   ]
  },
  {
   "cell_type": "code",
   "execution_count": 55,
   "metadata": {},
   "outputs": [
    {
     "name": "stdout",
     "output_type": "stream",
     "text": [
      "<bound method NDFrame.head of                 Accel X (g)  Accel Y (g)  Accel Z (g)\n",
      "Timestamp (ms)                                       \n",
      "1509387689614     -0.989212     0.068910    -0.059022\n",
      "1509387689646     -0.988724     0.068910    -0.063905\n",
      "1509387689678     -0.993606     0.060609    -0.050233\n",
      "1509387689710     -0.990677     0.062074    -0.035584\n",
      "1509387689742     -0.988724     0.059632    -0.065858\n",
      "1509387689774     -0.985794     0.063539    -0.054139\n",
      "1509387689806     -0.995560     0.098695    -0.064393\n",
      "1509387689838     -0.987747     0.084535    -0.096132\n",
      "1509387689870     -0.991165     0.112856    -0.080995\n",
      "1509387689902     -0.991653     0.123598    -0.108827\n",
      "1509387689934     -0.991653     0.134829    -0.117128\n",
      "1509387689966     -0.996048     0.113344    -0.104921\n",
      "1509387689998     -0.978958     0.125551    -0.087343\n",
      "1509387690030     -0.986282     0.100649    -0.088319\n",
      "1509387690062     -0.981888     0.085512    -0.064393\n",
      "1509387690094     -0.980423     0.083558    -0.062440\n",
      "1509387690126     -0.993606     0.085512    -0.055604\n",
      "1509387690158     -0.990677     0.069886    -0.045350\n",
      "1509387690190     -0.995071     0.060609    -0.075135\n",
      "1509387690222     -0.991165     0.036683    -0.013611\n",
      "1509387690254     -0.990188     0.039124    -0.012634\n",
      "1509387690286     -1.000931     0.024964    -0.039002\n",
      "1509387690318     -0.991653     0.037659    -0.034607\n",
      "1509387690350     -0.995071     0.012757    -0.021424\n",
      "1509387690382     -0.993118     0.000549    -0.004334\n",
      "1509387690414     -0.995071     0.003967     0.001526\n",
      "1509387690446     -0.995071     0.001526    -0.007263\n",
      "1509387690478     -0.990677    -0.009705    -0.002380\n",
      "1509387690510     -0.994583    -0.014099    -0.004822\n",
      "1509387690542     -0.993118    -0.002869     0.004944\n",
      "...                     ...          ...          ...\n",
      "1509399252663      0.065980     0.008362     1.039628\n",
      "1509399252695      0.062562     0.002502     1.035721\n",
      "1509399252727      0.065492     0.010315     1.042069\n",
      "1509399252758      0.069886     0.017151     1.033280\n",
      "1509399252790      0.059632     0.006409     1.038163\n",
      "1509399252822      0.065980     0.018128     1.037186\n",
      "1509399252853      0.061585     0.000061     1.040116\n",
      "1509399252885      0.051820     0.004456     1.030350\n",
      "1509399252917      0.062074     0.000549     1.028885\n",
      "1509399252948      0.062562     0.006409     1.053788\n",
      "1509399252980      0.056214     0.013733     1.040116\n",
      "1509399253012      0.068910     0.005921     1.036210\n",
      "1509399253043      0.068421     0.005432     1.041581\n",
      "1509399253075      0.063050     0.007385     1.050858\n",
      "1509399253107      0.063050     0.014710     1.038163\n",
      "1509399253138      0.068421     0.006409     1.043534\n",
      "1509399253170      0.061585    -0.000427     1.045975\n",
      "1509399253202      0.059144     0.003479     1.049393\n",
      "1509399253233      0.062562     0.017151     1.034257\n",
      "1509399253265      0.074281     0.009339     1.045487\n",
      "1509399253297      0.065003     0.004944     1.022049\n",
      "1509399253328      0.068421     0.002991     1.044022\n",
      "1509399253360      0.058167     0.015198     1.033280\n",
      "1509399253392      0.064515     0.006897     1.038163\n",
      "1509399253423      0.060121     0.001526     1.036210\n",
      "1509399253455      0.055238     0.006409     1.042069\n",
      "1509399253487      0.059632     0.005432     1.053300\n",
      "1509399253518      0.072328     0.011292     1.034745\n",
      "1509399253550      0.065980     0.009339     1.050370\n",
      "1509399253582      0.058167     0.002502     1.036698\n",
      "\n",
      "[6499328 rows x 3 columns]>\n"
     ]
    }
   ],
   "source": [
    "print(accel['HC01'].head)"
   ]
  },
  {
   "cell_type": "code",
   "execution_count": 38,
   "metadata": {},
   "outputs": [
    {
     "ename": "KeyboardInterrupt",
     "evalue": "",
     "output_type": "error",
     "traceback": [
      "\u001b[1;31m---------------------------------------------------------------------------\u001b[0m",
      "\u001b[1;31mKeyboardInterrupt\u001b[0m                         Traceback (most recent call last)",
      "\u001b[1;32m<ipython-input-38-870dd27598de>\u001b[0m in \u001b[0;36m<module>\u001b[1;34m()\u001b[0m\n\u001b[0;32m     16\u001b[0m                 \u001b[0mp\u001b[0m \u001b[1;33m=\u001b[0m \u001b[0mpathlib\u001b[0m\u001b[1;33m.\u001b[0m\u001b[0mPath\u001b[0m\u001b[1;33m(\u001b[0m\u001b[0mos\u001b[0m\u001b[1;33m.\u001b[0m\u001b[0mpath\u001b[0m\u001b[1;33m.\u001b[0m\u001b[0mjoin\u001b[0m\u001b[1;33m(\u001b[0m\u001b[0mroot\u001b[0m\u001b[1;33m,\u001b[0m \u001b[0mfilenames\u001b[0m\u001b[1;33m)\u001b[0m\u001b[1;33m)\u001b[0m\u001b[1;33m\u001b[0m\u001b[0m\n\u001b[0;32m     17\u001b[0m                 \u001b[0mlocation\u001b[0m \u001b[1;33m=\u001b[0m \u001b[0mstr\u001b[0m\u001b[1;33m(\u001b[0m\u001b[0mp\u001b[0m\u001b[1;33m.\u001b[0m\u001b[0mrelative_to\u001b[0m\u001b[1;33m(\u001b[0m\u001b[0mpath\u001b[0m\u001b[1;33m)\u001b[0m\u001b[1;33m)\u001b[0m\u001b[1;33m.\u001b[0m\u001b[0msplit\u001b[0m\u001b[1;33m(\u001b[0m\u001b[1;34m\"\\\\\"\u001b[0m\u001b[1;33m)\u001b[0m\u001b[1;33m[\u001b[0m\u001b[1;36m0\u001b[0m\u001b[1;33m]\u001b[0m\u001b[1;33m\u001b[0m\u001b[0m\n\u001b[1;32m---> 18\u001b[1;33m                 \u001b[0mtemp_df\u001b[0m \u001b[1;33m=\u001b[0m \u001b[0mpd\u001b[0m\u001b[1;33m.\u001b[0m\u001b[0mread_csv\u001b[0m\u001b[1;33m(\u001b[0m\u001b[0mp\u001b[0m\u001b[1;33m)\u001b[0m\u001b[1;33m.\u001b[0m\u001b[0mset_index\u001b[0m\u001b[1;33m(\u001b[0m\u001b[1;34m'Timestamp (ms)'\u001b[0m\u001b[1;33m)\u001b[0m\u001b[1;33m\u001b[0m\u001b[0m\n\u001b[0m\u001b[0;32m     19\u001b[0m                 \u001b[0melec\u001b[0m\u001b[1;33m[\u001b[0m\u001b[0mlocation\u001b[0m\u001b[1;33m]\u001b[0m \u001b[1;33m=\u001b[0m \u001b[0melec\u001b[0m\u001b[1;33m[\u001b[0m\u001b[0mlocation\u001b[0m\u001b[1;33m]\u001b[0m\u001b[1;33m.\u001b[0m\u001b[0mappend\u001b[0m\u001b[1;33m(\u001b[0m\u001b[0mtemp_df\u001b[0m\u001b[1;33m)\u001b[0m\u001b[1;33m\u001b[0m\u001b[0m\n",
      "\u001b[1;32mC:\\Users\\lu-rto\\AppData\\Local\\Continuum\\anaconda3\\lib\\site-packages\\pandas\\io\\parsers.py\u001b[0m in \u001b[0;36mparser_f\u001b[1;34m(filepath_or_buffer, sep, delimiter, header, names, index_col, usecols, squeeze, prefix, mangle_dupe_cols, dtype, engine, converters, true_values, false_values, skipinitialspace, skiprows, nrows, na_values, keep_default_na, na_filter, verbose, skip_blank_lines, parse_dates, infer_datetime_format, keep_date_col, date_parser, dayfirst, iterator, chunksize, compression, thousands, decimal, lineterminator, quotechar, quoting, escapechar, comment, encoding, dialect, tupleize_cols, error_bad_lines, warn_bad_lines, skipfooter, skip_footer, doublequote, delim_whitespace, as_recarray, compact_ints, use_unsigned, low_memory, buffer_lines, memory_map, float_precision)\u001b[0m\n\u001b[0;32m    707\u001b[0m                     skip_blank_lines=skip_blank_lines)\n\u001b[0;32m    708\u001b[0m \u001b[1;33m\u001b[0m\u001b[0m\n\u001b[1;32m--> 709\u001b[1;33m         \u001b[1;32mreturn\u001b[0m \u001b[0m_read\u001b[0m\u001b[1;33m(\u001b[0m\u001b[0mfilepath_or_buffer\u001b[0m\u001b[1;33m,\u001b[0m \u001b[0mkwds\u001b[0m\u001b[1;33m)\u001b[0m\u001b[1;33m\u001b[0m\u001b[0m\n\u001b[0m\u001b[0;32m    710\u001b[0m \u001b[1;33m\u001b[0m\u001b[0m\n\u001b[0;32m    711\u001b[0m     \u001b[0mparser_f\u001b[0m\u001b[1;33m.\u001b[0m\u001b[0m__name__\u001b[0m \u001b[1;33m=\u001b[0m \u001b[0mname\u001b[0m\u001b[1;33m\u001b[0m\u001b[0m\n",
      "\u001b[1;32mC:\\Users\\lu-rto\\AppData\\Local\\Continuum\\anaconda3\\lib\\site-packages\\pandas\\io\\parsers.py\u001b[0m in \u001b[0;36m_read\u001b[1;34m(filepath_or_buffer, kwds)\u001b[0m\n\u001b[0;32m    453\u001b[0m \u001b[1;33m\u001b[0m\u001b[0m\n\u001b[0;32m    454\u001b[0m     \u001b[1;32mtry\u001b[0m\u001b[1;33m:\u001b[0m\u001b[1;33m\u001b[0m\u001b[0m\n\u001b[1;32m--> 455\u001b[1;33m         \u001b[0mdata\u001b[0m \u001b[1;33m=\u001b[0m \u001b[0mparser\u001b[0m\u001b[1;33m.\u001b[0m\u001b[0mread\u001b[0m\u001b[1;33m(\u001b[0m\u001b[0mnrows\u001b[0m\u001b[1;33m)\u001b[0m\u001b[1;33m\u001b[0m\u001b[0m\n\u001b[0m\u001b[0;32m    456\u001b[0m     \u001b[1;32mfinally\u001b[0m\u001b[1;33m:\u001b[0m\u001b[1;33m\u001b[0m\u001b[0m\n\u001b[0;32m    457\u001b[0m         \u001b[0mparser\u001b[0m\u001b[1;33m.\u001b[0m\u001b[0mclose\u001b[0m\u001b[1;33m(\u001b[0m\u001b[1;33m)\u001b[0m\u001b[1;33m\u001b[0m\u001b[0m\n",
      "\u001b[1;32mC:\\Users\\lu-rto\\AppData\\Local\\Continuum\\anaconda3\\lib\\site-packages\\pandas\\io\\parsers.py\u001b[0m in \u001b[0;36mread\u001b[1;34m(self, nrows)\u001b[0m\n\u001b[0;32m   1067\u001b[0m                 \u001b[1;32mraise\u001b[0m \u001b[0mValueError\u001b[0m\u001b[1;33m(\u001b[0m\u001b[1;34m'skipfooter not supported for iteration'\u001b[0m\u001b[1;33m)\u001b[0m\u001b[1;33m\u001b[0m\u001b[0m\n\u001b[0;32m   1068\u001b[0m \u001b[1;33m\u001b[0m\u001b[0m\n\u001b[1;32m-> 1069\u001b[1;33m         \u001b[0mret\u001b[0m \u001b[1;33m=\u001b[0m \u001b[0mself\u001b[0m\u001b[1;33m.\u001b[0m\u001b[0m_engine\u001b[0m\u001b[1;33m.\u001b[0m\u001b[0mread\u001b[0m\u001b[1;33m(\u001b[0m\u001b[0mnrows\u001b[0m\u001b[1;33m)\u001b[0m\u001b[1;33m\u001b[0m\u001b[0m\n\u001b[0m\u001b[0;32m   1070\u001b[0m \u001b[1;33m\u001b[0m\u001b[0m\n\u001b[0;32m   1071\u001b[0m         \u001b[1;32mif\u001b[0m \u001b[0mself\u001b[0m\u001b[1;33m.\u001b[0m\u001b[0moptions\u001b[0m\u001b[1;33m.\u001b[0m\u001b[0mget\u001b[0m\u001b[1;33m(\u001b[0m\u001b[1;34m'as_recarray'\u001b[0m\u001b[1;33m)\u001b[0m\u001b[1;33m:\u001b[0m\u001b[1;33m\u001b[0m\u001b[0m\n",
      "\u001b[1;32mC:\\Users\\lu-rto\\AppData\\Local\\Continuum\\anaconda3\\lib\\site-packages\\pandas\\io\\parsers.py\u001b[0m in \u001b[0;36mread\u001b[1;34m(self, nrows)\u001b[0m\n\u001b[0;32m   1837\u001b[0m     \u001b[1;32mdef\u001b[0m \u001b[0mread\u001b[0m\u001b[1;33m(\u001b[0m\u001b[0mself\u001b[0m\u001b[1;33m,\u001b[0m \u001b[0mnrows\u001b[0m\u001b[1;33m=\u001b[0m\u001b[1;32mNone\u001b[0m\u001b[1;33m)\u001b[0m\u001b[1;33m:\u001b[0m\u001b[1;33m\u001b[0m\u001b[0m\n\u001b[0;32m   1838\u001b[0m         \u001b[1;32mtry\u001b[0m\u001b[1;33m:\u001b[0m\u001b[1;33m\u001b[0m\u001b[0m\n\u001b[1;32m-> 1839\u001b[1;33m             \u001b[0mdata\u001b[0m \u001b[1;33m=\u001b[0m \u001b[0mself\u001b[0m\u001b[1;33m.\u001b[0m\u001b[0m_reader\u001b[0m\u001b[1;33m.\u001b[0m\u001b[0mread\u001b[0m\u001b[1;33m(\u001b[0m\u001b[0mnrows\u001b[0m\u001b[1;33m)\u001b[0m\u001b[1;33m\u001b[0m\u001b[0m\n\u001b[0m\u001b[0;32m   1840\u001b[0m         \u001b[1;32mexcept\u001b[0m \u001b[0mStopIteration\u001b[0m\u001b[1;33m:\u001b[0m\u001b[1;33m\u001b[0m\u001b[0m\n\u001b[0;32m   1841\u001b[0m             \u001b[1;32mif\u001b[0m \u001b[0mself\u001b[0m\u001b[1;33m.\u001b[0m\u001b[0m_first_chunk\u001b[0m\u001b[1;33m:\u001b[0m\u001b[1;33m\u001b[0m\u001b[0m\n",
      "\u001b[1;32mpandas/_libs/parsers.pyx\u001b[0m in \u001b[0;36mpandas._libs.parsers.TextReader.read\u001b[1;34m()\u001b[0m\n",
      "\u001b[1;32mpandas/_libs/parsers.pyx\u001b[0m in \u001b[0;36mpandas._libs.parsers.TextReader._read_low_memory\u001b[1;34m()\u001b[0m\n",
      "\u001b[1;32mpandas/_libs/parsers.pyx\u001b[0m in \u001b[0;36mpandas._libs.parsers.TextReader._read_rows\u001b[1;34m()\u001b[0m\n",
      "\u001b[1;32mpandas/_libs/parsers.pyx\u001b[0m in \u001b[0;36mpandas._libs.parsers.TextReader._convert_column_data\u001b[1;34m()\u001b[0m\n",
      "\u001b[1;32mpandas/_libs/parsers.pyx\u001b[0m in \u001b[0;36mpandas._libs.parsers.TextReader._convert_tokens\u001b[1;34m()\u001b[0m\n",
      "\u001b[1;32mpandas/_libs/parsers.pyx\u001b[0m in \u001b[0;36mpandas._libs.parsers.TextReader._convert_with_dtype\u001b[1;34m()\u001b[0m\n",
      "\u001b[1;32mC:\\Users\\lu-rto\\AppData\\Local\\Continuum\\anaconda3\\lib\\site-packages\\pandas\\core\\dtypes\\common.py\u001b[0m in \u001b[0;36mis_integer_dtype\u001b[1;34m(arr_or_dtype)\u001b[0m\n\u001b[0;32m    775\u001b[0m \u001b[1;33m\u001b[0m\u001b[0m\n\u001b[0;32m    776\u001b[0m \u001b[1;33m\u001b[0m\u001b[0m\n\u001b[1;32m--> 777\u001b[1;33m \u001b[1;32mdef\u001b[0m \u001b[0mis_integer_dtype\u001b[0m\u001b[1;33m(\u001b[0m\u001b[0marr_or_dtype\u001b[0m\u001b[1;33m)\u001b[0m\u001b[1;33m:\u001b[0m\u001b[1;33m\u001b[0m\u001b[0m\n\u001b[0m\u001b[0;32m    778\u001b[0m     \"\"\"\n\u001b[0;32m    779\u001b[0m     \u001b[0mCheck\u001b[0m \u001b[0mwhether\u001b[0m \u001b[0mthe\u001b[0m \u001b[0mprovided\u001b[0m \u001b[0marray\u001b[0m \u001b[1;32mor\u001b[0m \u001b[0mdtype\u001b[0m \u001b[1;32mis\u001b[0m \u001b[0mof\u001b[0m \u001b[0man\u001b[0m \u001b[0minteger\u001b[0m \u001b[0mdtype\u001b[0m\u001b[1;33m.\u001b[0m\u001b[1;33m\u001b[0m\u001b[0m\n",
      "\u001b[1;31mKeyboardInterrupt\u001b[0m: "
     ]
    }
   ],
   "source": [
    "for root, dirs, files in os.walk(path, topdown=True):\n",
    "        for filenames in files:\n",
    "            if filenames.endswith('accel.csv'):\n",
    "                p = pathlib.Path(os.path.join(root, filenames))\n",
    "                location = str(p.relative_to(path)).split(\"\\\\\")[0]\n",
    "                temp_df = pd.read_csv(p).set_index('Timestamp (ms)')\n",
    "                accel[location] = accel[location].append(temp_df)\n",
    "\n",
    "            elif filenames.endswith('gyro.csv'):\n",
    "                p = pathlib.Path(os.path.join(root, filenames))\n",
    "                location = str(p.relative_to(path)).split(\"\\\\\")[0]\n",
    "                temp_df = pd.read_csv(p).set_index('Timestamp (ms)')\n",
    "                gyro[location] = gyro[location].append(temp_df)\n",
    "\n",
    "            elif filenames.endswith('elec.csv'):\n",
    "                p = pathlib.Path(os.path.join(root, filenames))\n",
    "                location = str(p.relative_to(path)).split(\"\\\\\")[0]\n",
    "                temp_df = pd.read_csv(p).set_index('Timestamp (ms)')\n",
    "                elec[location] = elec[location].append(temp_df)"
   ]
  },
  {
   "cell_type": "code",
   "execution_count": 56,
   "metadata": {},
   "outputs": [],
   "source": [
    "complete= list(['LYING','SITTING','STANDING','WALKING','STAIRS DOWN','STAIRS UP'])"
   ]
  },
  {
   "cell_type": "code",
   "execution_count": null,
   "metadata": {},
   "outputs": [],
   "source": [
    "# Complete dictionary of all activities\n",
    "act_dict = {acts: pd.DataFrame() for acts in complete_acts}\n",
    "\n",
    "# Populate dictionary keys per activity with every iteration / trial\n",
    "for activities in complete_acts:\n",
    "\n",
    "    startSize = timestamps.loc[activities, 'Start Timestamp (ms)']\n",
    "\n",
    "    if np.size(startSize) == 1:\n",
    "        startTimestamp = timestamps.loc[activities, 'Start Timestamp (ms)']\n",
    "        endTimestamp = timestamps.loc[activities, 'Stop Timestamp (ms)']\n",
    "    else:\n",
    "        startTimestamp = timestamps.loc[activities, 'Start Timestamp (ms)'].values\n",
    "        endTimestamp = timestamps.loc[activities, 'Stop Timestamp (ms)'].values\n",
    "\n",
    "    # Create trial dictionary with each key containing all sensor data related with each activity's trial\n",
    "    trial_dict = {trials: pd.DataFrame() for trials in range(0, np.size(startTimestamp))}\n",
    "\n",
    "    # Populate trial directory keys\n",
    "    for trials in range(0, np.size(startTimestamp)):\n",
    "\n",
    "        if np.size(startSize) == 1:\n",
    "            startTime = startTimestamp\n",
    "            endTime = endTimestamp\n",
    "        else:\n",
    "            startTime = startTimestamp[trials]\n",
    "            endTime = endTimestamp[trials]\n",
    "\n",
    "        # Create sensor location dictionary with each key corresponding to sensor locations\n",
    "        sensor_dict = {locs: pd.DataFrame() for locs in locations}\n",
    "\n",
    "        # Extract sensor data and populate sensor_dict with sensor data\n",
    "        for location in locations:\n",
    "\n",
    "            data = {'accel': pd.DataFrame(), 'gyro': pd.DataFrame(), 'elec': pd.DataFrame()}\n",
    "\n",
    "            if not accel[location].empty:\n",
    "                accelData = accel[location]\n",
    "                data['accel'] = accelData[(accelData.index >= startTime) & (accelData.index <= endTime)]  \n",
    "\n",
    "# Removed code \n",
    "            if not gyro[location].empty:\n",
    "                gyroData = gyro[location]\n",
    "                data['gyro'] = gyroData[(gyroData.index >= startTime) & (gyroData.index <= endTime)]\n",
    "\n",
    "# Removed code                    \n",
    "            if not elec[location].empty:\n",
    "                elecData = elec[location]\n",
    "                data['elec'] = elecData[(elecData.index >= startTime) & (elecData.index <= endTime)]\n",
    "# Removed code                    \n",
    "            sensor_dict[location] = data\n",
    "\n",
    "        trial_dict[trials] = sensor_dict\n",
    "\n",
    "    act_dict[activities] = trial_dict\n",
    "\n",
    "return act_dict, timestamps"
   ]
  }
 ],
 "metadata": {
  "kernelspec": {
   "display_name": "Python 3",
   "language": "python",
   "name": "python3"
  },
  "language_info": {
   "codemirror_mode": {
    "name": "ipython",
    "version": 3
   },
   "file_extension": ".py",
   "mimetype": "text/x-python",
   "name": "python",
   "nbconvert_exporter": "python",
   "pygments_lexer": "ipython3",
   "version": "3.6.4"
  }
 },
 "nbformat": 4,
 "nbformat_minor": 2
}
