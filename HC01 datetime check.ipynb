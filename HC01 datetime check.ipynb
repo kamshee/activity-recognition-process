{
 "cells": [
  {
   "cell_type": "markdown",
   "metadata": {},
   "source": [
    "# Convert UTC to datetime\n",
    "- check annotation file timestamps against data timestamps\n",
    "- they don't seem to match for HC01"
   ]
  },
  {
   "cell_type": "code",
   "execution_count": 10,
   "metadata": {},
   "outputs": [],
   "source": [
    "import datetime"
   ]
  },
  {
   "cell_type": "markdown",
   "metadata": {},
   "source": [
    "# Check annotation datetime range"
   ]
  },
  {
   "cell_type": "code",
   "execution_count": 13,
   "metadata": {},
   "outputs": [
    {
     "data": {
      "text/plain": [
       "'2017-11-06T21:02:10.051'"
      ]
     },
     "execution_count": 13,
     "metadata": {},
     "output_type": "execute_result"
    }
   ],
   "source": [
    "# annotation file\n",
    "datetime.datetime.utcfromtimestamp(1510002130051/1000).strftime('%Y-%m-%dT%H:%M:%S.%f')[:-3]"
   ]
  },
  {
   "cell_type": "code",
   "execution_count": 17,
   "metadata": {},
   "outputs": [
    {
     "name": "stdout",
     "output_type": "stream",
     "text": [
      "2017-11-06T21:01:09.639\n",
      "2017-11-06T21:16:49.363\n"
     ]
    }
   ],
   "source": [
    "# annotation timestamp range\n",
    "beg = datetime.datetime.utcfromtimestamp(1510002069639/1000).strftime('%Y-%m-%dT%H:%M:%S.%f')[:-3]\n",
    "end = datetime.datetime.utcfromtimestamp(1510003009363/1000).strftime('%Y-%m-%dT%H:%M:%S.%f')[:-3]\n",
    "print(beg)\n",
    "print(end)"
   ]
  },
  {
   "cell_type": "markdown",
   "metadata": {},
   "source": [
    "# Check HC01 datetime range"
   ]
  },
  {
   "cell_type": "code",
   "execution_count": 16,
   "metadata": {},
   "outputs": [
    {
     "data": {
      "text/plain": [
       "'2017-10-30T18:21:29.614'"
      ]
     },
     "execution_count": 16,
     "metadata": {},
     "output_type": "execute_result"
    }
   ],
   "source": [
    "# HC01 data\n",
    "datetime.datetime.utcfromtimestamp(1509387689614/1000).strftime('%Y-%m-%dT%H:%M:%S.%f')[:-3]"
   ]
  },
  {
   "cell_type": "code",
   "execution_count": 18,
   "metadata": {},
   "outputs": [
    {
     "name": "stdout",
     "output_type": "stream",
     "text": [
      "2017-10-30T18:21:29.614\n",
      "2017-10-30T21:34:49.763\n"
     ]
    }
   ],
   "source": [
    "# HC01 data range\n",
    "beg = datetime.datetime.utcfromtimestamp(1509387689614/1000).strftime('%Y-%m-%dT%H:%M:%S.%f')[:-3]\n",
    "end = datetime.datetime.utcfromtimestamp(1509399289763/1000).strftime('%Y-%m-%dT%H:%M:%S.%f')[:-3]\n",
    "print(beg)\n",
    "print(end)"
   ]
  },
  {
   "cell_type": "markdown",
   "metadata": {},
   "source": [
    "# So 8 days apart for HC01 and annotation file"
   ]
  },
  {
   "cell_type": "code",
   "execution_count": null,
   "metadata": {},
   "outputs": [],
   "source": []
  }
 ],
 "metadata": {
  "kernelspec": {
   "display_name": "Python 3",
   "language": "python",
   "name": "python3"
  },
  "language_info": {
   "codemirror_mode": {
    "name": "ipython",
    "version": 3
   },
   "file_extension": ".py",
   "mimetype": "text/x-python",
   "name": "python",
   "nbconvert_exporter": "python",
   "pygments_lexer": "ipython3",
   "version": "3.6.4"
  }
 },
 "nbformat": 4,
 "nbformat_minor": 2
}
