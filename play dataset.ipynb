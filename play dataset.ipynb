{
 "cells": [
  {
   "cell_type": "markdown",
   "metadata": {},
   "source": [
    "Dataset that I'm playing around with for the stroke sensor HC data"
   ]
  },
  {
   "cell_type": "code",
   "execution_count": 1,
   "metadata": {},
   "outputs": [
    {
     "ename": "ModuleNotFoundError",
     "evalue": "No module named 'nolds'",
     "output_type": "error",
     "traceback": [
      "\u001b[1;31m---------------------------------------------------------------------------\u001b[0m",
      "\u001b[1;31mModuleNotFoundError\u001b[0m                       Traceback (most recent call last)",
      "\u001b[1;32m<ipython-input-1-7373bd480f3c>\u001b[0m in \u001b[0;36m<module>\u001b[1;34m()\u001b[0m\n\u001b[0;32m     13\u001b[0m \u001b[1;32mfrom\u001b[0m \u001b[0mscipy\u001b[0m\u001b[1;33m.\u001b[0m\u001b[0msignal\u001b[0m \u001b[1;32mimport\u001b[0m \u001b[0mbutter\u001b[0m\u001b[1;33m,\u001b[0m \u001b[0mwelch\u001b[0m\u001b[1;33m,\u001b[0m \u001b[0mfiltfilt\u001b[0m\u001b[1;33m,\u001b[0m \u001b[0mresample\u001b[0m\u001b[1;33m\u001b[0m\u001b[0m\n\u001b[0;32m     14\u001b[0m \u001b[1;32mimport\u001b[0m \u001b[0mtime\u001b[0m\u001b[1;33m\u001b[0m\u001b[0m\n\u001b[1;32m---> 15\u001b[1;33m \u001b[1;32mimport\u001b[0m \u001b[0mnolds\u001b[0m\u001b[1;33m\u001b[0m\u001b[0m\n\u001b[0m\u001b[0;32m     16\u001b[0m \u001b[1;32mimport\u001b[0m \u001b[0mre\u001b[0m\u001b[1;33m\u001b[0m\u001b[0m\n\u001b[0;32m     17\u001b[0m \u001b[1;32mimport\u001b[0m \u001b[0mcopy\u001b[0m\u001b[1;33m\u001b[0m\u001b[0m\n",
      "\u001b[1;31mModuleNotFoundError\u001b[0m: No module named 'nolds'"
     ]
    }
   ],
   "source": [
    "# Importing the Libraries\n",
    "import os\n",
    "import platform\n",
    "import numpy as np\n",
    "import pandas as pd\n",
    "import seaborn as sns\n",
    "import matplotlib.pyplot as plt\n",
    "import datetime as dt\n",
    "import pathlib\n",
    "import pickle #to save files\n",
    "from itertools import product\n",
    "from scipy.stats import skew, kurtosis, pearsonr\n",
    "from scipy.signal import butter, welch, filtfilt, resample\n",
    "import time\n",
    "import nolds\n",
    "import re\n",
    "import copy"
   ]
  },
  {
   "cell_type": "code",
   "execution_count": 2,
   "metadata": {},
   "outputs": [
    {
     "name": "stdout",
     "output_type": "stream",
     "text": [
      "Y:\\\n"
     ]
    }
   ],
   "source": [
    "cd y:"
   ]
  },
  {
   "cell_type": "code",
   "execution_count": 3,
   "metadata": {},
   "outputs": [
    {
     "name": "stdout",
     "output_type": "stream",
     "text": [
      "Y:\\Inpatient Sensors -Stroke\\Data\\biostamp_data\\controls\\HC01\n"
     ]
    }
   ],
   "source": [
    "cd Inpatient Sensors -Stroke\\Data\\biostamp_data\\controls\\HC01"
   ]
  },
  {
   "cell_type": "code",
   "execution_count": 4,
   "metadata": {},
   "outputs": [],
   "source": [
    "dataset = pd.read_csv('annotations.csv')"
   ]
  },
  {
   "cell_type": "code",
   "execution_count": 5,
   "metadata": {},
   "outputs": [],
   "source": [
    "df1 = dataset[dataset['EventType'].str.match('Activity')]\n",
    "df1 = df1[['Start Timestamp (ms)', 'Stop Timestamp (ms)', 'Value']]\n",
    "df1.Value = df1.Value.shift(-1)\n",
    "df2 = df1.dropna()"
   ]
  },
  {
   "cell_type": "code",
   "execution_count": 6,
   "metadata": {},
   "outputs": [
    {
     "name": "stderr",
     "output_type": "stream",
     "text": [
      "C:\\Users\\lu-rto\\AppData\\Local\\Continuum\\anaconda3\\lib\\site-packages\\ipykernel_launcher.py:2: SettingWithCopyWarning: \n",
      "A value is trying to be set on a copy of a slice from a DataFrame.\n",
      "Try using .loc[row_indexer,col_indexer] = value instead\n",
      "\n",
      "See the caveats in the documentation: http://pandas.pydata.org/pandas-docs/stable/indexing.html#indexing-view-versus-copy\n",
      "  \n"
     ]
    }
   ],
   "source": [
    "trial = ['trial 1','trial 1','trial 1','trial 1','trial 2','trial 1','trial 1','trial 3','trial 2','trial 3','trial 4','trial 2']\n",
    "df2['trial'] = trial\n"
   ]
  },
  {
   "cell_type": "code",
   "execution_count": null,
   "metadata": {},
   "outputs": [],
   "source": [
    "df2.head"
   ]
  },
  {
   "cell_type": "code",
   "execution_count": 8,
   "metadata": {},
   "outputs": [
    {
     "name": "stdout",
     "output_type": "stream",
     "text": [
      "Y:\\Inpatient Sensors -Stroke\\Data\\biostamp_data\\controls\\HC01\\sacrum\\d5la7y2l\\2017-10-30T18-20-57-099Z\n"
     ]
    }
   ],
   "source": [
    "cd sacrum\\d5la7y2l\\2017-10-30T18-20-57-099Z\\"
   ]
  },
  {
   "cell_type": "code",
   "execution_count": 9,
   "metadata": {},
   "outputs": [],
   "source": [
    "dataset1 = pd.read_csv('accel.csv')"
   ]
  },
  {
   "cell_type": "code",
   "execution_count": 10,
   "metadata": {},
   "outputs": [],
   "source": [
    "dataset2 = pd.read_csv('gyro.csv')"
   ]
  },
  {
   "cell_type": "code",
   "execution_count": 11,
   "metadata": {},
   "outputs": [
    {
     "name": "stdout",
     "output_type": "stream",
     "text": [
      "Y:\\Inpatient Sensors -Stroke\\Data\\biostamp_data\\controls\\HC01\\sacrum\\d5la7y2l\\2017-11-06T19-26-17-003Z\n"
     ]
    }
   ],
   "source": [
    "cd ..\\2017-11-06T19-26-17-003Z"
   ]
  },
  {
   "cell_type": "code",
   "execution_count": 12,
   "metadata": {},
   "outputs": [],
   "source": [
    "dataset3 = pd.read_csv('accel.csv')"
   ]
  },
  {
   "cell_type": "code",
   "execution_count": 13,
   "metadata": {},
   "outputs": [],
   "source": [
    "dataset4 = pd.read_csv('gyro.csv')"
   ]
  },
  {
   "cell_type": "code",
   "execution_count": 14,
   "metadata": {},
   "outputs": [
    {
     "name": "stdout",
     "output_type": "stream",
     "text": [
      "Y:\\Inpatient Sensors -Stroke\\Data\\biostamp_data\\controls\\HC01\\sacrum\\d5la7y2l\\2017-11-06T19-32-07-426Z\n"
     ]
    }
   ],
   "source": [
    "cd ..\\2017-11-06T19-32-07-426Z"
   ]
  },
  {
   "cell_type": "code",
   "execution_count": 15,
   "metadata": {},
   "outputs": [],
   "source": [
    "dataset5 = pd.read_csv('accel.csv')"
   ]
  },
  {
   "cell_type": "code",
   "execution_count": 16,
   "metadata": {},
   "outputs": [],
   "source": [
    "dataset6 = pd.read_csv('gyro.csv')"
   ]
  },
  {
   "cell_type": "code",
   "execution_count": 17,
   "metadata": {},
   "outputs": [],
   "source": [
    "accel = pd.DataFrame()\n",
    "gyro = pd.DataFrame()"
   ]
  },
  {
   "cell_type": "code",
   "execution_count": 18,
   "metadata": {},
   "outputs": [],
   "source": [
    "accel = accel.append([dataset1,dataset3,dataset5])\n",
    "gyro = gyro.append([dataset2,dataset4,dataset6])"
   ]
  },
  {
   "cell_type": "code",
   "execution_count": 19,
   "metadata": {},
   "outputs": [
    {
     "data": {
      "text/plain": [
       "((452140, 4), (452140, 4))"
      ]
     },
     "execution_count": 19,
     "metadata": {},
     "output_type": "execute_result"
    }
   ],
   "source": [
    "accel.shape, gyro.shape"
   ]
  },
  {
   "cell_type": "code",
   "execution_count": 20,
   "metadata": {},
   "outputs": [],
   "source": [
    "dataset7 = pd.merge(accel,gyro,how='left')"
   ]
  },
  {
   "cell_type": "code",
   "execution_count": 22,
   "metadata": {},
   "outputs": [
    {
     "data": {
      "text/plain": [
       "(452140, 7)"
      ]
     },
     "execution_count": 22,
     "metadata": {},
     "output_type": "execute_result"
    }
   ],
   "source": [
    "dataset7.shape"
   ]
  },
  {
   "cell_type": "code",
   "execution_count": 23,
   "metadata": {},
   "outputs": [
    {
     "data": {
      "text/html": [
       "<div>\n",
       "<style scoped>\n",
       "    .dataframe tbody tr th:only-of-type {\n",
       "        vertical-align: middle;\n",
       "    }\n",
       "\n",
       "    .dataframe tbody tr th {\n",
       "        vertical-align: top;\n",
       "    }\n",
       "\n",
       "    .dataframe thead th {\n",
       "        text-align: right;\n",
       "    }\n",
       "</style>\n",
       "<table border=\"1\" class=\"dataframe\">\n",
       "  <thead>\n",
       "    <tr style=\"text-align: right;\">\n",
       "      <th></th>\n",
       "      <th>Start Timestamp (ms)</th>\n",
       "      <th>Stop Timestamp (ms)</th>\n",
       "      <th>Value</th>\n",
       "      <th>trial</th>\n",
       "    </tr>\n",
       "  </thead>\n",
       "  <tbody>\n",
       "    <tr>\n",
       "      <th>148</th>\n",
       "      <td>1510002069639</td>\n",
       "      <td>1510002130051</td>\n",
       "      <td>LYING</td>\n",
       "      <td>trial 1</td>\n",
       "    </tr>\n",
       "    <tr>\n",
       "      <th>150</th>\n",
       "      <td>1510002153976</td>\n",
       "      <td>1510002214893</td>\n",
       "      <td>SITTING</td>\n",
       "      <td>trial 1</td>\n",
       "    </tr>\n",
       "    <tr>\n",
       "      <th>152</th>\n",
       "      <td>1510002250787</td>\n",
       "      <td>1510002311224</td>\n",
       "      <td>STANDING</td>\n",
       "      <td>trial 1</td>\n",
       "    </tr>\n",
       "    <tr>\n",
       "      <th>154</th>\n",
       "      <td>1510002352692</td>\n",
       "      <td>1510002384115</td>\n",
       "      <td>WALKING</td>\n",
       "      <td>trial 1</td>\n",
       "    </tr>\n",
       "    <tr>\n",
       "      <th>156</th>\n",
       "      <td>1510002415166</td>\n",
       "      <td>1510002475751</td>\n",
       "      <td>STANDING</td>\n",
       "      <td>trial 2</td>\n",
       "    </tr>\n",
       "    <tr>\n",
       "      <th>158</th>\n",
       "      <td>1510002535559</td>\n",
       "      <td>1510002547458</td>\n",
       "      <td>STAIRS DOWN</td>\n",
       "      <td>trial 1</td>\n",
       "    </tr>\n",
       "    <tr>\n",
       "      <th>160</th>\n",
       "      <td>1510002568801</td>\n",
       "      <td>1510002581432</td>\n",
       "      <td>STAIRS UP</td>\n",
       "      <td>trial 1</td>\n",
       "    </tr>\n",
       "    <tr>\n",
       "      <th>162</th>\n",
       "      <td>1510002620624</td>\n",
       "      <td>1510002651580</td>\n",
       "      <td>STANDING</td>\n",
       "      <td>trial 3</td>\n",
       "    </tr>\n",
       "    <tr>\n",
       "      <th>164</th>\n",
       "      <td>1510002668365</td>\n",
       "      <td>1510002721676</td>\n",
       "      <td>WALKING</td>\n",
       "      <td>trial 2</td>\n",
       "    </tr>\n",
       "    <tr>\n",
       "      <th>166</th>\n",
       "      <td>1510002852155</td>\n",
       "      <td>1510002863746</td>\n",
       "      <td>WALKING</td>\n",
       "      <td>trial 3</td>\n",
       "    </tr>\n",
       "    <tr>\n",
       "      <th>168</th>\n",
       "      <td>1510002895517</td>\n",
       "      <td>1510002925845</td>\n",
       "      <td>STANDING</td>\n",
       "      <td>trial 4</td>\n",
       "    </tr>\n",
       "    <tr>\n",
       "      <th>170</th>\n",
       "      <td>1510002949365</td>\n",
       "      <td>1510003009363</td>\n",
       "      <td>SITTING</td>\n",
       "      <td>trial 2</td>\n",
       "    </tr>\n",
       "  </tbody>\n",
       "</table>\n",
       "</div>"
      ],
      "text/plain": [
       "     Start Timestamp (ms)  Stop Timestamp (ms)        Value    trial\n",
       "148         1510002069639        1510002130051        LYING  trial 1\n",
       "150         1510002153976        1510002214893      SITTING  trial 1\n",
       "152         1510002250787        1510002311224     STANDING  trial 1\n",
       "154         1510002352692        1510002384115      WALKING  trial 1\n",
       "156         1510002415166        1510002475751     STANDING  trial 2\n",
       "158         1510002535559        1510002547458  STAIRS DOWN  trial 1\n",
       "160         1510002568801        1510002581432    STAIRS UP  trial 1\n",
       "162         1510002620624        1510002651580     STANDING  trial 3\n",
       "164         1510002668365        1510002721676      WALKING  trial 2\n",
       "166         1510002852155        1510002863746      WALKING  trial 3\n",
       "168         1510002895517        1510002925845     STANDING  trial 4\n",
       "170         1510002949365        1510003009363      SITTING  trial 2"
      ]
     },
     "execution_count": 23,
     "metadata": {},
     "output_type": "execute_result"
    }
   ],
   "source": [
    "df2"
   ]
  },
  {
   "cell_type": "code",
   "execution_count": null,
   "metadata": {},
   "outputs": [],
   "source": [
    "#time = [1510002069639, 1510003009363]\n",
    "#temp = dataset7.Timestamp (ms).isin(time)\n",
    "#temp = dataset7[(dataset7['Timestamp (ms)'] >= 1510002069639) & (dataset7['Timestamp (ms)'] <= 1510003009363)]\n",
    "temp = dataset7[dataset7['Timestamp (ms)'].between(1510002069639, 1510002130051)]\n",
    "#temp = dataset7.loc[(dataset7['Timestamp (ms)'] >= 1510002069639) & (dataset7['Timestamp (ms)'] <= 1510003009363)]"
   ]
  },
  {
   "cell_type": "code",
   "execution_count": null,
   "metadata": {},
   "outputs": [],
   "source": [
    "temp.shape"
   ]
  },
  {
   "cell_type": "code",
   "execution_count": null,
   "metadata": {},
   "outputs": [],
   "source": [
    "dataset = pd.read_csv('annotations.csv')\n",
    "dataset.head(5)"
   ]
  },
  {
   "cell_type": "code",
   "execution_count": 25,
   "metadata": {},
   "outputs": [],
   "source": [
    "d1 = dataset"
   ]
  },
  {
   "cell_type": "code",
   "execution_count": 27,
   "metadata": {},
   "outputs": [],
   "source": [
    "del d1['Timestamp (ms)']\n",
    "del d1['AnnotationId']\n",
    "del d1['AuthorId']"
   ]
  },
  {
   "cell_type": "code",
   "execution_count": 29,
   "metadata": {},
   "outputs": [],
   "source": [
    " d1 = d1[d1['EventType'].str.match('Activity')]"
   ]
  },
  {
   "cell_type": "code",
   "execution_count": null,
   "metadata": {},
   "outputs": [],
   "source": [
    "del d1['EventType']\n",
    "d1.Value = d1.Value.shift(-1)"
   ]
  },
  {
   "cell_type": "code",
   "execution_count": null,
   "metadata": {},
   "outputs": [],
   "source": [
    "d1 = d1.dropna()"
   ]
  },
  {
   "cell_type": "code",
   "execution_count": 32,
   "metadata": {},
   "outputs": [
    {
     "data": {
      "text/html": [
       "<div>\n",
       "<style scoped>\n",
       "    .dataframe tbody tr th:only-of-type {\n",
       "        vertical-align: middle;\n",
       "    }\n",
       "\n",
       "    .dataframe tbody tr th {\n",
       "        vertical-align: top;\n",
       "    }\n",
       "\n",
       "    .dataframe thead th {\n",
       "        text-align: right;\n",
       "    }\n",
       "</style>\n",
       "<table border=\"1\" class=\"dataframe\">\n",
       "  <thead>\n",
       "    <tr style=\"text-align: right;\">\n",
       "      <th></th>\n",
       "      <th>Start Timestamp (ms)</th>\n",
       "      <th>Stop Timestamp (ms)</th>\n",
       "      <th>Value</th>\n",
       "      <th>trial</th>\n",
       "    </tr>\n",
       "  </thead>\n",
       "  <tbody>\n",
       "    <tr>\n",
       "      <th>148</th>\n",
       "      <td>1510002069639</td>\n",
       "      <td>1510002130051</td>\n",
       "      <td>LYING</td>\n",
       "      <td>trial 1</td>\n",
       "    </tr>\n",
       "    <tr>\n",
       "      <th>150</th>\n",
       "      <td>1510002153976</td>\n",
       "      <td>1510002214893</td>\n",
       "      <td>SITTING</td>\n",
       "      <td>trial 1</td>\n",
       "    </tr>\n",
       "    <tr>\n",
       "      <th>152</th>\n",
       "      <td>1510002250787</td>\n",
       "      <td>1510002311224</td>\n",
       "      <td>STANDING</td>\n",
       "      <td>trial 1</td>\n",
       "    </tr>\n",
       "    <tr>\n",
       "      <th>154</th>\n",
       "      <td>1510002352692</td>\n",
       "      <td>1510002384115</td>\n",
       "      <td>WALKING</td>\n",
       "      <td>trial 1</td>\n",
       "    </tr>\n",
       "    <tr>\n",
       "      <th>156</th>\n",
       "      <td>1510002415166</td>\n",
       "      <td>1510002475751</td>\n",
       "      <td>STANDING</td>\n",
       "      <td>trial 2</td>\n",
       "    </tr>\n",
       "    <tr>\n",
       "      <th>158</th>\n",
       "      <td>1510002535559</td>\n",
       "      <td>1510002547458</td>\n",
       "      <td>STAIRS DOWN</td>\n",
       "      <td>trial 1</td>\n",
       "    </tr>\n",
       "    <tr>\n",
       "      <th>160</th>\n",
       "      <td>1510002568801</td>\n",
       "      <td>1510002581432</td>\n",
       "      <td>STAIRS UP</td>\n",
       "      <td>trial 1</td>\n",
       "    </tr>\n",
       "    <tr>\n",
       "      <th>162</th>\n",
       "      <td>1510002620624</td>\n",
       "      <td>1510002651580</td>\n",
       "      <td>STANDING</td>\n",
       "      <td>trial 3</td>\n",
       "    </tr>\n",
       "    <tr>\n",
       "      <th>164</th>\n",
       "      <td>1510002668365</td>\n",
       "      <td>1510002721676</td>\n",
       "      <td>WALKING</td>\n",
       "      <td>trial 2</td>\n",
       "    </tr>\n",
       "    <tr>\n",
       "      <th>166</th>\n",
       "      <td>1510002852155</td>\n",
       "      <td>1510002863746</td>\n",
       "      <td>WALKING</td>\n",
       "      <td>trial 3</td>\n",
       "    </tr>\n",
       "    <tr>\n",
       "      <th>168</th>\n",
       "      <td>1510002895517</td>\n",
       "      <td>1510002925845</td>\n",
       "      <td>STANDING</td>\n",
       "      <td>trial 4</td>\n",
       "    </tr>\n",
       "    <tr>\n",
       "      <th>170</th>\n",
       "      <td>1510002949365</td>\n",
       "      <td>1510003009363</td>\n",
       "      <td>SITTING</td>\n",
       "      <td>trial 2</td>\n",
       "    </tr>\n",
       "  </tbody>\n",
       "</table>\n",
       "</div>"
      ],
      "text/plain": [
       "     Start Timestamp (ms)  Stop Timestamp (ms)        Value    trial\n",
       "148         1510002069639        1510002130051        LYING  trial 1\n",
       "150         1510002153976        1510002214893      SITTING  trial 1\n",
       "152         1510002250787        1510002311224     STANDING  trial 1\n",
       "154         1510002352692        1510002384115      WALKING  trial 1\n",
       "156         1510002415166        1510002475751     STANDING  trial 2\n",
       "158         1510002535559        1510002547458  STAIRS DOWN  trial 1\n",
       "160         1510002568801        1510002581432    STAIRS UP  trial 1\n",
       "162         1510002620624        1510002651580     STANDING  trial 3\n",
       "164         1510002668365        1510002721676      WALKING  trial 2\n",
       "166         1510002852155        1510002863746      WALKING  trial 3\n",
       "168         1510002895517        1510002925845     STANDING  trial 4\n",
       "170         1510002949365        1510003009363      SITTING  trial 2"
      ]
     },
     "execution_count": 32,
     "metadata": {},
     "output_type": "execute_result"
    }
   ],
   "source": [
    "trial = ['trial 1','trial 1','trial 1','trial 1','trial 2','trial 1','trial 1','trial 3','trial 2','trial 3','trial 4','trial 2']\n",
    "d1['trial'] = trial\n",
    "d1"
   ]
  },
  {
   "cell_type": "code",
   "execution_count": 33,
   "metadata": {},
   "outputs": [],
   "source": [
    "# debug function\n",
    "# def extract_data(SubID, path):\n",
    "timestamps = d1"
   ]
  },
  {
   "cell_type": "code",
   "execution_count": 34,
   "metadata": {},
   "outputs": [],
   "source": [
    "path = r'Y:\\Inpatient Sensors -Stroke\\Data\\biostamp_data\\controls'"
   ]
  },
  {
   "cell_type": "code",
   "execution_count": 35,
   "metadata": {},
   "outputs": [],
   "source": [
    "# Creates list of sensor locations from folders within subject's raw data directory\n",
    "locations = [locs for locs in os.listdir(path) if os.path.isdir(os.path.join(path, locs))]"
   ]
  },
  {
   "cell_type": "code",
   "execution_count": null,
   "metadata": {},
   "outputs": [],
   "source": [
    "##########################################\n",
    "#########################################\n",
    "####################################\n",
    "## Start running from here...."
   ]
  },
  {
   "cell_type": "code",
   "execution_count": 51,
   "metadata": {},
   "outputs": [],
   "source": [
    "accel = {locs: pd.DataFrame() for locs in locations}\n",
    "gyro = {locs: pd.DataFrame() for locs in locations}\n",
    "elec = {locs: pd.DataFrame() for locs in locations}"
   ]
  },
  {
   "cell_type": "code",
   "execution_count": 52,
   "metadata": {},
   "outputs": [],
   "source": [
    "for root, dirs, files in os.walk(path, topdown=True):\n",
    "        for filenames in files:\n",
    "            if filenames.endswith('accel.csv'):\n",
    "                p = pathlib.Path(os.path.join(root, filenames))\n",
    "                location = str(p.relative_to(path)).split(\"\\\\\")[0]\n",
    "                temp_df = pd.read_csv(p).set_index('Timestamp (ms)')\n",
    "                accel[location] = accel[location].append(temp_df)\n"
   ]
  },
  {
   "cell_type": "code",
   "execution_count": null,
   "metadata": {},
   "outputs": [],
   "source": [
    "for root, dirs, files in os.walk(path, topdown=True):\n",
    "        for filenames in files:\n",
    "            if filenames.endswith('accel.csv'):\n",
    "                p = pathlib.Path(os.path.join(root, filenames))\n",
    "                location = str(p.relative_to(path)).split(\"\\\\\")[0]\n",
    "                temp_df = pd.read_csv(p).set_index('Timestamp (ms)')\n",
    "                accel[location] = accel[location].append(temp_df)\n",
    "\n",
    "            elif filenames.endswith('gyro.csv'):\n",
    "                p = pathlib.Path(os.path.join(root, filenames))\n",
    "                location = str(p.relative_to(path)).split(\"\\\\\")[0]\n",
    "                temp_df = pd.read_csv(p).set_index('Timestamp (ms)')\n",
    "                gyro[location] = gyro[location].append(temp_df)\n",
    "\n",
    "            elif filenames.endswith('elec.csv'):\n",
    "                p = pathlib.Path(os.path.join(root, filenames))\n",
    "                location = str(p.relative_to(path)).split(\"\\\\\")[0]\n",
    "                temp_df = pd.read_csv(p).set_index('Timestamp (ms)')\n",
    "                elec[location] = elec[location].append(temp_df)"
   ]
  },
  {
   "cell_type": "code",
   "execution_count": 56,
   "metadata": {},
   "outputs": [],
   "source": [
    "complete= list(['LYING','SITTING','STANDING','WALKING','STAIRS DOWN','STAIRS UP'])"
   ]
  },
  {
   "cell_type": "code",
   "execution_count": null,
   "metadata": {},
   "outputs": [],
   "source": [
    "# Complete dictionary of all activities\n",
    "act_dict = {acts: pd.DataFrame() for acts in complete_acts}\n",
    "\n",
    "# Populate dictionary keys per activity with every iteration / trial\n",
    "for activities in complete_acts:\n",
    "\n",
    "    startSize = timestamps.loc[activities, 'Start Timestamp (ms)']\n",
    "\n",
    "    if np.size(startSize) == 1:\n",
    "        startTimestamp = timestamps.loc[activities, 'Start Timestamp (ms)']\n",
    "        endTimestamp = timestamps.loc[activities, 'Stop Timestamp (ms)']\n",
    "    else:\n",
    "        startTimestamp = timestamps.loc[activities, 'Start Timestamp (ms)'].values\n",
    "        endTimestamp = timestamps.loc[activities, 'Stop Timestamp (ms)'].values\n",
    "\n",
    "    # Create trial dictionary with each key containing all sensor data related with each activity's trial\n",
    "    trial_dict = {trials: pd.DataFrame() for trials in range(0, np.size(startTimestamp))}\n",
    "\n",
    "    # Populate trial directory keys\n",
    "    for trials in range(0, np.size(startTimestamp)):\n",
    "\n",
    "        if np.size(startSize) == 1:\n",
    "            startTime = startTimestamp\n",
    "            endTime = endTimestamp\n",
    "        else:\n",
    "            startTime = startTimestamp[trials]\n",
    "            endTime = endTimestamp[trials]\n",
    "\n",
    "        # Create sensor location dictionary with each key corresponding to sensor locations\n",
    "        sensor_dict = {locs: pd.DataFrame() for locs in locations}\n",
    "\n",
    "        # Extract sensor data and populate sensor_dict with sensor data\n",
    "        for location in locations:\n",
    "\n",
    "            data = {'accel': pd.DataFrame(), 'gyro': pd.DataFrame(), 'elec': pd.DataFrame()}\n",
    "\n",
    "            if not accel[location].empty:\n",
    "                accelData = accel[location]\n",
    "                data['accel'] = accelData[(accelData.index >= startTime) & (accelData.index <= endTime)]  \n",
    "\n",
    "# Removed code \n",
    "            if not gyro[location].empty:\n",
    "                gyroData = gyro[location]\n",
    "                data['gyro'] = gyroData[(gyroData.index >= startTime) & (gyroData.index <= endTime)]\n",
    "\n",
    "# Removed code                    \n",
    "            if not elec[location].empty:\n",
    "                elecData = elec[location]\n",
    "                data['elec'] = elecData[(elecData.index >= startTime) & (elecData.index <= endTime)]\n",
    "# Removed code                    \n",
    "            sensor_dict[location] = data\n",
    "\n",
    "        trial_dict[trials] = sensor_dict\n",
    "\n",
    "    act_dict[activities] = trial_dict\n",
    "\n",
    "return act_dict, timestamps"
   ]
  }
 ],
 "metadata": {
  "kernelspec": {
   "display_name": "Python 3",
   "language": "python",
   "name": "python3"
  },
  "language_info": {
   "codemirror_mode": {
    "name": "ipython",
    "version": 3
   },
   "file_extension": ".py",
   "mimetype": "text/x-python",
   "name": "python",
   "nbconvert_exporter": "python",
   "pygments_lexer": "ipython3",
   "version": "3.6.4"
  }
 },
 "nbformat": 4,
 "nbformat_minor": 2
}
