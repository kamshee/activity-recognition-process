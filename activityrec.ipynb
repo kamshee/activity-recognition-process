{
 "cells": [
  {
   "cell_type": "markdown",
   "metadata": {},
   "source": [
    "# Stroke sensor Health Control data cleaning"
   ]
  },
  {
   "cell_type": "markdown",
   "metadata": {},
   "source": [
    "#### Data extraction code modified from CIS-PD: DataPreprocessor2_wTime.ipynb\n",
    "#### https://github.com/adai2017/CIS_PD/blob/master/DataPreprocessor2_wTime.ipynb"
   ]
  },
  {
   "cell_type": "markdown",
   "metadata": {},
   "source": [
    "# Import packages"
   ]
  },
  {
   "cell_type": "code",
   "execution_count": 2,
   "metadata": {
    "ExecuteTime": {
     "end_time": "2018-12-20T21:47:14.092259Z",
     "start_time": "2018-12-20T21:47:14.086276Z"
    },
    "scrolled": true
   },
   "outputs": [],
   "source": [
    "# Importing the Libraries\n",
    "import os\n",
    "import platform\n",
    "import numpy as np\n",
    "import pandas as pd\n",
    "import seaborn as sns\n",
    "import matplotlib.pyplot as plt\n",
    "import datetime as dt\n",
    "import pathlib\n",
    "import pickle\n",
    "from itertools import product\n",
    "from scipy.stats import skew, kurtosis, pearsonr\n",
    "from scipy.signal import butter, welch, filtfilt, resample\n",
    "import time\n",
    "import re\n",
    "import copy\n",
    "%matplotlib inline"
   ]
  },
  {
   "cell_type": "code",
   "execution_count": null,
   "metadata": {},
   "outputs": [],
   "source": [
    "#-- For interactive plots--\n",
    "# from mpl_toolkits.mplot3d import Axes3D\n",
    "# %matplotlib notebook"
   ]
  },
  {
   "cell_type": "code",
   "execution_count": 3,
   "metadata": {
    "ExecuteTime": {
     "end_time": "2018-11-14T14:45:37.560488Z",
     "start_time": "2018-11-14T14:45:37.555502Z"
    }
   },
   "outputs": [
    {
     "data": {
      "text/plain": [
       "'0.23.4'"
      ]
     },
     "execution_count": 3,
     "metadata": {},
     "output_type": "execute_result"
    }
   ],
   "source": [
    "#---Pandas version required to load pickle files is 0.20.1 or greater---\n",
    "pd.__version__"
   ]
  },
  {
   "cell_type": "markdown",
   "metadata": {},
   "source": [
    "# Set paths"
   ]
  },
  {
   "cell_type": "code",
   "execution_count": 3,
   "metadata": {
    "ExecuteTime": {
     "end_time": "2018-12-20T21:47:16.712893Z",
     "start_time": "2018-12-20T21:47:16.709903Z"
    }
   },
   "outputs": [],
   "source": [
    "# if platform.system() == 'Windows':\n",
    "#     if platform.release() == '7':\n",
    "path = r'//FS2.smpp.local\\RTO\\Inpatient Sensors -Stroke\\Data\\biostamp_data\\controls'\n",
    "folder_path = r'//FS2.smpp.local\\RTO\\Inpatient Sensors -Stroke\\Data\\biostamp_data'\n",
    "dict_path = r'//FS2.smpp.local\\RTO\\Inpatient Sensors -Stroke\\Data\\biostamp_data\\Data_dict'\n",
    "        \n",
    "#        scores_path = r'X:\\CIS-PD Study\\Scores'\n",
    "#        features_path = r'X:\\CIS-PD Study\\FeatureMatrix'\n",
    "#else:\n",
    "#    path = '/Volumes/RTO/CIS-PD Study/Subjects/' #Mac\n",
    "#    folder_path = '/Volumes/RTO/CIS-PD Study/'\n",
    "#    dict_path = '../Data_dict' # Mac local path\n",
    "#    scores_path = '../Scores/' # Mac local path\n",
    "#    features_path = '../FeatureMatrix' # Mac local path\n"
   ]
  },
  {
   "cell_type": "markdown",
   "metadata": {},
   "source": [
    "# Extract Data Functions"
   ]
  },
  {
   "cell_type": "code",
   "execution_count": 4,
   "metadata": {
    "ExecuteTime": {
     "end_time": "2018-12-20T21:47:19.752745Z",
     "start_time": "2018-12-20T21:47:19.749754Z"
    }
   },
   "outputs": [],
   "source": [
    "# List based on Value data of Activity Recognition\n",
    "#    Placed in extract_data())\n",
    "complete= list(['LYING','SITTING','STANDING','WALKING','STAIRS DOWN','STAIRS UP'])"
   ]
  },
  {
   "cell_type": "code",
   "execution_count": 5,
   "metadata": {
    "ExecuteTime": {
     "end_time": "2018-12-20T21:47:23.787679Z",
     "start_time": "2018-12-20T21:47:23.749751Z"
    }
   },
   "outputs": [],
   "source": [
    "def process_annotations(path):\n",
    "    \"\"\"\n",
    "    Processes raw annotations file to extract start / end timestamps and remove unnecessary data\n",
    "    Inputs:  path - filepath of the subject folder containing annotations.csv\n",
    "    Outputs: df - dataframe containing list of activities and their start / end timestamps\n",
    "    \"\"\"\n",
    "    df = pd.read_csv(os.path.join(path, 'annotations.csv'))\n",
    "    del df['Timestamp (ms)']\n",
    "    del df['AnnotationId']\n",
    "    del df['AuthorId']\n",
    "    \n",
    "    # subset Activity Recognition data by partially match EventType string\n",
    "    df = df[df['EventType'].str.match('Activity')]\n",
    "    del df['EventType']\n",
    "    df.Value = df.Value.shift(-1)\n",
    "    df = df.dropna()\n",
    "    \n",
    "    # Create Trial column for Value\n",
    "    sorter = set(df.Value.unique().flatten())\n",
    "    sorterIndex = dict(zip(sorter, range(len(sorter))))        \n",
    "    df['Value_Rank'] = df['Value'].map(sorterIndex)\n",
    "    df['Trial'] = df.groupby('Value')['Start Timestamp (ms)'].rank(ascending=True).astype(int)\n",
    "    del df['Value_Rank']\n",
    "    df = df.reset_index(drop=True).set_index('Value')\n",
    "    \n",
    "    return df\n",
    "\n",
    "def extract_data(SubID, path):\n",
    "    \"\"\"\n",
    "    For a given subject, extracts and separates accelerometer, gyroscope, and \n",
    "    EMG/ECG data into trials and sensor per activity\n",
    "    \"\"\"\n",
    "    ## This is the annotations.csv dataset cleaned\n",
    "    ## Used to match timestamp ranges to the accel, gyro, elec data\n",
    "    timestamps = process_annotations(path)\n",
    "#    timestamps = fix_errors(SubID, timestamps)\n",
    "#    timestamps = add_unstruct_data(timestamps)\n",
    "    \n",
    "    # Creates list of sensor locations from folders within subject's raw data directory\n",
    "    locations = [locs for locs in os.listdir(path) if os.path.isdir(os.path.join(path, locs))]\n",
    "    \n",
    "    # Creates dictionary of empty dataframes to merge all accelerometer, gyroscope, and EMG/ECG data for each sensor\n",
    "    accel = {locs: pd.DataFrame() for locs in locations}\n",
    "    gyro = {locs: pd.DataFrame() for locs in locations}\n",
    "    elec = {locs: pd.DataFrame() for locs in locations}\n",
    "    \n",
    "    # Finds and merges all accelerometer, gyroscope, and EMG/ECG data for each sensor, retains datetime information\n",
    "    for root, dirs, files in os.walk(path, topdown=True):\n",
    "        for filenames in files:\n",
    "            if filenames.endswith('accel.csv'):\n",
    "                p = pathlib.Path(os.path.join(root, filenames))\n",
    "                location = str(p.relative_to(path)).split(\"\\\\\")[0]\n",
    "                temp_df = pd.read_csv(p).set_index('Timestamp (ms)')\n",
    "                accel[location] = accel[location].append(temp_df)\n",
    "\n",
    "            elif filenames.endswith('gyro.csv'):\n",
    "                p = pathlib.Path(os.path.join(root, filenames))\n",
    "                location = str(p.relative_to(path)).split(\"\\\\\")[0]\n",
    "                temp_df = pd.read_csv(p).set_index('Timestamp (ms)')\n",
    "                gyro[location] = gyro[location].append(temp_df)\n",
    "\n",
    "            elif filenames.endswith('elec.csv'):\n",
    "                p = pathlib.Path(os.path.join(root, filenames))\n",
    "                location = str(p.relative_to(path)).split(\"\\\\\")[0]\n",
    "                temp_df = pd.read_csv(p).set_index('Timestamp (ms)')\n",
    "                elec[location] = elec[location].append(temp_df)\n",
    "                \n",
    "    # List based on Value data of Activity Recognition\n",
    "    complete= list(['LYING','SITTING','STANDING','WALKING','STAIRS DOWN','STAIRS UP'])\n",
    "    complete_acts = complete\n",
    "    \n",
    "    # Complete dictionary of all activities\n",
    "    act_dict = {acts: pd.DataFrame() for acts in complete_acts}\n",
    "    \n",
    "    # Populate dictionary keys per activity with every iteration / trial\n",
    "    for activities in complete_acts:\n",
    "        \n",
    "        startSize = timestamps.loc[activities, 'Start Timestamp (ms)']\n",
    "        \n",
    "        if np.size(startSize) == 1:\n",
    "            startTimestamp = timestamps.loc[activities, 'Start Timestamp (ms)']\n",
    "            endTimestamp = timestamps.loc[activities, 'Stop Timestamp (ms)']\n",
    "        else:\n",
    "            startTimestamp = timestamps.loc[activities, 'Start Timestamp (ms)'].values\n",
    "            endTimestamp = timestamps.loc[activities, 'Stop Timestamp (ms)'].values\n",
    "\n",
    "        # Create trial dictionary with each key containing all sensor data related with each activity's trial\n",
    "        trial_dict = {trials: pd.DataFrame() for trials in range(0, np.size(startTimestamp))}\n",
    "\n",
    "        # Populate trial directory keys\n",
    "        for trials in range(0, np.size(startTimestamp)):\n",
    "\n",
    "            if np.size(startSize) == 1:\n",
    "                startTime = startTimestamp\n",
    "                endTime = endTimestamp\n",
    "            else:\n",
    "                startTime = startTimestamp[trials]\n",
    "                endTime = endTimestamp[trials]\n",
    "\n",
    "            # Create sensor location dictionary with each key corresponding to sensor locations\n",
    "            sensor_dict = {locs: pd.DataFrame() for locs in locations}\n",
    "\n",
    "            # Extract sensor data and populate sensor_dict with sensor data\n",
    "            for location in locations:\n",
    "\n",
    "                data = {'accel': pd.DataFrame(), 'gyro': pd.DataFrame(), 'elec': pd.DataFrame()}\n",
    "\n",
    "                if not accel[location].empty:\n",
    "                    accelData = accel[location]\n",
    "                    data['accel'] = accelData[(accelData.index >= startTime) & (accelData.index <= endTime)]  \n",
    " \n",
    "                if not gyro[location].empty:\n",
    "                    gyroData = gyro[location]\n",
    "                    data['gyro'] = gyroData[(gyroData.index >= startTime) & (gyroData.index <= endTime)]\n",
    "                   \n",
    "                if not elec[location].empty:\n",
    "                    elecData = elec[location]\n",
    "                    data['elec'] = elecData[(elecData.index >= startTime) & (elecData.index <= endTime)]\n",
    "                   \n",
    "                sensor_dict[location] = data\n",
    "\n",
    "            trial_dict[trials] = sensor_dict\n",
    "\n",
    "        act_dict[activities] = trial_dict\n",
    "    \n",
    "    return act_dict, timestamps\n",
    "\n",
    "def unstack_ar_dictionary(act_dict):\n",
    "    \"\"\"Takes a 4-level nested dictionary and unstacks into a activity recognition dataframe.\"\"\"\n",
    "    df = pd.DataFrame([(k1, k2, k3, k4, v) for k1, k234v in act_dict.items()\n",
    "                           for k2, k34v in k234v.items()\n",
    "                           for k3, k4v in k34v.items()\n",
    "                           for k4, v in k4v.items()])\n",
    "    df.columns = ['task','trial','location','sensor','rawdata']\n",
    "    return df\n",
    "\n",
    "def extract_date_from_timestamp(timestamp):\n",
    "    \"\"\"Convert UNIX to Timestamp data type and cleanup timestamp dataframe\n",
    "    Input: Dataframe with timestamp annotations in UNIX time in milliseconds\n",
    "    Output: Dataframe with tasks\n",
    "    \"\"\"\n",
    "    timestamp.reset_index(inplace=True)\n",
    "    timestamp.insert(1,'date',pd.to_datetime(timestamp['Start Timestamp (ms)'], unit='ms'))\n",
    "    timestamp.drop(timestamp.columns[[2,3]], inplace=True, axis=1)\n",
    "    # adjust trial number to start from 0\n",
    "    timestamp.Trial = timestamp.Trial - 1\n",
    "    # keep date only in date column\n",
    "    timestamp.date = timestamp.date.dt.date\n",
    "    # rename columns\n",
    "    timestamp.rename(index=str, columns={'Value':'task', 'Trial':'trial'}, inplace=True)\n",
    "    \n",
    "    return timestamp\n"
   ]
  },
  {
   "cell_type": "code",
   "execution_count": null,
   "metadata": {
    "code_folding": []
   },
   "outputs": [],
   "source": [
    "#def gen_unimodal_data(input_dict, side, unimodal_acts=None, shift=50):"
   ]
  },
  {
   "cell_type": "code",
   "execution_count": null,
   "metadata": {},
   "outputs": [],
   "source": [
    "#def add_unstruct_data(input_timestamp):"
   ]
  },
  {
   "cell_type": "markdown",
   "metadata": {
    "heading_collapsed": true
   },
   "source": [
    "## Extract function for graphs - nested dictionary and clipping"
   ]
  },
  {
   "cell_type": "code",
   "execution_count": null,
   "metadata": {
    "hidden": true
   },
   "outputs": [],
   "source": [
    "def subj_accel_data(act_dict,task,location):\n",
    "    \n",
    "    merged_data = pd.DataFrame()\n",
    "    \n",
    "    for trial in act_dict[task].keys():\n",
    "        \n",
    "        for s in ['accel']:\n",
    "            rawdata = act_dict[task][trial][location][s]\n",
    "            \n",
    "            #reindex time (relative to start)\n",
    "            idx = rawdata.index\n",
    "            if merged_data.empty is True:\n",
    "                idx = idx - idx[0]\n",
    "            else:\n",
    "                idx = idx - idx[0] + 32 + merged_data.index[-1]\n",
    "            rawdata.index = idx\n",
    "            \n",
    "            #append subsequent trial data\n",
    "            merged_data = merged_data.append(rawdata)\n",
    "    \n",
    "    \n",
    "    return merged_data"
   ]
  },
  {
   "cell_type": "code",
   "execution_count": null,
   "metadata": {
    "hidden": true
   },
   "outputs": [],
   "source": [
    "# Test HC02 with functions to merge trials\n",
    "\n",
    "#load Pickle file dict\n",
    "subj = 'HC02'\n",
    "f = open(os.path.join(dict_path, subj + 'dict.pkl'), 'rb')\n",
    "act_dict = pickle.load(f)\n",
    "f.close()\n",
    "\n",
    "# test function for HC02 walking sacrum accel data\n",
    "test1 = subj_accel_data(act_dict,'WALKING',location='sacrum')\n",
    "\n",
    "# merged trials vs non-merged trials\n",
    "test1.plot(figsize=(8,4))\n",
    "rawdata.plot(figsize=(8,4))"
   ]
  },
  {
   "cell_type": "code",
   "execution_count": null,
   "metadata": {
    "hidden": true
   },
   "outputs": [],
   "source": [
    "def subj_gyro_data(act_dict,task,location):\n",
    "    \n",
    "    merged_data = pd.DataFrame()\n",
    "    \n",
    "    for trial in act_dict[task].keys():\n",
    "        \n",
    "        for s in ['gyro']:\n",
    "            rawdata = act_dict[task][trial][location][s]\n",
    "            \n",
    "            #reindex time (relative to start)\n",
    "            idx = rawdata.index\n",
    "            if merged_data.empty is True:\n",
    "                idx = idx - idx[0]\n",
    "            else:\n",
    "                idx = idx - idx[0] + 32 + merged_data.index[-1]\n",
    "            rawdata.index = idx\n",
    "            \n",
    "            #append subsequent trial data\n",
    "            merged_data = merged_data.append(rawdata)\n",
    "    \n",
    "    \n",
    "    return merged_data"
   ]
  },
  {
   "cell_type": "code",
   "execution_count": null,
   "metadata": {
    "hidden": true
   },
   "outputs": [],
   "source": [
    "## Luca's function from previous PD study\n",
    "\n",
    "#extract clips for accelerometer and gyro data (allows selecting start and end fraction)\n",
    "#lentol is the % of the intended clipsize below which clip is not used\n",
    "def gen_clips(act_dict,task,location,clipsize=5000,overlap=0,verbose=False,startTS=0,endTS=1,len_tol=0.8,resample=False):\n",
    "\n",
    "    clip_data = {} #the dictionary with clips\n",
    "\n",
    "    for trial in act_dict[task].keys():\n",
    "        clip_data[trial] = {}\n",
    "\n",
    "        for s in ['accel','gyro']:\n",
    "\n",
    "            if verbose:\n",
    "                print(task,' sensortype = %s - trial %d'%(s,trial))\n",
    "            #create clips and store in a list\n",
    "            rawdata = act_dict[task][trial][location][s]\n",
    "            if rawdata.empty is True: #skip if no data for current sensor\n",
    "                continue\n",
    "            #reindex time (relative to start)\n",
    "            idx = rawdata.index\n",
    "            idx = idx-idx[0]\n",
    "            rawdata.index = idx\n",
    "            #choose to create clips only on a fraction of the data (0<[startTS,endTS]<1)\n",
    "            if (startTS > 0) | (endTS < 1):\n",
    "                rawdata = rawdata.iloc[round(startTS*len(rawdata)):round(endTS*len(rawdata)),:]\n",
    "                #reindex time (relative to start)\n",
    "                idx = rawdata.index\n",
    "                idx = idx-idx[0]\n",
    "                rawdata.index = idx\n",
    "            #create clips data\n",
    "            deltat = np.median(np.diff(rawdata.index))\n",
    "            clips = []\n",
    "            #use entire recording\n",
    "            if clipsize == 0:\n",
    "                clips.append(rawdata)\n",
    "            #take clips\n",
    "            else:\n",
    "                idx = np.arange(0,rawdata.index[-1],clipsize*(1-overlap))\n",
    "                for i in idx:\n",
    "                    c = rawdata[(rawdata.index>=i) & (rawdata.index<i+clipsize)]\n",
    "                    if len(c) > len_tol*int(clipsize/deltat): #discard clips whose length is less than len_tol% of the window size\n",
    "                        clips.append(c)\n",
    "\n",
    "            #store clip length\n",
    "            clip_len = [clips[c].index[-1]-clips[c].index[0] for c in range(len(clips))] #store the length of each clip\n",
    "            #assemble in dict\n",
    "            clip_data[trial][s] = {'data':clips, 'clip_len':clip_len}\n",
    "\n",
    "    return clip_data"
   ]
  },
  {
   "cell_type": "markdown",
   "metadata": {},
   "source": [
    "# Testing"
   ]
  },
  {
   "cell_type": "markdown",
   "metadata": {
    "heading_collapsed": true
   },
   "source": [
    "## 1. Test HC03 and see if data is similar to HC02 in missing data for 13 sensors"
   ]
  },
  {
   "cell_type": "code",
   "execution_count": 7,
   "metadata": {
    "hidden": true
   },
   "outputs": [],
   "source": [
    "SubID = 'HC03'\n",
    "act_dict, timestamps = extract_data(SubID, os.path.join(path, SubID))"
   ]
  },
  {
   "cell_type": "code",
   "execution_count": 10,
   "metadata": {
    "hidden": true
   },
   "outputs": [],
   "source": [
    "unstacked = unstack_ar_dictionary(act_dict)"
   ]
  },
  {
   "cell_type": "code",
   "execution_count": 11,
   "metadata": {
    "hidden": true,
    "scrolled": true
   },
   "outputs": [
    {
     "data": {
      "text/html": [
       "<div>\n",
       "<style scoped>\n",
       "    .dataframe tbody tr th:only-of-type {\n",
       "        vertical-align: middle;\n",
       "    }\n",
       "\n",
       "    .dataframe tbody tr th {\n",
       "        vertical-align: top;\n",
       "    }\n",
       "\n",
       "    .dataframe thead th {\n",
       "        text-align: right;\n",
       "    }\n",
       "</style>\n",
       "<table border=\"1\" class=\"dataframe\">\n",
       "  <thead>\n",
       "    <tr style=\"text-align: right;\">\n",
       "      <th></th>\n",
       "      <th>Start Timestamp (ms)</th>\n",
       "      <th>Stop Timestamp (ms)</th>\n",
       "      <th>Trial</th>\n",
       "    </tr>\n",
       "    <tr>\n",
       "      <th>Value</th>\n",
       "      <th></th>\n",
       "      <th></th>\n",
       "      <th></th>\n",
       "    </tr>\n",
       "  </thead>\n",
       "  <tbody>\n",
       "    <tr>\n",
       "      <th>LYING</th>\n",
       "      <td>1510866952700</td>\n",
       "      <td>1510867012883</td>\n",
       "      <td>1</td>\n",
       "    </tr>\n",
       "    <tr>\n",
       "      <th>SITTING</th>\n",
       "      <td>1510867046108</td>\n",
       "      <td>1510867106433</td>\n",
       "      <td>1</td>\n",
       "    </tr>\n",
       "    <tr>\n",
       "      <th>STANDING</th>\n",
       "      <td>1510867138114</td>\n",
       "      <td>1510867169089</td>\n",
       "      <td>1</td>\n",
       "    </tr>\n",
       "    <tr>\n",
       "      <th>SIT TO STAND</th>\n",
       "      <td>1510867241126</td>\n",
       "      <td>1510867249430</td>\n",
       "      <td>1</td>\n",
       "    </tr>\n",
       "    <tr>\n",
       "      <th>WALKING</th>\n",
       "      <td>1510867311946</td>\n",
       "      <td>1510867369415</td>\n",
       "      <td>1</td>\n",
       "    </tr>\n",
       "    <tr>\n",
       "      <th>STANDING</th>\n",
       "      <td>1510867402779</td>\n",
       "      <td>1510867433145</td>\n",
       "      <td>2</td>\n",
       "    </tr>\n",
       "    <tr>\n",
       "      <th>STAIRS DOWN</th>\n",
       "      <td>1510867477434</td>\n",
       "      <td>1510867487647</td>\n",
       "      <td>1</td>\n",
       "    </tr>\n",
       "    <tr>\n",
       "      <th>STAIRS UP</th>\n",
       "      <td>1510867523414</td>\n",
       "      <td>1510867533970</td>\n",
       "      <td>1</td>\n",
       "    </tr>\n",
       "    <tr>\n",
       "      <th>STANDING</th>\n",
       "      <td>1510867559336</td>\n",
       "      <td>1510867589710</td>\n",
       "      <td>3</td>\n",
       "    </tr>\n",
       "    <tr>\n",
       "      <th>WALKING</th>\n",
       "      <td>1510867607621</td>\n",
       "      <td>1510867647853</td>\n",
       "      <td>2</td>\n",
       "    </tr>\n",
       "    <tr>\n",
       "      <th>STANDING</th>\n",
       "      <td>1510867666680</td>\n",
       "      <td>1510867697018</td>\n",
       "      <td>4</td>\n",
       "    </tr>\n",
       "    <tr>\n",
       "      <th>STAND TO SIT</th>\n",
       "      <td>1510867713559</td>\n",
       "      <td>1510867720626</td>\n",
       "      <td>1</td>\n",
       "    </tr>\n",
       "    <tr>\n",
       "      <th>SITTING</th>\n",
       "      <td>1510867735536</td>\n",
       "      <td>1510867795786</td>\n",
       "      <td>2</td>\n",
       "    </tr>\n",
       "    <tr>\n",
       "      <th>LYING</th>\n",
       "      <td>1510868001412</td>\n",
       "      <td>1510868061767</td>\n",
       "      <td>2</td>\n",
       "    </tr>\n",
       "    <tr>\n",
       "      <th>SITTING</th>\n",
       "      <td>1510868074204</td>\n",
       "      <td>1510868134559</td>\n",
       "      <td>3</td>\n",
       "    </tr>\n",
       "    <tr>\n",
       "      <th>SIT TO STAND</th>\n",
       "      <td>1510868148250</td>\n",
       "      <td>1510868155579</td>\n",
       "      <td>2</td>\n",
       "    </tr>\n",
       "    <tr>\n",
       "      <th>STANDING</th>\n",
       "      <td>1510868168971</td>\n",
       "      <td>1510868199131</td>\n",
       "      <td>5</td>\n",
       "    </tr>\n",
       "    <tr>\n",
       "      <th>WALKING</th>\n",
       "      <td>1510868247647</td>\n",
       "      <td>1510868299814</td>\n",
       "      <td>3</td>\n",
       "    </tr>\n",
       "    <tr>\n",
       "      <th>STANDING</th>\n",
       "      <td>1510868347015</td>\n",
       "      <td>1510868377430</td>\n",
       "      <td>6</td>\n",
       "    </tr>\n",
       "    <tr>\n",
       "      <th>STAIRS DOWN</th>\n",
       "      <td>1510868419074</td>\n",
       "      <td>1510868428035</td>\n",
       "      <td>2</td>\n",
       "    </tr>\n",
       "    <tr>\n",
       "      <th>STAIRS UP</th>\n",
       "      <td>1510868483235</td>\n",
       "      <td>1510868492432</td>\n",
       "      <td>2</td>\n",
       "    </tr>\n",
       "    <tr>\n",
       "      <th>STANDING</th>\n",
       "      <td>1510868524513</td>\n",
       "      <td>1510868554867</td>\n",
       "      <td>7</td>\n",
       "    </tr>\n",
       "    <tr>\n",
       "      <th>WALKING</th>\n",
       "      <td>1510868579503</td>\n",
       "      <td>1510868616747</td>\n",
       "      <td>4</td>\n",
       "    </tr>\n",
       "    <tr>\n",
       "      <th>STANDING</th>\n",
       "      <td>1510868637115</td>\n",
       "      <td>1510868667394</td>\n",
       "      <td>8</td>\n",
       "    </tr>\n",
       "    <tr>\n",
       "      <th>STAND TO SIT</th>\n",
       "      <td>1510868681393</td>\n",
       "      <td>1510868687501</td>\n",
       "      <td>2</td>\n",
       "    </tr>\n",
       "    <tr>\n",
       "      <th>SITTING</th>\n",
       "      <td>1510868704314</td>\n",
       "      <td>1510868764667</td>\n",
       "      <td>4</td>\n",
       "    </tr>\n",
       "  </tbody>\n",
       "</table>\n",
       "</div>"
      ],
      "text/plain": [
       "              Start Timestamp (ms)  Stop Timestamp (ms)  Trial\n",
       "Value                                                         \n",
       "LYING                1510866952700        1510867012883      1\n",
       "SITTING              1510867046108        1510867106433      1\n",
       "STANDING             1510867138114        1510867169089      1\n",
       "SIT TO STAND         1510867241126        1510867249430      1\n",
       "WALKING              1510867311946        1510867369415      1\n",
       "STANDING             1510867402779        1510867433145      2\n",
       "STAIRS DOWN          1510867477434        1510867487647      1\n",
       "STAIRS UP            1510867523414        1510867533970      1\n",
       "STANDING             1510867559336        1510867589710      3\n",
       "WALKING              1510867607621        1510867647853      2\n",
       "STANDING             1510867666680        1510867697018      4\n",
       "STAND TO SIT         1510867713559        1510867720626      1\n",
       "SITTING              1510867735536        1510867795786      2\n",
       "LYING                1510868001412        1510868061767      2\n",
       "SITTING              1510868074204        1510868134559      3\n",
       "SIT TO STAND         1510868148250        1510868155579      2\n",
       "STANDING             1510868168971        1510868199131      5\n",
       "WALKING              1510868247647        1510868299814      3\n",
       "STANDING             1510868347015        1510868377430      6\n",
       "STAIRS DOWN          1510868419074        1510868428035      2\n",
       "STAIRS UP            1510868483235        1510868492432      2\n",
       "STANDING             1510868524513        1510868554867      7\n",
       "WALKING              1510868579503        1510868616747      4\n",
       "STANDING             1510868637115        1510868667394      8\n",
       "STAND TO SIT         1510868681393        1510868687501      2\n",
       "SITTING              1510868704314        1510868764667      4"
      ]
     },
     "execution_count": 11,
     "metadata": {},
     "output_type": "execute_result"
    }
   ],
   "source": [
    "timestamps"
   ]
  },
  {
   "cell_type": "code",
   "execution_count": 13,
   "metadata": {
    "hidden": true,
    "scrolled": true
   },
   "outputs": [
    {
     "data": {
      "text/html": [
       "<div>\n",
       "<style scoped>\n",
       "    .dataframe tbody tr th:only-of-type {\n",
       "        vertical-align: middle;\n",
       "    }\n",
       "\n",
       "    .dataframe tbody tr th {\n",
       "        vertical-align: top;\n",
       "    }\n",
       "\n",
       "    .dataframe thead th {\n",
       "        text-align: right;\n",
       "    }\n",
       "</style>\n",
       "<table border=\"1\" class=\"dataframe\">\n",
       "  <thead>\n",
       "    <tr style=\"text-align: right;\">\n",
       "      <th></th>\n",
       "      <th>task</th>\n",
       "      <th>trial</th>\n",
       "      <th>location</th>\n",
       "      <th>sensor</th>\n",
       "      <th>rawdata</th>\n",
       "    </tr>\n",
       "  </thead>\n",
       "  <tbody>\n",
       "    <tr>\n",
       "      <th>0</th>\n",
       "      <td>LYING</td>\n",
       "      <td>0</td>\n",
       "      <td>biceps_femoris_left</td>\n",
       "      <td>accel</td>\n",
       "      <td>Accel X (g)  Accel Y (g)  Acce...</td>\n",
       "    </tr>\n",
       "    <tr>\n",
       "      <th>3</th>\n",
       "      <td>LYING</td>\n",
       "      <td>0</td>\n",
       "      <td>biceps_femoris_right</td>\n",
       "      <td>accel</td>\n",
       "      <td>Accel X (g)  Accel Y (g)  Acce...</td>\n",
       "    </tr>\n",
       "    <tr>\n",
       "      <th>6</th>\n",
       "      <td>LYING</td>\n",
       "      <td>0</td>\n",
       "      <td>bicep_left</td>\n",
       "      <td>accel</td>\n",
       "      <td>Accel X (g)  Accel Y (g)  Acce...</td>\n",
       "    </tr>\n",
       "    <tr>\n",
       "      <th>9</th>\n",
       "      <td>LYING</td>\n",
       "      <td>0</td>\n",
       "      <td>bicep_right</td>\n",
       "      <td>accel</td>\n",
       "      <td>Accel X (g)  Accel Y (g)  Acce...</td>\n",
       "    </tr>\n",
       "    <tr>\n",
       "      <th>12</th>\n",
       "      <td>LYING</td>\n",
       "      <td>0</td>\n",
       "      <td>distal_lateral_shank_left</td>\n",
       "      <td>accel</td>\n",
       "      <td>Accel X (g)  Accel Y (g)  Acce...</td>\n",
       "    </tr>\n",
       "    <tr>\n",
       "      <th>15</th>\n",
       "      <td>LYING</td>\n",
       "      <td>0</td>\n",
       "      <td>distal_lateral_shank_right</td>\n",
       "      <td>accel</td>\n",
       "      <td>Accel X (g)  Accel Y (g)  Acce...</td>\n",
       "    </tr>\n",
       "    <tr>\n",
       "      <th>18</th>\n",
       "      <td>LYING</td>\n",
       "      <td>0</td>\n",
       "      <td>gastrocnemius_left</td>\n",
       "      <td>accel</td>\n",
       "      <td>Accel X (g)  Accel Y (g)  Acce...</td>\n",
       "    </tr>\n",
       "    <tr>\n",
       "      <th>21</th>\n",
       "      <td>LYING</td>\n",
       "      <td>0</td>\n",
       "      <td>gastrocnemius_right</td>\n",
       "      <td>accel</td>\n",
       "      <td>Accel X (g)  Accel Y (g)  Acce...</td>\n",
       "    </tr>\n",
       "    <tr>\n",
       "      <th>24</th>\n",
       "      <td>LYING</td>\n",
       "      <td>0</td>\n",
       "      <td>medial_chest</td>\n",
       "      <td>accel</td>\n",
       "      <td>Accel X (g)  Accel Y (g)  Acce...</td>\n",
       "    </tr>\n",
       "    <tr>\n",
       "      <th>27</th>\n",
       "      <td>LYING</td>\n",
       "      <td>0</td>\n",
       "      <td>posterior_forearm_left</td>\n",
       "      <td>accel</td>\n",
       "      <td>Accel X (g)  Accel Y (g)  Acce...</td>\n",
       "    </tr>\n",
       "    <tr>\n",
       "      <th>30</th>\n",
       "      <td>LYING</td>\n",
       "      <td>0</td>\n",
       "      <td>posterior_forearm_right</td>\n",
       "      <td>accel</td>\n",
       "      <td>Accel X (g)  Accel Y (g)  Acce...</td>\n",
       "    </tr>\n",
       "    <tr>\n",
       "      <th>33</th>\n",
       "      <td>LYING</td>\n",
       "      <td>0</td>\n",
       "      <td>rectus_femoris_left</td>\n",
       "      <td>accel</td>\n",
       "      <td>Accel X (g)  Accel Y (g)  Acce...</td>\n",
       "    </tr>\n",
       "    <tr>\n",
       "      <th>36</th>\n",
       "      <td>LYING</td>\n",
       "      <td>0</td>\n",
       "      <td>rectus_femoris_right</td>\n",
       "      <td>accel</td>\n",
       "      <td>Accel X (g)  Accel Y (g)  Acce...</td>\n",
       "    </tr>\n",
       "    <tr>\n",
       "      <th>39</th>\n",
       "      <td>LYING</td>\n",
       "      <td>0</td>\n",
       "      <td>sacrum</td>\n",
       "      <td>accel</td>\n",
       "      <td>Accel X (g)  Accel Y (g)  Acce...</td>\n",
       "    </tr>\n",
       "    <tr>\n",
       "      <th>42</th>\n",
       "      <td>LYING</td>\n",
       "      <td>0</td>\n",
       "      <td>tibialis_anterior_left</td>\n",
       "      <td>accel</td>\n",
       "      <td>Accel X (g)  Accel Y (g)  Acce...</td>\n",
       "    </tr>\n",
       "    <tr>\n",
       "      <th>45</th>\n",
       "      <td>LYING</td>\n",
       "      <td>0</td>\n",
       "      <td>tibialis_anterior_right</td>\n",
       "      <td>accel</td>\n",
       "      <td>Accel X (g)  Accel Y (g)  Acce...</td>\n",
       "    </tr>\n",
       "    <tr>\n",
       "      <th>48</th>\n",
       "      <td>LYING</td>\n",
       "      <td>1</td>\n",
       "      <td>biceps_femoris_left</td>\n",
       "      <td>accel</td>\n",
       "      <td>Accel X (g)  Accel Y (g)  Acce...</td>\n",
       "    </tr>\n",
       "    <tr>\n",
       "      <th>51</th>\n",
       "      <td>LYING</td>\n",
       "      <td>1</td>\n",
       "      <td>biceps_femoris_right</td>\n",
       "      <td>accel</td>\n",
       "      <td>Accel X (g)  Accel Y (g)  Acce...</td>\n",
       "    </tr>\n",
       "    <tr>\n",
       "      <th>54</th>\n",
       "      <td>LYING</td>\n",
       "      <td>1</td>\n",
       "      <td>bicep_left</td>\n",
       "      <td>accel</td>\n",
       "      <td>Accel X (g)  Accel Y (g)  Acce...</td>\n",
       "    </tr>\n",
       "    <tr>\n",
       "      <th>57</th>\n",
       "      <td>LYING</td>\n",
       "      <td>1</td>\n",
       "      <td>bicep_right</td>\n",
       "      <td>accel</td>\n",
       "      <td>Accel X (g)  Accel Y (g)  Acce...</td>\n",
       "    </tr>\n",
       "    <tr>\n",
       "      <th>60</th>\n",
       "      <td>LYING</td>\n",
       "      <td>1</td>\n",
       "      <td>distal_lateral_shank_left</td>\n",
       "      <td>accel</td>\n",
       "      <td>Accel X (g)  Accel Y (g)  Acce...</td>\n",
       "    </tr>\n",
       "    <tr>\n",
       "      <th>63</th>\n",
       "      <td>LYING</td>\n",
       "      <td>1</td>\n",
       "      <td>distal_lateral_shank_right</td>\n",
       "      <td>accel</td>\n",
       "      <td>Accel X (g)  Accel Y (g)  Acce...</td>\n",
       "    </tr>\n",
       "    <tr>\n",
       "      <th>66</th>\n",
       "      <td>LYING</td>\n",
       "      <td>1</td>\n",
       "      <td>gastrocnemius_left</td>\n",
       "      <td>accel</td>\n",
       "      <td>Accel X (g)  Accel Y (g)  Acce...</td>\n",
       "    </tr>\n",
       "    <tr>\n",
       "      <th>69</th>\n",
       "      <td>LYING</td>\n",
       "      <td>1</td>\n",
       "      <td>gastrocnemius_right</td>\n",
       "      <td>accel</td>\n",
       "      <td>Accel X (g)  Accel Y (g)  Acce...</td>\n",
       "    </tr>\n",
       "    <tr>\n",
       "      <th>72</th>\n",
       "      <td>LYING</td>\n",
       "      <td>1</td>\n",
       "      <td>medial_chest</td>\n",
       "      <td>accel</td>\n",
       "      <td>Accel X (g)  Accel Y (g)  Acce...</td>\n",
       "    </tr>\n",
       "    <tr>\n",
       "      <th>75</th>\n",
       "      <td>LYING</td>\n",
       "      <td>1</td>\n",
       "      <td>posterior_forearm_left</td>\n",
       "      <td>accel</td>\n",
       "      <td>Accel X (g)  Accel Y (g)  Acce...</td>\n",
       "    </tr>\n",
       "    <tr>\n",
       "      <th>78</th>\n",
       "      <td>LYING</td>\n",
       "      <td>1</td>\n",
       "      <td>posterior_forearm_right</td>\n",
       "      <td>accel</td>\n",
       "      <td>Accel X (g)  Accel Y (g)  Acce...</td>\n",
       "    </tr>\n",
       "    <tr>\n",
       "      <th>81</th>\n",
       "      <td>LYING</td>\n",
       "      <td>1</td>\n",
       "      <td>rectus_femoris_left</td>\n",
       "      <td>accel</td>\n",
       "      <td>Accel X (g)  Accel Y (g)  Acce...</td>\n",
       "    </tr>\n",
       "    <tr>\n",
       "      <th>84</th>\n",
       "      <td>LYING</td>\n",
       "      <td>1</td>\n",
       "      <td>rectus_femoris_right</td>\n",
       "      <td>accel</td>\n",
       "      <td>Accel X (g)  Accel Y (g)  Acce...</td>\n",
       "    </tr>\n",
       "    <tr>\n",
       "      <th>87</th>\n",
       "      <td>LYING</td>\n",
       "      <td>1</td>\n",
       "      <td>sacrum</td>\n",
       "      <td>accel</td>\n",
       "      <td>Accel X (g)  Accel Y (g)  Acce...</td>\n",
       "    </tr>\n",
       "    <tr>\n",
       "      <th>...</th>\n",
       "      <td>...</td>\n",
       "      <td>...</td>\n",
       "      <td>...</td>\n",
       "      <td>...</td>\n",
       "      <td>...</td>\n",
       "    </tr>\n",
       "    <tr>\n",
       "      <th>966</th>\n",
       "      <td>STAIRS UP</td>\n",
       "      <td>0</td>\n",
       "      <td>bicep_left</td>\n",
       "      <td>accel</td>\n",
       "      <td>Accel X (g)  Accel Y (g)  Acce...</td>\n",
       "    </tr>\n",
       "    <tr>\n",
       "      <th>969</th>\n",
       "      <td>STAIRS UP</td>\n",
       "      <td>0</td>\n",
       "      <td>bicep_right</td>\n",
       "      <td>accel</td>\n",
       "      <td>Accel X (g)  Accel Y (g)  Acce...</td>\n",
       "    </tr>\n",
       "    <tr>\n",
       "      <th>972</th>\n",
       "      <td>STAIRS UP</td>\n",
       "      <td>0</td>\n",
       "      <td>distal_lateral_shank_left</td>\n",
       "      <td>accel</td>\n",
       "      <td>Accel X (g)  Accel Y (g)  Acce...</td>\n",
       "    </tr>\n",
       "    <tr>\n",
       "      <th>975</th>\n",
       "      <td>STAIRS UP</td>\n",
       "      <td>0</td>\n",
       "      <td>distal_lateral_shank_right</td>\n",
       "      <td>accel</td>\n",
       "      <td>Accel X (g)  Accel Y (g)  Acce...</td>\n",
       "    </tr>\n",
       "    <tr>\n",
       "      <th>978</th>\n",
       "      <td>STAIRS UP</td>\n",
       "      <td>0</td>\n",
       "      <td>gastrocnemius_left</td>\n",
       "      <td>accel</td>\n",
       "      <td>Accel X (g)  Accel Y (g)  Acce...</td>\n",
       "    </tr>\n",
       "    <tr>\n",
       "      <th>981</th>\n",
       "      <td>STAIRS UP</td>\n",
       "      <td>0</td>\n",
       "      <td>gastrocnemius_right</td>\n",
       "      <td>accel</td>\n",
       "      <td>Accel X (g)  Accel Y (g)  Acce...</td>\n",
       "    </tr>\n",
       "    <tr>\n",
       "      <th>984</th>\n",
       "      <td>STAIRS UP</td>\n",
       "      <td>0</td>\n",
       "      <td>medial_chest</td>\n",
       "      <td>accel</td>\n",
       "      <td>Accel X (g)  Accel Y (g)  Acce...</td>\n",
       "    </tr>\n",
       "    <tr>\n",
       "      <th>987</th>\n",
       "      <td>STAIRS UP</td>\n",
       "      <td>0</td>\n",
       "      <td>posterior_forearm_left</td>\n",
       "      <td>accel</td>\n",
       "      <td>Accel X (g)  Accel Y (g)  Acce...</td>\n",
       "    </tr>\n",
       "    <tr>\n",
       "      <th>990</th>\n",
       "      <td>STAIRS UP</td>\n",
       "      <td>0</td>\n",
       "      <td>posterior_forearm_right</td>\n",
       "      <td>accel</td>\n",
       "      <td>Accel X (g)  Accel Y (g)  Acce...</td>\n",
       "    </tr>\n",
       "    <tr>\n",
       "      <th>993</th>\n",
       "      <td>STAIRS UP</td>\n",
       "      <td>0</td>\n",
       "      <td>rectus_femoris_left</td>\n",
       "      <td>accel</td>\n",
       "      <td>Accel X (g)  Accel Y (g)  Acce...</td>\n",
       "    </tr>\n",
       "    <tr>\n",
       "      <th>996</th>\n",
       "      <td>STAIRS UP</td>\n",
       "      <td>0</td>\n",
       "      <td>rectus_femoris_right</td>\n",
       "      <td>accel</td>\n",
       "      <td>Accel X (g)  Accel Y (g)  Acce...</td>\n",
       "    </tr>\n",
       "    <tr>\n",
       "      <th>999</th>\n",
       "      <td>STAIRS UP</td>\n",
       "      <td>0</td>\n",
       "      <td>sacrum</td>\n",
       "      <td>accel</td>\n",
       "      <td>Accel X (g)  Accel Y (g)  Acce...</td>\n",
       "    </tr>\n",
       "    <tr>\n",
       "      <th>1002</th>\n",
       "      <td>STAIRS UP</td>\n",
       "      <td>0</td>\n",
       "      <td>tibialis_anterior_left</td>\n",
       "      <td>accel</td>\n",
       "      <td>Accel X (g)  Accel Y (g)  Acce...</td>\n",
       "    </tr>\n",
       "    <tr>\n",
       "      <th>1005</th>\n",
       "      <td>STAIRS UP</td>\n",
       "      <td>0</td>\n",
       "      <td>tibialis_anterior_right</td>\n",
       "      <td>accel</td>\n",
       "      <td>Accel X (g)  Accel Y (g)  Acce...</td>\n",
       "    </tr>\n",
       "    <tr>\n",
       "      <th>1008</th>\n",
       "      <td>STAIRS UP</td>\n",
       "      <td>1</td>\n",
       "      <td>biceps_femoris_left</td>\n",
       "      <td>accel</td>\n",
       "      <td>Accel X (g)  Accel Y (g)  Acce...</td>\n",
       "    </tr>\n",
       "    <tr>\n",
       "      <th>1011</th>\n",
       "      <td>STAIRS UP</td>\n",
       "      <td>1</td>\n",
       "      <td>biceps_femoris_right</td>\n",
       "      <td>accel</td>\n",
       "      <td>Accel X (g)  Accel Y (g)  Acce...</td>\n",
       "    </tr>\n",
       "    <tr>\n",
       "      <th>1014</th>\n",
       "      <td>STAIRS UP</td>\n",
       "      <td>1</td>\n",
       "      <td>bicep_left</td>\n",
       "      <td>accel</td>\n",
       "      <td>Accel X (g)  Accel Y (g)  Acce...</td>\n",
       "    </tr>\n",
       "    <tr>\n",
       "      <th>1017</th>\n",
       "      <td>STAIRS UP</td>\n",
       "      <td>1</td>\n",
       "      <td>bicep_right</td>\n",
       "      <td>accel</td>\n",
       "      <td>Accel X (g)  Accel Y (g)  Acce...</td>\n",
       "    </tr>\n",
       "    <tr>\n",
       "      <th>1020</th>\n",
       "      <td>STAIRS UP</td>\n",
       "      <td>1</td>\n",
       "      <td>distal_lateral_shank_left</td>\n",
       "      <td>accel</td>\n",
       "      <td>Accel X (g)  Accel Y (g)  Acce...</td>\n",
       "    </tr>\n",
       "    <tr>\n",
       "      <th>1023</th>\n",
       "      <td>STAIRS UP</td>\n",
       "      <td>1</td>\n",
       "      <td>distal_lateral_shank_right</td>\n",
       "      <td>accel</td>\n",
       "      <td>Accel X (g)  Accel Y (g)  Acce...</td>\n",
       "    </tr>\n",
       "    <tr>\n",
       "      <th>1026</th>\n",
       "      <td>STAIRS UP</td>\n",
       "      <td>1</td>\n",
       "      <td>gastrocnemius_left</td>\n",
       "      <td>accel</td>\n",
       "      <td>Accel X (g)  Accel Y (g)  Acce...</td>\n",
       "    </tr>\n",
       "    <tr>\n",
       "      <th>1029</th>\n",
       "      <td>STAIRS UP</td>\n",
       "      <td>1</td>\n",
       "      <td>gastrocnemius_right</td>\n",
       "      <td>accel</td>\n",
       "      <td>Accel X (g)  Accel Y (g)  Acce...</td>\n",
       "    </tr>\n",
       "    <tr>\n",
       "      <th>1032</th>\n",
       "      <td>STAIRS UP</td>\n",
       "      <td>1</td>\n",
       "      <td>medial_chest</td>\n",
       "      <td>accel</td>\n",
       "      <td>Accel X (g)  Accel Y (g)  Acce...</td>\n",
       "    </tr>\n",
       "    <tr>\n",
       "      <th>1035</th>\n",
       "      <td>STAIRS UP</td>\n",
       "      <td>1</td>\n",
       "      <td>posterior_forearm_left</td>\n",
       "      <td>accel</td>\n",
       "      <td>Accel X (g)  Accel Y (g)  Acce...</td>\n",
       "    </tr>\n",
       "    <tr>\n",
       "      <th>1038</th>\n",
       "      <td>STAIRS UP</td>\n",
       "      <td>1</td>\n",
       "      <td>posterior_forearm_right</td>\n",
       "      <td>accel</td>\n",
       "      <td>Accel X (g)  Accel Y (g)  Acce...</td>\n",
       "    </tr>\n",
       "    <tr>\n",
       "      <th>1041</th>\n",
       "      <td>STAIRS UP</td>\n",
       "      <td>1</td>\n",
       "      <td>rectus_femoris_left</td>\n",
       "      <td>accel</td>\n",
       "      <td>Accel X (g)  Accel Y (g)  Acce...</td>\n",
       "    </tr>\n",
       "    <tr>\n",
       "      <th>1044</th>\n",
       "      <td>STAIRS UP</td>\n",
       "      <td>1</td>\n",
       "      <td>rectus_femoris_right</td>\n",
       "      <td>accel</td>\n",
       "      <td>Accel X (g)  Accel Y (g)  Acce...</td>\n",
       "    </tr>\n",
       "    <tr>\n",
       "      <th>1047</th>\n",
       "      <td>STAIRS UP</td>\n",
       "      <td>1</td>\n",
       "      <td>sacrum</td>\n",
       "      <td>accel</td>\n",
       "      <td>Accel X (g)  Accel Y (g)  Acce...</td>\n",
       "    </tr>\n",
       "    <tr>\n",
       "      <th>1050</th>\n",
       "      <td>STAIRS UP</td>\n",
       "      <td>1</td>\n",
       "      <td>tibialis_anterior_left</td>\n",
       "      <td>accel</td>\n",
       "      <td>Accel X (g)  Accel Y (g)  Acce...</td>\n",
       "    </tr>\n",
       "    <tr>\n",
       "      <th>1053</th>\n",
       "      <td>STAIRS UP</td>\n",
       "      <td>1</td>\n",
       "      <td>tibialis_anterior_right</td>\n",
       "      <td>accel</td>\n",
       "      <td>Accel X (g)  Accel Y (g)  Acce...</td>\n",
       "    </tr>\n",
       "  </tbody>\n",
       "</table>\n",
       "<p>352 rows × 5 columns</p>\n",
       "</div>"
      ],
      "text/plain": [
       "           task  trial                    location sensor  \\\n",
       "0         LYING      0         biceps_femoris_left  accel   \n",
       "3         LYING      0        biceps_femoris_right  accel   \n",
       "6         LYING      0                  bicep_left  accel   \n",
       "9         LYING      0                 bicep_right  accel   \n",
       "12        LYING      0   distal_lateral_shank_left  accel   \n",
       "15        LYING      0  distal_lateral_shank_right  accel   \n",
       "18        LYING      0          gastrocnemius_left  accel   \n",
       "21        LYING      0         gastrocnemius_right  accel   \n",
       "24        LYING      0                medial_chest  accel   \n",
       "27        LYING      0      posterior_forearm_left  accel   \n",
       "30        LYING      0     posterior_forearm_right  accel   \n",
       "33        LYING      0         rectus_femoris_left  accel   \n",
       "36        LYING      0        rectus_femoris_right  accel   \n",
       "39        LYING      0                      sacrum  accel   \n",
       "42        LYING      0      tibialis_anterior_left  accel   \n",
       "45        LYING      0     tibialis_anterior_right  accel   \n",
       "48        LYING      1         biceps_femoris_left  accel   \n",
       "51        LYING      1        biceps_femoris_right  accel   \n",
       "54        LYING      1                  bicep_left  accel   \n",
       "57        LYING      1                 bicep_right  accel   \n",
       "60        LYING      1   distal_lateral_shank_left  accel   \n",
       "63        LYING      1  distal_lateral_shank_right  accel   \n",
       "66        LYING      1          gastrocnemius_left  accel   \n",
       "69        LYING      1         gastrocnemius_right  accel   \n",
       "72        LYING      1                medial_chest  accel   \n",
       "75        LYING      1      posterior_forearm_left  accel   \n",
       "78        LYING      1     posterior_forearm_right  accel   \n",
       "81        LYING      1         rectus_femoris_left  accel   \n",
       "84        LYING      1        rectus_femoris_right  accel   \n",
       "87        LYING      1                      sacrum  accel   \n",
       "...         ...    ...                         ...    ...   \n",
       "966   STAIRS UP      0                  bicep_left  accel   \n",
       "969   STAIRS UP      0                 bicep_right  accel   \n",
       "972   STAIRS UP      0   distal_lateral_shank_left  accel   \n",
       "975   STAIRS UP      0  distal_lateral_shank_right  accel   \n",
       "978   STAIRS UP      0          gastrocnemius_left  accel   \n",
       "981   STAIRS UP      0         gastrocnemius_right  accel   \n",
       "984   STAIRS UP      0                medial_chest  accel   \n",
       "987   STAIRS UP      0      posterior_forearm_left  accel   \n",
       "990   STAIRS UP      0     posterior_forearm_right  accel   \n",
       "993   STAIRS UP      0         rectus_femoris_left  accel   \n",
       "996   STAIRS UP      0        rectus_femoris_right  accel   \n",
       "999   STAIRS UP      0                      sacrum  accel   \n",
       "1002  STAIRS UP      0      tibialis_anterior_left  accel   \n",
       "1005  STAIRS UP      0     tibialis_anterior_right  accel   \n",
       "1008  STAIRS UP      1         biceps_femoris_left  accel   \n",
       "1011  STAIRS UP      1        biceps_femoris_right  accel   \n",
       "1014  STAIRS UP      1                  bicep_left  accel   \n",
       "1017  STAIRS UP      1                 bicep_right  accel   \n",
       "1020  STAIRS UP      1   distal_lateral_shank_left  accel   \n",
       "1023  STAIRS UP      1  distal_lateral_shank_right  accel   \n",
       "1026  STAIRS UP      1          gastrocnemius_left  accel   \n",
       "1029  STAIRS UP      1         gastrocnemius_right  accel   \n",
       "1032  STAIRS UP      1                medial_chest  accel   \n",
       "1035  STAIRS UP      1      posterior_forearm_left  accel   \n",
       "1038  STAIRS UP      1     posterior_forearm_right  accel   \n",
       "1041  STAIRS UP      1         rectus_femoris_left  accel   \n",
       "1044  STAIRS UP      1        rectus_femoris_right  accel   \n",
       "1047  STAIRS UP      1                      sacrum  accel   \n",
       "1050  STAIRS UP      1      tibialis_anterior_left  accel   \n",
       "1053  STAIRS UP      1     tibialis_anterior_right  accel   \n",
       "\n",
       "                                                rawdata  \n",
       "0                     Accel X (g)  Accel Y (g)  Acce...  \n",
       "3                     Accel X (g)  Accel Y (g)  Acce...  \n",
       "6                     Accel X (g)  Accel Y (g)  Acce...  \n",
       "9                     Accel X (g)  Accel Y (g)  Acce...  \n",
       "12                    Accel X (g)  Accel Y (g)  Acce...  \n",
       "15                    Accel X (g)  Accel Y (g)  Acce...  \n",
       "18                    Accel X (g)  Accel Y (g)  Acce...  \n",
       "21                    Accel X (g)  Accel Y (g)  Acce...  \n",
       "24                    Accel X (g)  Accel Y (g)  Acce...  \n",
       "27                    Accel X (g)  Accel Y (g)  Acce...  \n",
       "30                    Accel X (g)  Accel Y (g)  Acce...  \n",
       "33                    Accel X (g)  Accel Y (g)  Acce...  \n",
       "36                    Accel X (g)  Accel Y (g)  Acce...  \n",
       "39                    Accel X (g)  Accel Y (g)  Acce...  \n",
       "42                    Accel X (g)  Accel Y (g)  Acce...  \n",
       "45                    Accel X (g)  Accel Y (g)  Acce...  \n",
       "48                    Accel X (g)  Accel Y (g)  Acce...  \n",
       "51                    Accel X (g)  Accel Y (g)  Acce...  \n",
       "54                    Accel X (g)  Accel Y (g)  Acce...  \n",
       "57                    Accel X (g)  Accel Y (g)  Acce...  \n",
       "60                    Accel X (g)  Accel Y (g)  Acce...  \n",
       "63                    Accel X (g)  Accel Y (g)  Acce...  \n",
       "66                    Accel X (g)  Accel Y (g)  Acce...  \n",
       "69                    Accel X (g)  Accel Y (g)  Acce...  \n",
       "72                    Accel X (g)  Accel Y (g)  Acce...  \n",
       "75                    Accel X (g)  Accel Y (g)  Acce...  \n",
       "78                    Accel X (g)  Accel Y (g)  Acce...  \n",
       "81                    Accel X (g)  Accel Y (g)  Acce...  \n",
       "84                    Accel X (g)  Accel Y (g)  Acce...  \n",
       "87                    Accel X (g)  Accel Y (g)  Acce...  \n",
       "...                                                 ...  \n",
       "966                   Accel X (g)  Accel Y (g)  Acce...  \n",
       "969                   Accel X (g)  Accel Y (g)  Acce...  \n",
       "972                   Accel X (g)  Accel Y (g)  Acce...  \n",
       "975                   Accel X (g)  Accel Y (g)  Acce...  \n",
       "978                   Accel X (g)  Accel Y (g)  Acce...  \n",
       "981                   Accel X (g)  Accel Y (g)  Acce...  \n",
       "984                   Accel X (g)  Accel Y (g)  Acce...  \n",
       "987                   Accel X (g)  Accel Y (g)  Acce...  \n",
       "990                   Accel X (g)  Accel Y (g)  Acce...  \n",
       "993                   Accel X (g)  Accel Y (g)  Acce...  \n",
       "996                   Accel X (g)  Accel Y (g)  Acce...  \n",
       "999                   Accel X (g)  Accel Y (g)  Acce...  \n",
       "1002                  Accel X (g)  Accel Y (g)  Acce...  \n",
       "1005                  Accel X (g)  Accel Y (g)  Acce...  \n",
       "1008                  Accel X (g)  Accel Y (g)  Acce...  \n",
       "1011                  Accel X (g)  Accel Y (g)  Acce...  \n",
       "1014                  Accel X (g)  Accel Y (g)  Acce...  \n",
       "1017                  Accel X (g)  Accel Y (g)  Acce...  \n",
       "1020                  Accel X (g)  Accel Y (g)  Acce...  \n",
       "1023                  Accel X (g)  Accel Y (g)  Acce...  \n",
       "1026                  Accel X (g)  Accel Y (g)  Acce...  \n",
       "1029                  Accel X (g)  Accel Y (g)  Acce...  \n",
       "1032                  Accel X (g)  Accel Y (g)  Acce...  \n",
       "1035                  Accel X (g)  Accel Y (g)  Acce...  \n",
       "1038                  Accel X (g)  Accel Y (g)  Acce...  \n",
       "1041                  Accel X (g)  Accel Y (g)  Acce...  \n",
       "1044                  Accel X (g)  Accel Y (g)  Acce...  \n",
       "1047                  Accel X (g)  Accel Y (g)  Acce...  \n",
       "1050                  Accel X (g)  Accel Y (g)  Acce...  \n",
       "1053                  Accel X (g)  Accel Y (g)  Acce...  \n",
       "\n",
       "[352 rows x 5 columns]"
      ]
     },
     "execution_count": 13,
     "metadata": {},
     "output_type": "execute_result"
    }
   ],
   "source": [
    "unstacked.loc[unstacked.sensor=='accel']"
   ]
  },
  {
   "cell_type": "code",
   "execution_count": 19,
   "metadata": {
    "hidden": true
   },
   "outputs": [],
   "source": [
    "bicepcheck = unstacked.query('sensor == \"accel\" & location == \"bicep_left\" & task == \"LYING\"')"
   ]
  },
  {
   "cell_type": "code",
   "execution_count": 20,
   "metadata": {
    "hidden": true
   },
   "outputs": [
    {
     "data": {
      "text/html": [
       "<div>\n",
       "<style scoped>\n",
       "    .dataframe tbody tr th:only-of-type {\n",
       "        vertical-align: middle;\n",
       "    }\n",
       "\n",
       "    .dataframe tbody tr th {\n",
       "        vertical-align: top;\n",
       "    }\n",
       "\n",
       "    .dataframe thead th {\n",
       "        text-align: right;\n",
       "    }\n",
       "</style>\n",
       "<table border=\"1\" class=\"dataframe\">\n",
       "  <thead>\n",
       "    <tr style=\"text-align: right;\">\n",
       "      <th></th>\n",
       "      <th>task</th>\n",
       "      <th>trial</th>\n",
       "      <th>location</th>\n",
       "      <th>sensor</th>\n",
       "      <th>rawdata</th>\n",
       "    </tr>\n",
       "  </thead>\n",
       "  <tbody>\n",
       "    <tr>\n",
       "      <th>6</th>\n",
       "      <td>LYING</td>\n",
       "      <td>0</td>\n",
       "      <td>bicep_left</td>\n",
       "      <td>accel</td>\n",
       "      <td>Accel X (g)  Accel Y (g)  Acce...</td>\n",
       "    </tr>\n",
       "    <tr>\n",
       "      <th>54</th>\n",
       "      <td>LYING</td>\n",
       "      <td>1</td>\n",
       "      <td>bicep_left</td>\n",
       "      <td>accel</td>\n",
       "      <td>Accel X (g)  Accel Y (g)  Acce...</td>\n",
       "    </tr>\n",
       "  </tbody>\n",
       "</table>\n",
       "</div>"
      ],
      "text/plain": [
       "     task  trial    location sensor  \\\n",
       "6   LYING      0  bicep_left  accel   \n",
       "54  LYING      1  bicep_left  accel   \n",
       "\n",
       "                                              rawdata  \n",
       "6                   Accel X (g)  Accel Y (g)  Acce...  \n",
       "54                  Accel X (g)  Accel Y (g)  Acce...  "
      ]
     },
     "execution_count": 20,
     "metadata": {},
     "output_type": "execute_result"
    }
   ],
   "source": [
    "bicepcheck"
   ]
  },
  {
   "cell_type": "code",
   "execution_count": 23,
   "metadata": {
    "hidden": true
   },
   "outputs": [
    {
     "data": {
      "text/html": [
       "<div>\n",
       "<style scoped>\n",
       "    .dataframe tbody tr th:only-of-type {\n",
       "        vertical-align: middle;\n",
       "    }\n",
       "\n",
       "    .dataframe tbody tr th {\n",
       "        vertical-align: top;\n",
       "    }\n",
       "\n",
       "    .dataframe thead th {\n",
       "        text-align: right;\n",
       "    }\n",
       "</style>\n",
       "<table border=\"1\" class=\"dataframe\">\n",
       "  <thead>\n",
       "    <tr style=\"text-align: right;\">\n",
       "      <th></th>\n",
       "      <th>Accel X (g)</th>\n",
       "      <th>Accel Y (g)</th>\n",
       "      <th>Accel Z (g)</th>\n",
       "    </tr>\n",
       "    <tr>\n",
       "      <th>Timestamp (ms)</th>\n",
       "      <th></th>\n",
       "      <th></th>\n",
       "      <th></th>\n",
       "    </tr>\n",
       "  </thead>\n",
       "  <tbody>\n",
       "    <tr>\n",
       "      <th>1510868001422</th>\n",
       "      <td>-0.243595</td>\n",
       "      <td>-0.275822</td>\n",
       "      <td>0.975174</td>\n",
       "    </tr>\n",
       "    <tr>\n",
       "      <th>1510868001454</th>\n",
       "      <td>-0.240665</td>\n",
       "      <td>-0.271427</td>\n",
       "      <td>0.968338</td>\n",
       "    </tr>\n",
       "    <tr>\n",
       "      <th>1510868001486</th>\n",
       "      <td>-0.247501</td>\n",
       "      <td>-0.270451</td>\n",
       "      <td>0.966873</td>\n",
       "    </tr>\n",
       "  </tbody>\n",
       "</table>\n",
       "</div>"
      ],
      "text/plain": [
       "                Accel X (g)  Accel Y (g)  Accel Z (g)\n",
       "Timestamp (ms)                                       \n",
       "1510868001422     -0.243595    -0.275822     0.975174\n",
       "1510868001454     -0.240665    -0.271427     0.968338\n",
       "1510868001486     -0.247501    -0.270451     0.966873"
      ]
     },
     "execution_count": 23,
     "metadata": {},
     "output_type": "execute_result"
    }
   ],
   "source": [
    "bicepcheck.rawdata[54].head(3)"
   ]
  },
  {
   "cell_type": "code",
   "execution_count": 25,
   "metadata": {
    "hidden": true
   },
   "outputs": [],
   "source": [
    "checkempty = unstacked.query('sensor == \"accel\" & location == \"sacrum\" ')"
   ]
  },
  {
   "cell_type": "code",
   "execution_count": 26,
   "metadata": {
    "hidden": true,
    "scrolled": true
   },
   "outputs": [
    {
     "data": {
      "text/html": [
       "<div>\n",
       "<style scoped>\n",
       "    .dataframe tbody tr th:only-of-type {\n",
       "        vertical-align: middle;\n",
       "    }\n",
       "\n",
       "    .dataframe tbody tr th {\n",
       "        vertical-align: top;\n",
       "    }\n",
       "\n",
       "    .dataframe thead th {\n",
       "        text-align: right;\n",
       "    }\n",
       "</style>\n",
       "<table border=\"1\" class=\"dataframe\">\n",
       "  <thead>\n",
       "    <tr style=\"text-align: right;\">\n",
       "      <th></th>\n",
       "      <th>task</th>\n",
       "      <th>trial</th>\n",
       "      <th>location</th>\n",
       "      <th>sensor</th>\n",
       "      <th>rawdata</th>\n",
       "    </tr>\n",
       "  </thead>\n",
       "  <tbody>\n",
       "    <tr>\n",
       "      <th>39</th>\n",
       "      <td>LYING</td>\n",
       "      <td>0</td>\n",
       "      <td>sacrum</td>\n",
       "      <td>accel</td>\n",
       "      <td>Accel X (g)  Accel Y (g)  Acce...</td>\n",
       "    </tr>\n",
       "    <tr>\n",
       "      <th>87</th>\n",
       "      <td>LYING</td>\n",
       "      <td>1</td>\n",
       "      <td>sacrum</td>\n",
       "      <td>accel</td>\n",
       "      <td>Accel X (g)  Accel Y (g)  Acce...</td>\n",
       "    </tr>\n",
       "    <tr>\n",
       "      <th>135</th>\n",
       "      <td>SITTING</td>\n",
       "      <td>0</td>\n",
       "      <td>sacrum</td>\n",
       "      <td>accel</td>\n",
       "      <td>Accel X (g)  Accel Y (g)  Acce...</td>\n",
       "    </tr>\n",
       "    <tr>\n",
       "      <th>183</th>\n",
       "      <td>SITTING</td>\n",
       "      <td>1</td>\n",
       "      <td>sacrum</td>\n",
       "      <td>accel</td>\n",
       "      <td>Accel X (g)  Accel Y (g)  Acce...</td>\n",
       "    </tr>\n",
       "    <tr>\n",
       "      <th>231</th>\n",
       "      <td>SITTING</td>\n",
       "      <td>2</td>\n",
       "      <td>sacrum</td>\n",
       "      <td>accel</td>\n",
       "      <td>Accel X (g)  Accel Y (g)  Acce...</td>\n",
       "    </tr>\n",
       "    <tr>\n",
       "      <th>279</th>\n",
       "      <td>SITTING</td>\n",
       "      <td>3</td>\n",
       "      <td>sacrum</td>\n",
       "      <td>accel</td>\n",
       "      <td>Accel X (g)  Accel Y (g)  Acce...</td>\n",
       "    </tr>\n",
       "    <tr>\n",
       "      <th>327</th>\n",
       "      <td>STANDING</td>\n",
       "      <td>0</td>\n",
       "      <td>sacrum</td>\n",
       "      <td>accel</td>\n",
       "      <td>Accel X (g)  Accel Y (g)  Acce...</td>\n",
       "    </tr>\n",
       "    <tr>\n",
       "      <th>375</th>\n",
       "      <td>STANDING</td>\n",
       "      <td>1</td>\n",
       "      <td>sacrum</td>\n",
       "      <td>accel</td>\n",
       "      <td>Accel X (g)  Accel Y (g)  Acce...</td>\n",
       "    </tr>\n",
       "    <tr>\n",
       "      <th>423</th>\n",
       "      <td>STANDING</td>\n",
       "      <td>2</td>\n",
       "      <td>sacrum</td>\n",
       "      <td>accel</td>\n",
       "      <td>Accel X (g)  Accel Y (g)  Acce...</td>\n",
       "    </tr>\n",
       "    <tr>\n",
       "      <th>471</th>\n",
       "      <td>STANDING</td>\n",
       "      <td>3</td>\n",
       "      <td>sacrum</td>\n",
       "      <td>accel</td>\n",
       "      <td>Accel X (g)  Accel Y (g)  Acce...</td>\n",
       "    </tr>\n",
       "    <tr>\n",
       "      <th>519</th>\n",
       "      <td>STANDING</td>\n",
       "      <td>4</td>\n",
       "      <td>sacrum</td>\n",
       "      <td>accel</td>\n",
       "      <td>Accel X (g)  Accel Y (g)  Acce...</td>\n",
       "    </tr>\n",
       "    <tr>\n",
       "      <th>567</th>\n",
       "      <td>STANDING</td>\n",
       "      <td>5</td>\n",
       "      <td>sacrum</td>\n",
       "      <td>accel</td>\n",
       "      <td>Accel X (g)  Accel Y (g)  Acce...</td>\n",
       "    </tr>\n",
       "    <tr>\n",
       "      <th>615</th>\n",
       "      <td>STANDING</td>\n",
       "      <td>6</td>\n",
       "      <td>sacrum</td>\n",
       "      <td>accel</td>\n",
       "      <td>Accel X (g)  Accel Y (g)  Acce...</td>\n",
       "    </tr>\n",
       "    <tr>\n",
       "      <th>663</th>\n",
       "      <td>STANDING</td>\n",
       "      <td>7</td>\n",
       "      <td>sacrum</td>\n",
       "      <td>accel</td>\n",
       "      <td>Accel X (g)  Accel Y (g)  Acce...</td>\n",
       "    </tr>\n",
       "    <tr>\n",
       "      <th>711</th>\n",
       "      <td>WALKING</td>\n",
       "      <td>0</td>\n",
       "      <td>sacrum</td>\n",
       "      <td>accel</td>\n",
       "      <td>Accel X (g)  Accel Y (g)  Acce...</td>\n",
       "    </tr>\n",
       "    <tr>\n",
       "      <th>759</th>\n",
       "      <td>WALKING</td>\n",
       "      <td>1</td>\n",
       "      <td>sacrum</td>\n",
       "      <td>accel</td>\n",
       "      <td>Accel X (g)  Accel Y (g)  Acce...</td>\n",
       "    </tr>\n",
       "    <tr>\n",
       "      <th>807</th>\n",
       "      <td>WALKING</td>\n",
       "      <td>2</td>\n",
       "      <td>sacrum</td>\n",
       "      <td>accel</td>\n",
       "      <td>Accel X (g)  Accel Y (g)  Acce...</td>\n",
       "    </tr>\n",
       "    <tr>\n",
       "      <th>855</th>\n",
       "      <td>WALKING</td>\n",
       "      <td>3</td>\n",
       "      <td>sacrum</td>\n",
       "      <td>accel</td>\n",
       "      <td>Accel X (g)  Accel Y (g)  Acce...</td>\n",
       "    </tr>\n",
       "    <tr>\n",
       "      <th>903</th>\n",
       "      <td>STAIRS DOWN</td>\n",
       "      <td>0</td>\n",
       "      <td>sacrum</td>\n",
       "      <td>accel</td>\n",
       "      <td>Accel X (g)  Accel Y (g)  Acce...</td>\n",
       "    </tr>\n",
       "    <tr>\n",
       "      <th>951</th>\n",
       "      <td>STAIRS DOWN</td>\n",
       "      <td>1</td>\n",
       "      <td>sacrum</td>\n",
       "      <td>accel</td>\n",
       "      <td>Accel X (g)  Accel Y (g)  Acce...</td>\n",
       "    </tr>\n",
       "    <tr>\n",
       "      <th>999</th>\n",
       "      <td>STAIRS UP</td>\n",
       "      <td>0</td>\n",
       "      <td>sacrum</td>\n",
       "      <td>accel</td>\n",
       "      <td>Accel X (g)  Accel Y (g)  Acce...</td>\n",
       "    </tr>\n",
       "    <tr>\n",
       "      <th>1047</th>\n",
       "      <td>STAIRS UP</td>\n",
       "      <td>1</td>\n",
       "      <td>sacrum</td>\n",
       "      <td>accel</td>\n",
       "      <td>Accel X (g)  Accel Y (g)  Acce...</td>\n",
       "    </tr>\n",
       "  </tbody>\n",
       "</table>\n",
       "</div>"
      ],
      "text/plain": [
       "             task  trial location sensor  \\\n",
       "39          LYING      0   sacrum  accel   \n",
       "87          LYING      1   sacrum  accel   \n",
       "135       SITTING      0   sacrum  accel   \n",
       "183       SITTING      1   sacrum  accel   \n",
       "231       SITTING      2   sacrum  accel   \n",
       "279       SITTING      3   sacrum  accel   \n",
       "327      STANDING      0   sacrum  accel   \n",
       "375      STANDING      1   sacrum  accel   \n",
       "423      STANDING      2   sacrum  accel   \n",
       "471      STANDING      3   sacrum  accel   \n",
       "519      STANDING      4   sacrum  accel   \n",
       "567      STANDING      5   sacrum  accel   \n",
       "615      STANDING      6   sacrum  accel   \n",
       "663      STANDING      7   sacrum  accel   \n",
       "711       WALKING      0   sacrum  accel   \n",
       "759       WALKING      1   sacrum  accel   \n",
       "807       WALKING      2   sacrum  accel   \n",
       "855       WALKING      3   sacrum  accel   \n",
       "903   STAIRS DOWN      0   sacrum  accel   \n",
       "951   STAIRS DOWN      1   sacrum  accel   \n",
       "999     STAIRS UP      0   sacrum  accel   \n",
       "1047    STAIRS UP      1   sacrum  accel   \n",
       "\n",
       "                                                rawdata  \n",
       "39                    Accel X (g)  Accel Y (g)  Acce...  \n",
       "87                    Accel X (g)  Accel Y (g)  Acce...  \n",
       "135                   Accel X (g)  Accel Y (g)  Acce...  \n",
       "183                   Accel X (g)  Accel Y (g)  Acce...  \n",
       "231                   Accel X (g)  Accel Y (g)  Acce...  \n",
       "279                   Accel X (g)  Accel Y (g)  Acce...  \n",
       "327                   Accel X (g)  Accel Y (g)  Acce...  \n",
       "375                   Accel X (g)  Accel Y (g)  Acce...  \n",
       "423                   Accel X (g)  Accel Y (g)  Acce...  \n",
       "471                   Accel X (g)  Accel Y (g)  Acce...  \n",
       "519                   Accel X (g)  Accel Y (g)  Acce...  \n",
       "567                   Accel X (g)  Accel Y (g)  Acce...  \n",
       "615                   Accel X (g)  Accel Y (g)  Acce...  \n",
       "663                   Accel X (g)  Accel Y (g)  Acce...  \n",
       "711                   Accel X (g)  Accel Y (g)  Acce...  \n",
       "759                   Accel X (g)  Accel Y (g)  Acce...  \n",
       "807                   Accel X (g)  Accel Y (g)  Acce...  \n",
       "855                   Accel X (g)  Accel Y (g)  Acce...  \n",
       "903                   Accel X (g)  Accel Y (g)  Acce...  \n",
       "951                   Accel X (g)  Accel Y (g)  Acce...  \n",
       "999                   Accel X (g)  Accel Y (g)  Acce...  \n",
       "1047                  Accel X (g)  Accel Y (g)  Acce...  "
      ]
     },
     "execution_count": 26,
     "metadata": {},
     "output_type": "execute_result"
    }
   ],
   "source": [
    "checkempty"
   ]
  },
  {
   "cell_type": "code",
   "execution_count": 30,
   "metadata": {
    "hidden": true,
    "scrolled": true
   },
   "outputs": [
    {
     "data": {
      "text/html": [
       "<div>\n",
       "<style scoped>\n",
       "    .dataframe tbody tr th:only-of-type {\n",
       "        vertical-align: middle;\n",
       "    }\n",
       "\n",
       "    .dataframe tbody tr th {\n",
       "        vertical-align: top;\n",
       "    }\n",
       "\n",
       "    .dataframe thead th {\n",
       "        text-align: right;\n",
       "    }\n",
       "</style>\n",
       "<table border=\"1\" class=\"dataframe\">\n",
       "  <thead>\n",
       "    <tr style=\"text-align: right;\">\n",
       "      <th></th>\n",
       "      <th>task</th>\n",
       "      <th>trial</th>\n",
       "      <th>location</th>\n",
       "      <th>sensor</th>\n",
       "      <th>rawdata</th>\n",
       "    </tr>\n",
       "  </thead>\n",
       "  <tbody>\n",
       "    <tr>\n",
       "      <th>39</th>\n",
       "      <td>LYING</td>\n",
       "      <td>0</td>\n",
       "      <td>sacrum</td>\n",
       "      <td>accel</td>\n",
       "      <td>Accel X (g)  Accel Y (g)  Acce...</td>\n",
       "    </tr>\n",
       "    <tr>\n",
       "      <th>87</th>\n",
       "      <td>LYING</td>\n",
       "      <td>1</td>\n",
       "      <td>sacrum</td>\n",
       "      <td>accel</td>\n",
       "      <td>Accel X (g)  Accel Y (g)  Acce...</td>\n",
       "    </tr>\n",
       "    <tr>\n",
       "      <th>135</th>\n",
       "      <td>SITTING</td>\n",
       "      <td>0</td>\n",
       "      <td>sacrum</td>\n",
       "      <td>accel</td>\n",
       "      <td>Accel X (g)  Accel Y (g)  Acce...</td>\n",
       "    </tr>\n",
       "    <tr>\n",
       "      <th>183</th>\n",
       "      <td>SITTING</td>\n",
       "      <td>1</td>\n",
       "      <td>sacrum</td>\n",
       "      <td>accel</td>\n",
       "      <td>Accel X (g)  Accel Y (g)  Acce...</td>\n",
       "    </tr>\n",
       "    <tr>\n",
       "      <th>231</th>\n",
       "      <td>SITTING</td>\n",
       "      <td>2</td>\n",
       "      <td>sacrum</td>\n",
       "      <td>accel</td>\n",
       "      <td>Accel X (g)  Accel Y (g)  Acce...</td>\n",
       "    </tr>\n",
       "    <tr>\n",
       "      <th>279</th>\n",
       "      <td>SITTING</td>\n",
       "      <td>3</td>\n",
       "      <td>sacrum</td>\n",
       "      <td>accel</td>\n",
       "      <td>Accel X (g)  Accel Y (g)  Acce...</td>\n",
       "    </tr>\n",
       "    <tr>\n",
       "      <th>327</th>\n",
       "      <td>STANDING</td>\n",
       "      <td>0</td>\n",
       "      <td>sacrum</td>\n",
       "      <td>accel</td>\n",
       "      <td>Accel X (g)  Accel Y (g)  Acce...</td>\n",
       "    </tr>\n",
       "    <tr>\n",
       "      <th>375</th>\n",
       "      <td>STANDING</td>\n",
       "      <td>1</td>\n",
       "      <td>sacrum</td>\n",
       "      <td>accel</td>\n",
       "      <td>Accel X (g)  Accel Y (g)  Acce...</td>\n",
       "    </tr>\n",
       "    <tr>\n",
       "      <th>423</th>\n",
       "      <td>STANDING</td>\n",
       "      <td>2</td>\n",
       "      <td>sacrum</td>\n",
       "      <td>accel</td>\n",
       "      <td>Accel X (g)  Accel Y (g)  Acce...</td>\n",
       "    </tr>\n",
       "    <tr>\n",
       "      <th>471</th>\n",
       "      <td>STANDING</td>\n",
       "      <td>3</td>\n",
       "      <td>sacrum</td>\n",
       "      <td>accel</td>\n",
       "      <td>Accel X (g)  Accel Y (g)  Acce...</td>\n",
       "    </tr>\n",
       "    <tr>\n",
       "      <th>519</th>\n",
       "      <td>STANDING</td>\n",
       "      <td>4</td>\n",
       "      <td>sacrum</td>\n",
       "      <td>accel</td>\n",
       "      <td>Accel X (g)  Accel Y (g)  Acce...</td>\n",
       "    </tr>\n",
       "    <tr>\n",
       "      <th>567</th>\n",
       "      <td>STANDING</td>\n",
       "      <td>5</td>\n",
       "      <td>sacrum</td>\n",
       "      <td>accel</td>\n",
       "      <td>Accel X (g)  Accel Y (g)  Acce...</td>\n",
       "    </tr>\n",
       "    <tr>\n",
       "      <th>615</th>\n",
       "      <td>STANDING</td>\n",
       "      <td>6</td>\n",
       "      <td>sacrum</td>\n",
       "      <td>accel</td>\n",
       "      <td>Accel X (g)  Accel Y (g)  Acce...</td>\n",
       "    </tr>\n",
       "    <tr>\n",
       "      <th>663</th>\n",
       "      <td>STANDING</td>\n",
       "      <td>7</td>\n",
       "      <td>sacrum</td>\n",
       "      <td>accel</td>\n",
       "      <td>Accel X (g)  Accel Y (g)  Acce...</td>\n",
       "    </tr>\n",
       "    <tr>\n",
       "      <th>711</th>\n",
       "      <td>WALKING</td>\n",
       "      <td>0</td>\n",
       "      <td>sacrum</td>\n",
       "      <td>accel</td>\n",
       "      <td>Accel X (g)  Accel Y (g)  Acce...</td>\n",
       "    </tr>\n",
       "    <tr>\n",
       "      <th>759</th>\n",
       "      <td>WALKING</td>\n",
       "      <td>1</td>\n",
       "      <td>sacrum</td>\n",
       "      <td>accel</td>\n",
       "      <td>Accel X (g)  Accel Y (g)  Acce...</td>\n",
       "    </tr>\n",
       "    <tr>\n",
       "      <th>807</th>\n",
       "      <td>WALKING</td>\n",
       "      <td>2</td>\n",
       "      <td>sacrum</td>\n",
       "      <td>accel</td>\n",
       "      <td>Accel X (g)  Accel Y (g)  Acce...</td>\n",
       "    </tr>\n",
       "    <tr>\n",
       "      <th>855</th>\n",
       "      <td>WALKING</td>\n",
       "      <td>3</td>\n",
       "      <td>sacrum</td>\n",
       "      <td>accel</td>\n",
       "      <td>Accel X (g)  Accel Y (g)  Acce...</td>\n",
       "    </tr>\n",
       "    <tr>\n",
       "      <th>903</th>\n",
       "      <td>STAIRS DOWN</td>\n",
       "      <td>0</td>\n",
       "      <td>sacrum</td>\n",
       "      <td>accel</td>\n",
       "      <td>Accel X (g)  Accel Y (g)  Acce...</td>\n",
       "    </tr>\n",
       "    <tr>\n",
       "      <th>951</th>\n",
       "      <td>STAIRS DOWN</td>\n",
       "      <td>1</td>\n",
       "      <td>sacrum</td>\n",
       "      <td>accel</td>\n",
       "      <td>Accel X (g)  Accel Y (g)  Acce...</td>\n",
       "    </tr>\n",
       "    <tr>\n",
       "      <th>999</th>\n",
       "      <td>STAIRS UP</td>\n",
       "      <td>0</td>\n",
       "      <td>sacrum</td>\n",
       "      <td>accel</td>\n",
       "      <td>Accel X (g)  Accel Y (g)  Acce...</td>\n",
       "    </tr>\n",
       "    <tr>\n",
       "      <th>1047</th>\n",
       "      <td>STAIRS UP</td>\n",
       "      <td>1</td>\n",
       "      <td>sacrum</td>\n",
       "      <td>accel</td>\n",
       "      <td>Accel X (g)  Accel Y (g)  Acce...</td>\n",
       "    </tr>\n",
       "  </tbody>\n",
       "</table>\n",
       "</div>"
      ],
      "text/plain": [
       "             task  trial location sensor  \\\n",
       "39          LYING      0   sacrum  accel   \n",
       "87          LYING      1   sacrum  accel   \n",
       "135       SITTING      0   sacrum  accel   \n",
       "183       SITTING      1   sacrum  accel   \n",
       "231       SITTING      2   sacrum  accel   \n",
       "279       SITTING      3   sacrum  accel   \n",
       "327      STANDING      0   sacrum  accel   \n",
       "375      STANDING      1   sacrum  accel   \n",
       "423      STANDING      2   sacrum  accel   \n",
       "471      STANDING      3   sacrum  accel   \n",
       "519      STANDING      4   sacrum  accel   \n",
       "567      STANDING      5   sacrum  accel   \n",
       "615      STANDING      6   sacrum  accel   \n",
       "663      STANDING      7   sacrum  accel   \n",
       "711       WALKING      0   sacrum  accel   \n",
       "759       WALKING      1   sacrum  accel   \n",
       "807       WALKING      2   sacrum  accel   \n",
       "855       WALKING      3   sacrum  accel   \n",
       "903   STAIRS DOWN      0   sacrum  accel   \n",
       "951   STAIRS DOWN      1   sacrum  accel   \n",
       "999     STAIRS UP      0   sacrum  accel   \n",
       "1047    STAIRS UP      1   sacrum  accel   \n",
       "\n",
       "                                                rawdata  \n",
       "39                    Accel X (g)  Accel Y (g)  Acce...  \n",
       "87                    Accel X (g)  Accel Y (g)  Acce...  \n",
       "135                   Accel X (g)  Accel Y (g)  Acce...  \n",
       "183                   Accel X (g)  Accel Y (g)  Acce...  \n",
       "231                   Accel X (g)  Accel Y (g)  Acce...  \n",
       "279                   Accel X (g)  Accel Y (g)  Acce...  \n",
       "327                   Accel X (g)  Accel Y (g)  Acce...  \n",
       "375                   Accel X (g)  Accel Y (g)  Acce...  \n",
       "423                   Accel X (g)  Accel Y (g)  Acce...  \n",
       "471                   Accel X (g)  Accel Y (g)  Acce...  \n",
       "519                   Accel X (g)  Accel Y (g)  Acce...  \n",
       "567                   Accel X (g)  Accel Y (g)  Acce...  \n",
       "615                   Accel X (g)  Accel Y (g)  Acce...  \n",
       "663                   Accel X (g)  Accel Y (g)  Acce...  \n",
       "711                   Accel X (g)  Accel Y (g)  Acce...  \n",
       "759                   Accel X (g)  Accel Y (g)  Acce...  \n",
       "807                   Accel X (g)  Accel Y (g)  Acce...  \n",
       "855                   Accel X (g)  Accel Y (g)  Acce...  \n",
       "903                   Accel X (g)  Accel Y (g)  Acce...  \n",
       "951                   Accel X (g)  Accel Y (g)  Acce...  \n",
       "999                   Accel X (g)  Accel Y (g)  Acce...  \n",
       "1047                  Accel X (g)  Accel Y (g)  Acce...  "
      ]
     },
     "execution_count": 30,
     "metadata": {},
     "output_type": "execute_result"
    }
   ],
   "source": [
    "checkempty[checkempty.rawdata.map(lambda d: len(d)) > 0]"
   ]
  },
  {
   "cell_type": "code",
   "execution_count": 46,
   "metadata": {
    "hidden": true
   },
   "outputs": [
    {
     "data": {
      "text/plain": [
       "22"
      ]
     },
     "execution_count": 46,
     "metadata": {},
     "output_type": "execute_result"
    }
   ],
   "source": [
    "len(checkempty)\n",
    "# none are empty"
   ]
  },
  {
   "cell_type": "markdown",
   "metadata": {
    "heading_collapsed": true
   },
   "source": [
    "## 2. PASS - Test timestamp annotations with date for feature matrix"
   ]
  },
  {
   "cell_type": "code",
   "execution_count": 8,
   "metadata": {
    "ExecuteTime": {
     "end_time": "2018-11-14T14:47:00.515532Z",
     "start_time": "2018-11-14T14:47:00.179280Z"
    },
    "hidden": true
   },
   "outputs": [],
   "source": [
    "SubID = 'HC02'\n",
    "path = r'//FS2.smpp.local\\RTO\\Inpatient Sensors -Stroke\\Data\\biostamp_data\\controls'\n",
    "path_hc02 = os.path.join(path, SubID)\n",
    "timestamp =process_annotations(path_hc02)\n",
    "timestamp_with_date = extract_date_from_timestamp(timestamp)"
   ]
  },
  {
   "cell_type": "code",
   "execution_count": 10,
   "metadata": {
    "ExecuteTime": {
     "end_time": "2018-11-14T14:47:09.512947Z",
     "start_time": "2018-11-14T14:47:09.506967Z"
    },
    "hidden": true,
    "scrolled": true
   },
   "outputs": [
    {
     "data": {
      "text/html": [
       "<div>\n",
       "<style scoped>\n",
       "    .dataframe tbody tr th:only-of-type {\n",
       "        vertical-align: middle;\n",
       "    }\n",
       "\n",
       "    .dataframe tbody tr th {\n",
       "        vertical-align: top;\n",
       "    }\n",
       "\n",
       "    .dataframe thead th {\n",
       "        text-align: right;\n",
       "    }\n",
       "</style>\n",
       "<table border=\"1\" class=\"dataframe\">\n",
       "  <thead>\n",
       "    <tr style=\"text-align: right;\">\n",
       "      <th></th>\n",
       "      <th>task</th>\n",
       "      <th>date</th>\n",
       "      <th>trial</th>\n",
       "    </tr>\n",
       "  </thead>\n",
       "  <tbody>\n",
       "    <tr>\n",
       "      <th>0</th>\n",
       "      <td>LYING</td>\n",
       "      <td>2017-11-13</td>\n",
       "      <td>0</td>\n",
       "    </tr>\n",
       "    <tr>\n",
       "      <th>1</th>\n",
       "      <td>SITTING</td>\n",
       "      <td>2017-11-13</td>\n",
       "      <td>0</td>\n",
       "    </tr>\n",
       "  </tbody>\n",
       "</table>\n",
       "</div>"
      ],
      "text/plain": [
       "      task        date  trial\n",
       "0    LYING  2017-11-13      0\n",
       "1  SITTING  2017-11-13      0"
      ]
     },
     "execution_count": 10,
     "metadata": {},
     "output_type": "execute_result"
    }
   ],
   "source": [
    "timestamp.head(2)"
   ]
  },
  {
   "cell_type": "code",
   "execution_count": 11,
   "metadata": {
    "ExecuteTime": {
     "end_time": "2018-11-14T14:47:14.360120Z",
     "start_time": "2018-11-14T14:47:14.354138Z"
    },
    "hidden": true
   },
   "outputs": [
    {
     "data": {
      "text/html": [
       "<div>\n",
       "<style scoped>\n",
       "    .dataframe tbody tr th:only-of-type {\n",
       "        vertical-align: middle;\n",
       "    }\n",
       "\n",
       "    .dataframe tbody tr th {\n",
       "        vertical-align: top;\n",
       "    }\n",
       "\n",
       "    .dataframe thead th {\n",
       "        text-align: right;\n",
       "    }\n",
       "</style>\n",
       "<table border=\"1\" class=\"dataframe\">\n",
       "  <thead>\n",
       "    <tr style=\"text-align: right;\">\n",
       "      <th></th>\n",
       "      <th>task</th>\n",
       "      <th>date</th>\n",
       "      <th>trial</th>\n",
       "    </tr>\n",
       "  </thead>\n",
       "  <tbody>\n",
       "    <tr>\n",
       "      <th>0</th>\n",
       "      <td>LYING</td>\n",
       "      <td>2017-11-13</td>\n",
       "      <td>0</td>\n",
       "    </tr>\n",
       "    <tr>\n",
       "      <th>1</th>\n",
       "      <td>SITTING</td>\n",
       "      <td>2017-11-13</td>\n",
       "      <td>0</td>\n",
       "    </tr>\n",
       "  </tbody>\n",
       "</table>\n",
       "</div>"
      ],
      "text/plain": [
       "      task        date  trial\n",
       "0    LYING  2017-11-13      0\n",
       "1  SITTING  2017-11-13      0"
      ]
     },
     "execution_count": 11,
     "metadata": {},
     "output_type": "execute_result"
    }
   ],
   "source": [
    "timestamp_with_date.head(2)"
   ]
  },
  {
   "cell_type": "markdown",
   "metadata": {},
   "source": [
    "# Create dictionaries from sensor data from all the subjects"
   ]
  },
  {
   "cell_type": "code",
   "execution_count": 13,
   "metadata": {
    "ExecuteTime": {
     "end_time": "2018-12-20T21:50:25.913720Z",
     "start_time": "2018-12-20T21:50:25.909732Z"
    }
   },
   "outputs": [
    {
     "name": "stdout",
     "output_type": "stream",
     "text": [
      "['HC01dict.pkl', 'HC02dict.pkl', 'HC03dict.pkl', 'HC04dict.pkl', 'HC05dict.pkl', 'HC06dict.pkl', 'HC07dict.pkl', 'HC08dict.pkl', 'HC09dict.pkl', 'HC10dict.pkl', 'HC11dict.pkl', 'HC12dict.pkl', 'HC13dict.pkl', 'HC14dict.pkl', 'HC15dict.pkl', 'HC16dict.pkl', 'HC17dict.pkl', 'HC18dict.pkl', 'HC19dict.pkl', 'HC20dict.pkl', 'HC21dict.pkl', 'HC22dict.pkl', 'HC23dict.pkl', 'HC24dict.pkl', 'HC25dict.pkl', 'HC26dict.pkl', 'HC27dict.pkl', 'HC28dict.pkl', 'HC29dict.pkl', 'HC30dict.pkl', 'HC31dict.pkl', 'HC32dict.pkl', 'HC33dict.pkl', 'HC34dict.pkl', 'HC35dict.pkl', 'HC36dict.pkl', 'HC39dict.pkl', 'HC40dict.pkl', 'HC41dict.pkl', 'HC42dict.pkl', 'HC43dict.pkl', 'HC44dict.pkl', 'HC45dict.pkl', 'HC46dict.pkl', 'HC47dict.pkl', 'HC48dict.pkl', 'HC49dict.pkl', 'HC50dict.pkl', 'HC51dict.pkl', 'mas', 'old_annotations_HC37and38', 'test']\n",
      "52\n"
     ]
    }
   ],
   "source": [
    "print(os.listdir(dict_path))\n",
    "print(len(os.listdir(dict_path)))"
   ]
  },
  {
   "cell_type": "code",
   "execution_count": 14,
   "metadata": {
    "ExecuteTime": {
     "end_time": "2018-12-20T21:50:26.749708Z",
     "start_time": "2018-12-20T21:50:26.741730Z"
    }
   },
   "outputs": [
    {
     "name": "stdout",
     "output_type": "stream",
     "text": [
      "['HC37', 'HC38']\n"
     ]
    }
   ],
   "source": [
    "# Rerun if more subject data added\n",
    "# If list returns empty, no need to update\n",
    "\n",
    "#all subj data files in repository\n",
    "d = os.listdir(path)\n",
    "f = [filename[0:4] for filename in d if filename.startswith('HC')]\n",
    "#skip existing data dictionary files in ../biostamp_data/Data_dict\n",
    "fd = os.listdir(dict_path)\n",
    "fd = [x[:4] for x in fd]\n",
    "print(list(set(f) - set(fd)))"
   ]
  },
  {
   "cell_type": "code",
   "execution_count": 15,
   "metadata": {
    "ExecuteTime": {
     "end_time": "2018-12-20T22:19:32.676808Z",
     "start_time": "2018-12-20T21:50:36.342876Z"
    }
   },
   "outputs": [
    {
     "name": "stdout",
     "output_type": "stream",
     "text": [
      "Loading Subject HC37 Data...\n",
      "Extract data complete.\n",
      "//FS2.smpp.local\\RTO\\Inpatient Sensors -Stroke\\Data\\biostamp_data\\Data_dict\\HC37dict.pkl File Saved\n",
      "\n",
      "Loading Subject HC38 Data...\n",
      "Extract data complete.\n",
      "//FS2.smpp.local\\RTO\\Inpatient Sensors -Stroke\\Data\\biostamp_data\\Data_dict\\HC38dict.pkl File Saved\n",
      "\n"
     ]
    }
   ],
   "source": [
    "#create data dict for remaining subjects\n",
    "data_all = []\n",
    "\n",
    "for SubID in list(set(f) - set(fd)):\n",
    "    print('Loading Subject ' + SubID + ' Data...')\n",
    "    act_dict, timestamps = extract_data(SubID, os.path.join(path, SubID))\n",
    "    print('Extract data complete.')\n",
    "    \n",
    "    #save dict to Pickle file\n",
    "    filename = os.path.join(dict_path, SubID + 'dict.pkl')\n",
    "    #filename = SubID + 'dict.pkl' # will need to move to Y: drive\n",
    "    with open(filename,'wb') as f:\n",
    "        pickle.dump(act_dict,f)\n",
    "    print(filename + ' ' + 'File Saved\\n')"
   ]
  },
  {
   "cell_type": "markdown",
   "metadata": {
    "heading_collapsed": true
   },
   "source": [
    "# Change? - Load pickle files in C: and create new files in Y: drive\n",
    "- change C: to Y: for dict_path2"
   ]
  },
  {
   "cell_type": "code",
   "execution_count": 56,
   "metadata": {
    "hidden": true
   },
   "outputs": [
    {
     "name": "stdout",
     "output_type": "stream",
     "text": [
      "['HC01' 'HC02' 'HC03' 'HC04' 'HC05' 'HC06' 'HC07' 'HC08' 'HC09' 'HC10'\n",
      " 'HC11' 'HC12' 'HC13' 'HC14' 'HC15' 'HC16' 'HC17' 'HC18' 'HC19' 'HC20'\n",
      " 'HC21' 'HC22' 'HC23' 'HC24' 'HC25' 'HC26' 'HC27' 'HC28' 'HC29' 'HC30'\n",
      " 'HC31' 'HC32' 'HC33']\n"
     ]
    }
   ],
   "source": [
    "## open, load, create new file in Y: directory\n",
    "\n",
    "dict_path2 = r'C:\\Users\\lu-rt&o\\Documents\\GitHub\\activity-recognition-process'\n",
    "dict_path3 = r'Y:\\Inpatient Sensors -Stroke\\Data\\biostamp_data\\Data_dict'\n",
    "\n",
    "#list subjects in db\n",
    "d = os.listdir(dict_path2)\n",
    "all_f = [filename[:4] for filename in d if filename.startswith('H')]\n",
    "print(np.sort(all_f))\n"
   ]
  },
  {
   "cell_type": "code",
   "execution_count": 58,
   "metadata": {
    "hidden": true
   },
   "outputs": [
    {
     "name": "stdout",
     "output_type": "stream",
     "text": [
      "HC01dict.pkl\n",
      "HC01dict.pkl File Saved\n",
      "\n",
      "HC02dict.pkl\n",
      "HC02dict.pkl File Saved\n",
      "\n",
      "HC03dict.pkl\n",
      "HC03dict.pkl File Saved\n",
      "\n",
      "HC04dict.pkl\n",
      "HC04dict.pkl File Saved\n",
      "\n",
      "HC05dict.pkl\n",
      "HC05dict.pkl File Saved\n",
      "\n",
      "HC06dict.pkl\n",
      "HC06dict.pkl File Saved\n",
      "\n",
      "HC07dict.pkl\n",
      "HC07dict.pkl File Saved\n",
      "\n",
      "HC08dict.pkl\n",
      "HC08dict.pkl File Saved\n",
      "\n",
      "HC09dict.pkl\n",
      "HC09dict.pkl File Saved\n",
      "\n",
      "HC10dict.pkl\n",
      "HC10dict.pkl File Saved\n",
      "\n",
      "HC11dict.pkl\n",
      "HC11dict.pkl File Saved\n",
      "\n",
      "HC12dict.pkl\n",
      "HC12dict.pkl File Saved\n",
      "\n",
      "HC13dict.pkl\n",
      "HC13dict.pkl File Saved\n",
      "\n",
      "HC14dict.pkl\n",
      "HC14dict.pkl File Saved\n",
      "\n",
      "HC15dict.pkl\n",
      "HC15dict.pkl File Saved\n",
      "\n",
      "HC16dict.pkl\n",
      "HC16dict.pkl File Saved\n",
      "\n",
      "HC17dict.pkl\n",
      "HC17dict.pkl File Saved\n",
      "\n",
      "HC18dict.pkl\n",
      "HC18dict.pkl File Saved\n",
      "\n",
      "HC19dict.pkl\n",
      "HC19dict.pkl File Saved\n",
      "\n",
      "HC20dict.pkl\n",
      "HC20dict.pkl File Saved\n",
      "\n",
      "HC21dict.pkl\n",
      "HC21dict.pkl File Saved\n",
      "\n",
      "HC22dict.pkl\n",
      "HC22dict.pkl File Saved\n",
      "\n",
      "HC23dict.pkl\n",
      "HC23dict.pkl File Saved\n",
      "\n",
      "HC24dict.pkl\n",
      "HC24dict.pkl File Saved\n",
      "\n",
      "HC25dict.pkl\n",
      "HC25dict.pkl File Saved\n",
      "\n",
      "HC26dict.pkl\n",
      "HC26dict.pkl File Saved\n",
      "\n",
      "HC27dict.pkl\n",
      "HC27dict.pkl File Saved\n",
      "\n",
      "HC28dict.pkl\n",
      "HC28dict.pkl File Saved\n",
      "\n",
      "HC29dict.pkl\n",
      "HC29dict.pkl File Saved\n",
      "\n",
      "HC30dict.pkl\n",
      "HC30dict.pkl File Saved\n",
      "\n",
      "HC31dict.pkl\n",
      "HC31dict.pkl File Saved\n",
      "\n",
      "HC32dict.pkl\n",
      "HC32dict.pkl File Saved\n",
      "\n",
      "HC33dict.pkl\n",
      "HC33dict.pkl File Saved\n",
      "\n"
     ]
    }
   ],
   "source": [
    "#load Pickle file dict\n",
    "for subj in all_f:\n",
    "    subj_filename = str(subj) + 'dict.pkl'\n",
    "    #f = open(os.path.join(dict_path2, subj_filename), 'rb')\n",
    "    #act_dict = pickle.load(f)\n",
    "    #f.close()\n",
    "    with open(os.path.join(dict_path2, subj_filename), 'rb') as f:\n",
    "        act_dict = pickle.load(f)\n",
    "    \n",
    "    print(subj_filename)\n",
    "    \n",
    "    # create new pickle file in path3\n",
    "    #f2 = open(os.path.join(dict_path3, subj_filename),'wb')\n",
    "    #pickle.dump(act_dict,f2)\n",
    "    #f2.close()\n",
    "    with open(os.path.join(dict_path3, subj_filename),'wb') as f2:\n",
    "        pickle.dump(act_dict,f2)\n",
    "    print(subj_filename + ' ' + 'File Saved\\n')"
   ]
  },
  {
   "cell_type": "code",
   "execution_count": null,
   "metadata": {
    "hidden": true
   },
   "outputs": [],
   "source": [
    "#load Pickle file dict\n",
    "for subj in all_f:\n",
    "    subj_filename = str(subj) + 'dict.pkl'\n",
    "    with open(os.path.join(dict_path2, subj_filename), 'rb') as f:\n",
    "        act_dict = pickle.load(f)\n",
    "    \n",
    "    print(subj_filename)\n",
    "    \n",
    "    # create new pickle file in path3\n",
    "    with open(os.path.join(dict_path3, subj_filename),'wb') as f2:\n",
    "        pickle.dump(act_dict,f2)\n",
    "    print(subj_filename + ' ' + 'File Saved\\n')"
   ]
  },
  {
   "cell_type": "markdown",
   "metadata": {
    "heading_collapsed": true,
    "hidden": true
   },
   "source": [
    "## Explore features from individual subject"
   ]
  },
  {
   "cell_type": "code",
   "execution_count": 8,
   "metadata": {
    "hidden": true
   },
   "outputs": [],
   "source": [
    "# use context manager to reload pickle file\n",
    "dict_path2 = r'//FS2.smpp.local\\RTO\\Inpatient Sensors -Stroke\\Data\\biostamp_data\\Data_dict'\n",
    "subj = 'HC02'\n",
    "filename = os.path.join(dict_path2, subj + 'dict.pkl')\n",
    "with open(filename,'rb') as filename:\n",
    "    act_dict = pickle.load(filename)"
   ]
  },
  {
   "cell_type": "code",
   "execution_count": 12,
   "metadata": {
    "hidden": true,
    "scrolled": true
   },
   "outputs": [
    {
     "data": {
      "text/html": [
       "<div>\n",
       "<style scoped>\n",
       "    .dataframe tbody tr th:only-of-type {\n",
       "        vertical-align: middle;\n",
       "    }\n",
       "\n",
       "    .dataframe tbody tr th {\n",
       "        vertical-align: top;\n",
       "    }\n",
       "\n",
       "    .dataframe thead th {\n",
       "        text-align: right;\n",
       "    }\n",
       "</style>\n",
       "<table border=\"1\" class=\"dataframe\">\n",
       "  <thead>\n",
       "    <tr style=\"text-align: right;\">\n",
       "      <th></th>\n",
       "    </tr>\n",
       "  </thead>\n",
       "  <tbody>\n",
       "  </tbody>\n",
       "</table>\n",
       "</div>"
      ],
      "text/plain": [
       "Empty DataFrame\n",
       "Columns: []\n",
       "Index: []"
      ]
     },
     "execution_count": 12,
     "metadata": {},
     "output_type": "execute_result"
    }
   ],
   "source": [
    "# test empty example\n",
    "task = 'LYING'\n",
    "loc = 'tibialis_anterior_left'\n",
    "# sensor = 'accel'\n",
    "sensor = 'gyro'\n",
    "trial = 0\n",
    "act_dict[task][trial][loc][sensor]"
   ]
  },
  {
   "cell_type": "code",
   "execution_count": 10,
   "metadata": {
    "hidden": true
   },
   "outputs": [],
   "source": [
    "# Choose task, sensor location, data type, and trials\n",
    "\n",
    "#task = 'LYING'\n",
    "#task = 'SITTING'\n",
    "#task = 'STANDING'\n",
    "task = 'WALKING'\n",
    "#task = 'STAIRS DOWN'\n",
    "#task = 'STAIRS UP'\n",
    "\n",
    "#loc = 'bicep_left'\n",
    "#loc = 'bicep_right'\n",
    "#loc = 'biceps_femoris_left'\n",
    "#loc = 'biceps_femoris_right'\n",
    "#loc = 'distal_lateral_shank_left' # has accel and gyro\n",
    "#loc = 'distal_lateral_shank_right' # has accel and gyro\n",
    "#loc = 'gastrocnemius_left'\n",
    "#loc = 'gastrocnemius_right'\n",
    "#loc = 'medial_chest'\n",
    "#loc = 'posterior_forearm_left'\n",
    "#loc = 'posterior_forearm_right'\n",
    "#loc = 'rectus_femoris_left'\n",
    "#loc = 'rectus_femoris_right'\n",
    "loc = 'sacrum' # has accel and gyro\n",
    "#loc = 'tibialis_anterior_left'\n",
    "#loc = 'tibialis_anterior_right'\n",
    "\n",
    "## want a + g\n",
    "sensor = 'accel'\n",
    "#sensor = 'gyro'\n",
    "#sensor = 'elec'\n",
    "\n",
    "trial = 1"
   ]
  },
  {
   "cell_type": "code",
   "execution_count": null,
   "metadata": {
    "hidden": true
   },
   "outputs": [],
   "source": [
    "# import copy\n",
    "# act_dict_copy2 = copy.deepcopy(act_dict)"
   ]
  },
  {
   "cell_type": "code",
   "execution_count": 11,
   "metadata": {
    "hidden": true
   },
   "outputs": [
    {
     "name": "stdout",
     "output_type": "stream",
     "text": [
      "WALKING sacrum accel 1\n"
     ]
    }
   ],
   "source": [
    "print(task,loc,sensor,trial)"
   ]
  },
  {
   "cell_type": "code",
   "execution_count": 21,
   "metadata": {
    "hidden": true
   },
   "outputs": [],
   "source": [
    "rawdata = act_dict[task][trial][loc][sensor]"
   ]
  },
  {
   "cell_type": "code",
   "execution_count": 22,
   "metadata": {
    "hidden": true
   },
   "outputs": [
    {
     "data": {
      "text/plain": [
       "(1605, 3)"
      ]
     },
     "execution_count": 22,
     "metadata": {},
     "output_type": "execute_result"
    }
   ],
   "source": [
    "rawdata.shape"
   ]
  },
  {
   "cell_type": "code",
   "execution_count": null,
   "metadata": {
    "hidden": true
   },
   "outputs": [],
   "source": [
    "rawdata"
   ]
  },
  {
   "cell_type": "markdown",
   "metadata": {
    "hidden": true
   },
   "source": [
    "### HC02: WALKING sacrum accel 1"
   ]
  },
  {
   "cell_type": "code",
   "execution_count": 14,
   "metadata": {
    "hidden": true
   },
   "outputs": [
    {
     "data": {
      "text/plain": [
       "<matplotlib.axes._subplots.AxesSubplot at 0x1c4cadd8>"
      ]
     },
     "execution_count": 14,
     "metadata": {},
     "output_type": "execute_result"
    },
    {
     "data": {
      "image/png": "[encoded data removed]",
      "text/plain": [
       "<matplotlib.figure.Figure at 0x2b1feb8>"
      ]
     },
     "metadata": {},
     "output_type": "display_data"
    }
   ],
   "source": [
    "#activity dictionary structure (TASK-TRIAL-LOCATION-SENSOR)\n",
    "rawdata = act_dict[task][trial][loc][sensor]\n",
    "#idx = rawdata.index\n",
    "#idx = idx-idx[0]\n",
    "#rawdata.index = idx\n",
    "rawdata.plot(figsize=(8,4))"
   ]
  },
  {
   "cell_type": "code",
   "execution_count": 64,
   "metadata": {
    "hidden": true
   },
   "outputs": [
    {
     "data": {
      "text/plain": [
       "<matplotlib.axes._subplots.AxesSubplot at 0x233b29b0>"
      ]
     },
     "execution_count": 64,
     "metadata": {},
     "output_type": "execute_result"
    },
    {
     "data": {
      "image/png": "[encoded data removed]",
      "text/plain": [
       "<matplotlib.figure.Figure at 0x23398128>"
      ]
     },
     "metadata": {},
     "output_type": "display_data"
    }
   ],
   "source": [
    "# Sacrum walking\n",
    "rawdata = act_dict['WALKING'][0]['sacrum']['accel']\n",
    "rawdata.plot(figsize=(8,4))"
   ]
  },
  {
   "cell_type": "code",
   "execution_count": 60,
   "metadata": {
    "hidden": true
   },
   "outputs": [
    {
     "data": {
      "text/plain": [
       "<matplotlib.axes._subplots.AxesSubplot at 0x2341b048>"
      ]
     },
     "execution_count": 60,
     "metadata": {},
     "output_type": "execute_result"
    },
    {
     "data": {
      "image/png": "[encoded data removed]",
      "text/plain": [
       "<matplotlib.figure.Figure at 0x5921fd0>"
      ]
     },
     "metadata": {},
     "output_type": "display_data"
    }
   ],
   "source": [
    "# Sacrum stairs UP\n",
    "rawdata = act_dict['STAIRS UP'][0]['sacrum']['accel']\n",
    "rawdata.plot(figsize=(8,4))"
   ]
  },
  {
   "cell_type": "code",
   "execution_count": 61,
   "metadata": {
    "hidden": true
   },
   "outputs": [
    {
     "data": {
      "text/plain": [
       "<matplotlib.axes._subplots.AxesSubplot at 0x2340c6a0>"
      ]
     },
     "execution_count": 61,
     "metadata": {},
     "output_type": "execute_result"
    },
    {
     "data": {
      "image/png": "[encoded data removed]",
      "text/plain": [
       "<matplotlib.figure.Figure at 0x2360ca58>"
      ]
     },
     "metadata": {},
     "output_type": "display_data"
    }
   ],
   "source": [
    "# Sacrum stairs DOWN\n",
    "rawdata = act_dict['STAIRS DOWN'][0]['sacrum']['accel']\n",
    "rawdata.plot(figsize=(8,4))"
   ]
  },
  {
   "cell_type": "code",
   "execution_count": 62,
   "metadata": {
    "hidden": true
   },
   "outputs": [
    {
     "data": {
      "text/plain": [
       "<matplotlib.axes._subplots.AxesSubplot at 0x23413940>"
      ]
     },
     "execution_count": 62,
     "metadata": {},
     "output_type": "execute_result"
    },
    {
     "data": {
      "image/png": "[encoded data removed]",
      "text/plain": [
       "<matplotlib.figure.Figure at 0x25708320>"
      ]
     },
     "metadata": {},
     "output_type": "display_data"
    }
   ],
   "source": [
    "# Sacrum standing\n",
    "rawdata = act_dict['STANDING'][0]['sacrum']['accel']\n",
    "rawdata.plot(figsize=(8,4))"
   ]
  },
  {
   "cell_type": "markdown",
   "metadata": {
    "heading_collapsed": true,
    "hidden": true
   },
   "source": [
    "### HC02: WALKING left_ankle accel 1"
   ]
  },
  {
   "cell_type": "code",
   "execution_count": 65,
   "metadata": {
    "hidden": true
   },
   "outputs": [
    {
     "data": {
      "text/plain": [
       "<matplotlib.axes._subplots.AxesSubplot at 0x256fa908>"
      ]
     },
     "execution_count": 65,
     "metadata": {},
     "output_type": "execute_result"
    },
    {
     "data": {
      "image/png": "[encoded data removed]",
      "text/plain": [
       "<matplotlib.figure.Figure at 0x232f4668>"
      ]
     },
     "metadata": {},
     "output_type": "display_data"
    }
   ],
   "source": [
    "#activity dictionary structure (TASK-TRIAL-LOCATION-SENSOR)\n",
    "rawdata = act_dict['WALKING'][0]['distal_lateral_shank_left']['gyro']\n",
    "rawdata.plot(figsize=(8,4))"
   ]
  },
  {
   "cell_type": "markdown",
   "metadata": {
    "heading_collapsed": true,
    "hidden": true
   },
   "source": [
    "### HC02: WALKING right_ankle accel 1"
   ]
  },
  {
   "cell_type": "code",
   "execution_count": 66,
   "metadata": {
    "hidden": true
   },
   "outputs": [
    {
     "data": {
      "text/plain": [
       "<matplotlib.axes._subplots.AxesSubplot at 0x257623c8>"
      ]
     },
     "execution_count": 66,
     "metadata": {},
     "output_type": "execute_result"
    },
    {
     "data": {
      "image/png": "[encoded data removed]",
      "text/plain": [
       "<matplotlib.figure.Figure at 0x233c2320>"
      ]
     },
     "metadata": {},
     "output_type": "display_data"
    }
   ],
   "source": [
    "#activity dictionary structure (TASK-TRIAL-LOCATION-SENSOR)\n",
    "rawdata = act_dict['WALKING'][0]['distal_lateral_shank_right']['gyro']\n",
    "rawdata.plot(figsize=(8,4))"
   ]
  },
  {
   "cell_type": "code",
   "execution_count": null,
   "metadata": {
    "hidden": true
   },
   "outputs": [],
   "source": [
    "np.size((act_dict[task][trial][loc][sensor])"
   ]
  },
  {
   "cell_type": "code",
   "execution_count": null,
   "metadata": {
    "hidden": true
   },
   "outputs": [],
   "source": [
    "# np.size(act_dict_copy2[task][trial][loc][sensor])"
   ]
  },
  {
   "cell_type": "code",
   "execution_count": null,
   "metadata": {
    "hidden": true
   },
   "outputs": [],
   "source": [
    "#activity dictionary structure (TASK-TRIAL-LOCATION-SENSOR)\n",
    "act_dict_right = gen_unimodal_data(act_dict, side='left', shift=100)\n",
    "clip_data = act_dict_right[task][trial][loc][sensor]\n",
    "idx = clip_data.index\n",
    "idx = idx-idx[0]\n",
    "clip_data.index = idx\n",
    "clip_data.plot(figsize=(8,4))"
   ]
  },
  {
   "cell_type": "code",
   "execution_count": null,
   "metadata": {
    "hidden": true
   },
   "outputs": [],
   "source": [
    "np.size(clip_data)"
   ]
  },
  {
   "cell_type": "markdown",
   "metadata": {
    "heading_collapsed": true
   },
   "source": [
    "# Misc bin"
   ]
  },
  {
   "cell_type": "markdown",
   "metadata": {
    "hidden": true
   },
   "source": [
    "## Extract clips"
   ]
  },
  {
   "cell_type": "code",
   "execution_count": 28,
   "metadata": {
    "hidden": true
   },
   "outputs": [],
   "source": [
    "# unstack nested dictionary\n",
    "df = pd.DataFrame([(k1, k2, k3, k4, v) for k1, k234v in act_dict.items()\n",
    "                           for k2, k34v in k234v.items()\n",
    "                           for k3, k4v in k34v.items()\n",
    "                           for k4, v in k4v.items()])\n",
    "df.columns = ['task','trial','location','sensor','rawdata']"
   ]
  },
  {
   "cell_type": "code",
   "execution_count": 30,
   "metadata": {
    "hidden": true
   },
   "outputs": [
    {
     "data": {
      "text/html": [
       "<div>\n",
       "<style scoped>\n",
       "    .dataframe tbody tr th:only-of-type {\n",
       "        vertical-align: middle;\n",
       "    }\n",
       "\n",
       "    .dataframe tbody tr th {\n",
       "        vertical-align: top;\n",
       "    }\n",
       "\n",
       "    .dataframe thead th {\n",
       "        text-align: right;\n",
       "    }\n",
       "</style>\n",
       "<table border=\"1\" class=\"dataframe\">\n",
       "  <thead>\n",
       "    <tr style=\"text-align: right;\">\n",
       "      <th></th>\n",
       "      <th>task</th>\n",
       "      <th>trial</th>\n",
       "      <th>location</th>\n",
       "      <th>sensor</th>\n",
       "      <th>rawdata</th>\n",
       "    </tr>\n",
       "  </thead>\n",
       "  <tbody>\n",
       "    <tr>\n",
       "      <th>0</th>\n",
       "      <td>LYING</td>\n",
       "      <td>0</td>\n",
       "      <td>bicep_left</td>\n",
       "      <td>accel</td>\n",
       "      <td>Accel X (g)  Accel Y (g)  Acce...</td>\n",
       "    </tr>\n",
       "    <tr>\n",
       "      <th>1</th>\n",
       "      <td>LYING</td>\n",
       "      <td>0</td>\n",
       "      <td>bicep_left</td>\n",
       "      <td>gyro</td>\n",
       "      <td>Empty DataFrame\n",
       "Columns: []\n",
       "Index: []</td>\n",
       "    </tr>\n",
       "    <tr>\n",
       "      <th>2</th>\n",
       "      <td>LYING</td>\n",
       "      <td>0</td>\n",
       "      <td>bicep_left</td>\n",
       "      <td>elec</td>\n",
       "      <td>Sample (V)\n",
       "Timestamp (ms)     ...</td>\n",
       "    </tr>\n",
       "    <tr>\n",
       "      <th>3</th>\n",
       "      <td>LYING</td>\n",
       "      <td>0</td>\n",
       "      <td>bicep_right</td>\n",
       "      <td>accel</td>\n",
       "      <td>Accel X (g)  Accel Y (g)  Acce...</td>\n",
       "    </tr>\n",
       "    <tr>\n",
       "      <th>4</th>\n",
       "      <td>LYING</td>\n",
       "      <td>0</td>\n",
       "      <td>bicep_right</td>\n",
       "      <td>gyro</td>\n",
       "      <td>Empty DataFrame\n",
       "Columns: []\n",
       "Index: []</td>\n",
       "    </tr>\n",
       "  </tbody>\n",
       "</table>\n",
       "</div>"
      ],
      "text/plain": [
       "    task  trial     location sensor  \\\n",
       "0  LYING      0   bicep_left  accel   \n",
       "1  LYING      0   bicep_left   gyro   \n",
       "2  LYING      0   bicep_left   elec   \n",
       "3  LYING      0  bicep_right  accel   \n",
       "4  LYING      0  bicep_right   gyro   \n",
       "\n",
       "                                             rawdata  \n",
       "0                  Accel X (g)  Accel Y (g)  Acce...  \n",
       "1              Empty DataFrame\n",
       "Columns: []\n",
       "Index: []  \n",
       "2                  Sample (V)\n",
       "Timestamp (ms)     ...  \n",
       "3                  Accel X (g)  Accel Y (g)  Acce...  \n",
       "4              Empty DataFrame\n",
       "Columns: []\n",
       "Index: []  "
      ]
     },
     "execution_count": 30,
     "metadata": {},
     "output_type": "execute_result"
    }
   ],
   "source": [
    "df.head(5)"
   ]
  },
  {
   "cell_type": "markdown",
   "metadata": {
    "hidden": true
   },
   "source": [
    "### Extract full recordings"
   ]
  },
  {
   "cell_type": "code",
   "execution_count": null,
   "metadata": {
    "hidden": true
   },
   "outputs": [],
   "source": [
    "#clipsize=0 extracts full recordings\n",
    "clip_data = gen_clips(act_dict,task,loc,clipsize=0,verbose=True)\n",
    "feature_extraction(clip_data)"
   ]
  },
  {
   "cell_type": "code",
   "execution_count": null,
   "metadata": {
    "hidden": true
   },
   "outputs": [],
   "source": [
    "clip_data[0]['accel']['features']"
   ]
  },
  {
   "cell_type": "markdown",
   "metadata": {
    "hidden": true
   },
   "source": [
    "### Extract clips"
   ]
  },
  {
   "cell_type": "code",
   "execution_count": null,
   "metadata": {
    "hidden": true
   },
   "outputs": [],
   "source": [
    "clip_data = gen_clips(act_dict,task,loc,verbose=True,len_tol=0.95)\n",
    "feature_extraction(clip_data)"
   ]
  },
  {
   "cell_type": "markdown",
   "metadata": {
    "hidden": true
   },
   "source": [
    "## Raw sensors data visualization - single subject"
   ]
  },
  {
   "cell_type": "code",
   "execution_count": null,
   "metadata": {
    "hidden": true
   },
   "outputs": [],
   "source": [
    "# plot all trials data from either one side or both sides\n",
    "task = \n",
    "loc1 = 'dorsal_hand_left'\n",
    "loc2 = 'dorsal_hand_right'\n",
    "\n",
    "#simulating additive or multiplicative noise\n",
    "loc = 'dorsal_hand_left'\n",
    "sensor = 'accel'\n",
    "\n",
    "rawdata=act_dict[task][0][loc][sensor]\n",
    "# rawdata = rawdata.applymap(lambda x: x+(.3/9.81)*np.random.randn(1)[0]) #additive noise\n",
    "rawdata = rawdata*1.0*np.random.randn(1)[0]\n",
    "rawdata.plot()\n",
    "plt.ylim([-1,2])\n",
    "\n",
    "\n",
    "idxidx  ==  rawdatarawdata..indexindex\n",
    "idxidx  ==  idxidx--idxidx[[00]]\n",
    "rawdatarawdata..indexindex  ==  idxidx\n",
    "rawdatarawdata..headhead()()\n",
    "    \n"
   ]
  },
  {
   "cell_type": "code",
   "execution_count": null,
   "metadata": {
    "hidden": true
   },
   "outputs": [],
   "source": [
    "#plot L and R side\n",
    "trials = act_dict[task].keys() #all available trials\n",
    "sns.set_context('paper')\n",
    "p = product([task],trials)\n",
    "taskslist = list(p)\n",
    "for t in taskslist:\n",
    "    fig=plt.figure()\n",
    "    ax1 = fig.add_subplot(121)\n",
    "    plot_data(act_dict,t[0],t[1],loc1,'accel',plt_ax=ax1,add_noise=False,start=0,end=20000)\n",
    "    ax1.set_title(tuple([str(subj)])+tuple([str(t[1])])+tuple([loc1]))\n",
    "    ax1.set_ylim([-2,2])\n",
    "    ax2 = fig.add_subplot(122)\n",
    "    plot_data(act_dict,t[0],t[1],loc2,'accel',plt_ax=ax2,start=0,end=20000)\n",
    "    ax2.set_title(tuple([str(subj)])+tuple([str(t[1])])+tuple([loc2]))\n",
    "    ax2.set_ylim([-2,2])"
   ]
  },
  {
   "cell_type": "code",
   "execution_count": null,
   "metadata": {
    "hidden": true
   },
   "outputs": [],
   "source": [
    "#plot one side only\n",
    "sns.set_context('paper')\n",
    "p = product([task],trials)\n",
    "taskslist = list(p)\n",
    "for t in taskslist:\n",
    "    plot_data(act_dict,t[0],t[1],loc,'accel')\n",
    "    plt.title(tuple([str(subj)])+t+tuple([loc]))"
   ]
  },
  {
   "cell_type": "markdown",
   "metadata": {
    "hidden": true
   },
   "source": [
    "## Plot raw data from all subjects for a given task and trial"
   ]
  },
  {
   "cell_type": "code",
   "execution_count": null,
   "metadata": {
    "hidden": true
   },
   "outputs": [],
   "source": [
    "#choose task, trials(visits) and sensor location\n",
    "loc1 = 'dorsal_hand_left'\n",
    "loc2 = 'dorsal_hand_right'\n",
    "# loc1 = 'flexor_digitorum_left'\n",
    "# loc2 = 'flexor_digitorum_right'\n",
    "trial = 5\n",
    "\n",
    "#list subjects in db\n",
    "d = os.listdir(path)\n",
    "all_f = [filename[:4] for filename in d if filename.startswith('H')]\n",
    "print(np.sort(all_f))\n",
    "\n",
    "#load Pickle file dict\n",
    "for subj in all_f:\n",
    "    #########\n",
    "    # Use context manager here?\n",
    "    subj_filename = str(subj) + 'dict.pkl'\n",
    "    f = open(os.path.join(path, subj_filename), 'rb')\n",
    "    act_dict = pickle.load(f)\n",
    "    f.close()\n",
    "    \n",
    "    #filter data\n",
    "    HPfilter(act_dict,task=task,loc=loc1)\n",
    "    HPfilter(act_dict,task=task,loc=loc2)\n",
    "    BPfilter(act_dict,task=task,loc=loc1)\n",
    "    BPfilter(act_dict,task=task,loc=loc2)\n",
    "    \n",
    "    fig=plt.figure()\n",
    "    ax1 = fig.add_subplot(121)\n",
    "    plot_data(act_dict,task,trial,loc1,'accel',plt_ax=ax1)\n",
    "    ax1.set_title(tuple([str(subj)])+tuple([str(trial)])+tuple([loc1]))\n",
    "    ax1.set_ylim([-1,1])\n",
    "    ax2 = fig.add_subplot(122)\n",
    "    plot_data(act_dict,task,trial,loc2,'accel',plt_ax=ax2)\n",
    "    ax2.set_title(tuple([str(subj)])+tuple([str(trial)])+tuple([loc2]))\n",
    "    ax2.set_ylim([-1,1])"
   ]
  }
 ],
 "metadata": {
  "kernelspec": {
   "display_name": "Python 3",
   "language": "python",
   "name": "python3"
  },
  "language_info": {
   "codemirror_mode": {
    "name": "ipython",
    "version": 3
   },
   "file_extension": ".py",
   "mimetype": "text/x-python",
   "name": "python",
   "nbconvert_exporter": "python",
   "pygments_lexer": "ipython3",
   "version": "3.7.0"
  }
 },
 "nbformat": 4,
 "nbformat_minor": 2
}
