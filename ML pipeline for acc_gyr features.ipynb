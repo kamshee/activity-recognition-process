{
 "cells": [
  {
   "cell_type": "markdown",
   "metadata": {},
   "source": [
    "# Test ML pipeline on ACC/GYR feature matrix"
   ]
  },
  {
   "cell_type": "markdown",
   "metadata": {
    "heading_collapsed": true
   },
   "source": [
    "# Supervised Machine Learning Pipeline - Multi-class Classification"
   ]
  },
  {
   "cell_type": "markdown",
   "metadata": {},
   "source": [
    "# Overview"
   ]
  },
  {
   "cell_type": "markdown",
   "metadata": {},
   "source": [
    "Use activity recognition test dataset to:\n",
    "1. Perform multi-class classification of activity recognition tasks (6 classes) using 131 features in the time and frequency domain.\n",
    "2. Compare linear classifiers using a machine learning pipeline.\n",
    "\n",
    "Linear classifiers\n",
    "- k nearest neighbors\n",
    "- logistic regression\n",
    "- SVM - linearSVC\n",
    "- SVM - SVC which uses nonlinear SVM by default"
   ]
  },
  {
   "cell_type": "markdown",
   "metadata": {},
   "source": [
    "# Import packages"
   ]
  },
  {
   "cell_type": "code",
   "execution_count": 1,
   "metadata": {
    "ExecuteTime": {
     "end_time": "2018-10-30T20:02:43.717151Z",
     "start_time": "2018-10-30T20:02:32.269293Z"
    }
   },
   "outputs": [],
   "source": [
    "from sklearn.model_selection import train_test_split, GridSearchCV, RandomizedSearchCV, cross_val_score\n",
    "from sklearn.preprocessing import StandardScaler, OneHotEncoder, LabelEncoder\n",
    "from sklearn.pipeline import Pipeline\n",
    "from sklearn.metrics import classification_report, confusion_matrix, roc_curve, roc_auc_score\n",
    "from sklearn.linear_model import LogisticRegression\n",
    "from sklearn.multiclass import OneVsRestClassifier\n",
    "import sklearn.datasets\n",
    "import pandas as pd\n",
    "import numpy as np\n",
    "import seaborn as sns"
   ]
  },
  {
   "cell_type": "markdown",
   "metadata": {},
   "source": [
    "# Loading data"
   ]
  },
  {
   "cell_type": "code",
   "execution_count": 9,
   "metadata": {
    "ExecuteTime": {
     "end_time": "2018-10-30T20:04:36.182550Z",
     "start_time": "2018-10-30T20:04:36.042424Z"
    }
   },
   "outputs": [],
   "source": [
    "# load test set - acc/gyr feature matrix\n",
    "testfile = r'//FS2.smpp.local\\RTO\\Inpatient Sensors -Stroke\\Data analysis\\Analysis_ActivityRecognition\\accgyr_feature_to_pipeline.csv'\n",
    "df = pd.read_csv(testfile)"
   ]
  },
  {
   "cell_type": "code",
   "execution_count": 10,
   "metadata": {
    "ExecuteTime": {
     "end_time": "2018-10-30T20:04:39.760979Z",
     "start_time": "2018-10-30T20:04:39.745022Z"
    }
   },
   "outputs": [
    {
     "data": {
      "text/html": [
       "<div>\n",
       "<style scoped>\n",
       "    .dataframe tbody tr th:only-of-type {\n",
       "        vertical-align: middle;\n",
       "    }\n",
       "\n",
       "    .dataframe tbody tr th {\n",
       "        vertical-align: top;\n",
       "    }\n",
       "\n",
       "    .dataframe thead th {\n",
       "        text-align: right;\n",
       "    }\n",
       "</style>\n",
       "<table border=\"1\" class=\"dataframe\">\n",
       "  <thead>\n",
       "    <tr style=\"text-align: right;\">\n",
       "      <th></th>\n",
       "      <th>subject</th>\n",
       "      <th>date</th>\n",
       "      <th>test</th>\n",
       "      <th>task</th>\n",
       "      <th>trial</th>\n",
       "      <th>location</th>\n",
       "      <th>acc-rawdata</th>\n",
       "      <th>gyr-rawdata</th>\n",
       "      <th>acc-meanX</th>\n",
       "      <th>acc-meanY</th>\n",
       "      <th>...</th>\n",
       "      <th>gyr-meanpower_bin11_z</th>\n",
       "      <th>gyr-meanpower_bin12_z</th>\n",
       "      <th>gyr-meanpower_bin13_z</th>\n",
       "      <th>gyr-meanpower_bin14_z</th>\n",
       "      <th>gyr-meanpower_bin15_z</th>\n",
       "      <th>gyr-meanpower_bin16_z</th>\n",
       "      <th>gyr-meanpower_bin17_z</th>\n",
       "      <th>gyr-meanpower_bin18_z</th>\n",
       "      <th>gyr-meanpower_bin19_z</th>\n",
       "      <th>gyr-meanpower_bin20_z</th>\n",
       "    </tr>\n",
       "  </thead>\n",
       "  <tbody>\n",
       "    <tr>\n",
       "      <th>0</th>\n",
       "      <td>HC02</td>\n",
       "      <td>temp date</td>\n",
       "      <td>activity recognition</td>\n",
       "      <td>LYING</td>\n",
       "      <td>0</td>\n",
       "      <td>sacrum</td>\n",
       "      <td>Accel X (g)  Accel Y (g)  Acce...</td>\n",
       "      <td>Gyro X (°/s)  Gyro Y (°/s)  Gy...</td>\n",
       "      <td>-0.058348</td>\n",
       "      <td>0.183076</td>\n",
       "      <td>...</td>\n",
       "      <td>0.000075</td>\n",
       "      <td>0.000077</td>\n",
       "      <td>0.000067</td>\n",
       "      <td>0.000057</td>\n",
       "      <td>0.000055</td>\n",
       "      <td>0.000079</td>\n",
       "      <td>0.000054</td>\n",
       "      <td>0.000062</td>\n",
       "      <td>0.000045</td>\n",
       "      <td>0.000045</td>\n",
       "    </tr>\n",
       "    <tr>\n",
       "      <th>1</th>\n",
       "      <td>HC02</td>\n",
       "      <td>temp date</td>\n",
       "      <td>activity recognition</td>\n",
       "      <td>LYING</td>\n",
       "      <td>0</td>\n",
       "      <td>distal_lateral_shank_right</td>\n",
       "      <td>Accel X (g)  Accel Y (g)  Acce...</td>\n",
       "      <td>Gyro X (°/s)  Gyro Y (°/s)  Gy...</td>\n",
       "      <td>0.105776</td>\n",
       "      <td>0.906628</td>\n",
       "      <td>...</td>\n",
       "      <td>0.000336</td>\n",
       "      <td>0.000195</td>\n",
       "      <td>0.000197</td>\n",
       "      <td>0.000209</td>\n",
       "      <td>0.000138</td>\n",
       "      <td>0.000108</td>\n",
       "      <td>0.000091</td>\n",
       "      <td>0.000057</td>\n",
       "      <td>0.000047</td>\n",
       "      <td>0.000065</td>\n",
       "    </tr>\n",
       "  </tbody>\n",
       "</table>\n",
       "<p>2 rows × 270 columns</p>\n",
       "</div>"
      ],
      "text/plain": [
       "  subject       date                  test   task  trial  \\\n",
       "0    HC02  temp date  activity recognition  LYING      0   \n",
       "1    HC02  temp date  activity recognition  LYING      0   \n",
       "\n",
       "                     location  \\\n",
       "0                      sacrum   \n",
       "1  distal_lateral_shank_right   \n",
       "\n",
       "                                         acc-rawdata  \\\n",
       "0                  Accel X (g)  Accel Y (g)  Acce...   \n",
       "1                  Accel X (g)  Accel Y (g)  Acce...   \n",
       "\n",
       "                                         gyr-rawdata  acc-meanX  acc-meanY  \\\n",
       "0                  Gyro X (°/s)  Gyro Y (°/s)  Gy...  -0.058348   0.183076   \n",
       "1                  Gyro X (°/s)  Gyro Y (°/s)  Gy...   0.105776   0.906628   \n",
       "\n",
       "           ...            gyr-meanpower_bin11_z  gyr-meanpower_bin12_z  \\\n",
       "0          ...                         0.000075               0.000077   \n",
       "1          ...                         0.000336               0.000195   \n",
       "\n",
       "   gyr-meanpower_bin13_z  gyr-meanpower_bin14_z  gyr-meanpower_bin15_z  \\\n",
       "0               0.000067               0.000057               0.000055   \n",
       "1               0.000197               0.000209               0.000138   \n",
       "\n",
       "   gyr-meanpower_bin16_z  gyr-meanpower_bin17_z  gyr-meanpower_bin18_z  \\\n",
       "0               0.000079               0.000054               0.000062   \n",
       "1               0.000108               0.000091               0.000057   \n",
       "\n",
       "   gyr-meanpower_bin19_z  gyr-meanpower_bin20_z  \n",
       "0               0.000045               0.000045  \n",
       "1               0.000047               0.000065  \n",
       "\n",
       "[2 rows x 270 columns]"
      ]
     },
     "execution_count": 10,
     "metadata": {},
     "output_type": "execute_result"
    }
   ],
   "source": [
    "df.head(2)"
   ]
  },
  {
   "cell_type": "code",
   "execution_count": 11,
   "metadata": {
    "ExecuteTime": {
     "end_time": "2018-10-30T20:04:41.762525Z",
     "start_time": "2018-10-30T20:04:41.755544Z"
    }
   },
   "outputs": [],
   "source": [
    "# once I have X and y, modify below\n",
    "df.insert(8, 'target_category', df['task'].astype('category').cat.codes)\n",
    "X = df.drop(df.columns[0:9], axis=1)\n",
    "y = df['target_category']\n",
    "\n",
    "# stratified sampling\n",
    "X_train, X_test, y_train, y_test = train_test_split(X, y, test_size=0.2, random_state=42, stratify=y)"
   ]
  },
  {
   "cell_type": "markdown",
   "metadata": {},
   "source": [
    "# Exploratory data analysis (EDA)"
   ]
  },
  {
   "cell_type": "code",
   "execution_count": 12,
   "metadata": {
    "ExecuteTime": {
     "end_time": "2018-10-30T20:05:32.718322Z",
     "start_time": "2018-10-30T20:05:32.713359Z"
    }
   },
   "outputs": [
    {
     "name": "stdout",
     "output_type": "stream",
     "text": [
      "AR data dimensions:  (110, 262)\n",
      "AR target dimensions:  (110,)\n"
     ]
    }
   ],
   "source": [
    "# check dimensions\n",
    "print('AR data dimensions: ', X.shape)\n",
    "print('AR target dimensions: ', y.shape)"
   ]
  },
  {
   "cell_type": "code",
   "execution_count": 13,
   "metadata": {
    "ExecuteTime": {
     "end_time": "2018-10-30T20:05:33.757812Z",
     "start_time": "2018-10-30T20:05:33.753851Z"
    }
   },
   "outputs": [
    {
     "name": "stdout",
     "output_type": "stream",
     "text": [
      "(88, 262) (88,) (22, 262) (22,)\n"
     ]
    }
   ],
   "source": [
    "# check dimensions\n",
    "print(X_train.shape, y_train.shape, X_test.shape, y_test.shape)"
   ]
  },
  {
   "cell_type": "markdown",
   "metadata": {},
   "source": [
    "# 1. k nearest neighbors (knn)"
   ]
  },
  {
   "cell_type": "markdown",
   "metadata": {
    "ExecuteTime": {
     "end_time": "2018-10-25T16:45:58.851091Z",
     "start_time": "2018-10-25T16:45:58.845108Z"
    }
   },
   "source": [
    "X = df.drop(df.columns[0:9], axis=1)\n",
    "y = df['target_category']\n",
    "\n",
    "# stratified sampling\n",
    "X_train, X_test, y_train, y_test = train_test_split(X, y, random_state=42, stratify=y)"
   ]
  },
  {
   "cell_type": "code",
   "execution_count": 14,
   "metadata": {
    "ExecuteTime": {
     "end_time": "2018-10-30T20:05:53.598518Z",
     "start_time": "2018-10-30T20:05:53.593493Z"
    }
   },
   "outputs": [
    {
     "data": {
      "text/plain": [
       "KNeighborsClassifier(algorithm='auto', leaf_size=30, metric='minkowski',\n",
       "           metric_params=None, n_jobs=1, n_neighbors=5, p=2,\n",
       "           weights='uniform')"
      ]
     },
     "execution_count": 14,
     "metadata": {},
     "output_type": "execute_result"
    }
   ],
   "source": [
    "from sklearn.neighbors import KNeighborsClassifier\n",
    "\n",
    "# Create and fit the model with default hyperparameters\n",
    "knn = KNeighborsClassifier()\n",
    "knn.fit(X_train, y_train)"
   ]
  },
  {
   "cell_type": "code",
   "execution_count": 15,
   "metadata": {
    "ExecuteTime": {
     "end_time": "2018-10-30T20:05:59.246488Z",
     "start_time": "2018-10-30T20:05:59.241502Z"
    }
   },
   "outputs": [
    {
     "data": {
      "text/plain": [
       "0.5909090909090909"
      ]
     },
     "execution_count": 15,
     "metadata": {},
     "output_type": "execute_result"
    }
   ],
   "source": [
    "# n=5\n",
    "knn.score(X_test, y_test)"
   ]
  },
  {
   "cell_type": "code",
   "execution_count": 16,
   "metadata": {
    "ExecuteTime": {
     "end_time": "2018-10-30T20:06:09.664326Z",
     "start_time": "2018-10-30T20:06:09.657312Z"
    }
   },
   "outputs": [
    {
     "data": {
      "text/plain": [
       "0.6363636363636364"
      ]
     },
     "execution_count": 16,
     "metadata": {},
     "output_type": "execute_result"
    }
   ],
   "source": [
    "# test k=6 with parameter n_neighbors\n",
    "knn = KNeighborsClassifier(n_neighbors=6)\n",
    "knn.fit(X_train, y_train)\n",
    "knn.score(X_test, y_test)"
   ]
  },
  {
   "cell_type": "code",
   "execution_count": 25,
   "metadata": {
    "ExecuteTime": {
     "end_time": "2018-10-30T20:08:32.675988Z",
     "start_time": "2018-10-30T20:08:32.137279Z"
    }
   },
   "outputs": [
    {
     "name": "stdout",
     "output_type": "stream",
     "text": [
      "Tuned KNN Parameters: {'n_neighbors': 5}\n",
      "Best score is 0.5454545454545454\n",
      "knn training accuracy: 0.7272727272727273\n",
      "knn test accuracy    : 0.5909090909090909\n"
     ]
    }
   ],
   "source": [
    "# hyperparameter tuning for n_neighbors\n",
    "# setting n to 1-30, overfits with n=1 ##############\n",
    "param_grid = {'n_neighbors': np.arange(5, 30)}\n",
    "\n",
    "# Option 1\n",
    "knn = KNeighborsClassifier()\n",
    "# Option 2 - scaling doesn't work here\n",
    "# steps = [('scaler', StandardScaler()),\n",
    "#          ('knn', KNeighborsClassifier())]\n",
    "# pipeline = Pipeline(steps)\n",
    "\n",
    "# args: model, grid, number of folds for cross validation\n",
    "knn_cv = GridSearchCV(knn, param_grid, cv=5)\n",
    "knn_cv.fit(X_train, y_train)\n",
    "\n",
    "# Print the tuned parameters and score\n",
    "print(\"Tuned KNN Parameters: {}\".format(knn_cv.best_params_)) \n",
    "print(\"Best score is {}\".format(knn_cv.best_score_))\n",
    "\n",
    "print(\"knn training accuracy:\", knn_cv.score(X_train, y_train))\n",
    "print(\"knn test accuracy    :\", knn_cv.score(X_test, y_test))"
   ]
  },
  {
   "cell_type": "markdown",
   "metadata": {},
   "source": [
    "## knn Overfit\n",
    "- add scaling?"
   ]
  },
  {
   "cell_type": "markdown",
   "metadata": {},
   "source": [
    "# 2. Logistic Regression - multi-class\n",
    "Key hyperparameters:\n",
    "- C (inverse regularization strength)\n",
    "- penalty (type of regularization - L1 and L2)\n",
    "- multi_class (type of multi-class)"
   ]
  },
  {
   "cell_type": "markdown",
   "metadata": {},
   "source": [
    "## 2.1 One-vs-Rest"
   ]
  },
  {
   "cell_type": "code",
   "execution_count": 26,
   "metadata": {
    "ExecuteTime": {
     "end_time": "2018-10-30T20:09:14.843399Z",
     "start_time": "2018-10-30T20:09:14.503936Z"
    }
   },
   "outputs": [
    {
     "data": {
      "text/plain": [
       "LogisticRegression(C=1.0, class_weight=None, dual=False, fit_intercept=True,\n",
       "          intercept_scaling=1, max_iter=100, multi_class='ovr', n_jobs=1,\n",
       "          penalty='l2', random_state=None, solver='liblinear', tol=0.0001,\n",
       "          verbose=0, warm_start=False)"
      ]
     },
     "execution_count": 26,
     "metadata": {},
     "output_type": "execute_result"
    }
   ],
   "source": [
    "# LogisticRegression\n",
    "from sklearn.linear_model import LogisticRegression\n",
    "lr = LogisticRegression()\n",
    "lr.fit(X_train, y_train)\n",
    "# lr.predict(X_test)\n",
    "# lr.score(X_test, y_test)"
   ]
  },
  {
   "cell_type": "code",
   "execution_count": 27,
   "metadata": {
    "ExecuteTime": {
     "end_time": "2018-10-30T20:09:16.566722Z",
     "start_time": "2018-10-30T20:09:16.486725Z"
    }
   },
   "outputs": [
    {
     "data": {
      "text/plain": [
       "0.7272727272727273"
      ]
     },
     "execution_count": 27,
     "metadata": {},
     "output_type": "execute_result"
    }
   ],
   "source": [
    "lr.score(X_test, y_test)"
   ]
  },
  {
   "cell_type": "code",
   "execution_count": 28,
   "metadata": {
    "ExecuteTime": {
     "end_time": "2018-10-30T20:09:29.279575Z",
     "start_time": "2018-10-30T20:09:29.190788Z"
    }
   },
   "outputs": [
    {
     "name": "stdout",
     "output_type": "stream",
     "text": [
      "OVR training accuracy: 1.0\n",
      "OVR test accuracy    : 0.7272727272727273\n"
     ]
    }
   ],
   "source": [
    "# Fit one-vs-rest logistic regression classifier\n",
    "# lr_ovr = LogisticRegression()\n",
    "lr_ovr = OneVsRestClassifier(LogisticRegression()) \n",
    "lr_ovr.fit(X_train, y_train)\n",
    "\n",
    "print(\"OVR training accuracy:\", lr_ovr.score(X_train, y_train))\n",
    "print(\"OVR test accuracy    :\", lr_ovr.score(X_test, y_test))"
   ]
  },
  {
   "cell_type": "code",
   "execution_count": 29,
   "metadata": {
    "ExecuteTime": {
     "end_time": "2018-10-30T20:09:39.564487Z",
     "start_time": "2018-10-30T20:09:39.558503Z"
    }
   },
   "outputs": [
    {
     "name": "stdout",
     "output_type": "stream",
     "text": [
      "             precision    recall  f1-score   support\n",
      "\n",
      "          0       0.33      0.50      0.40         2\n",
      "          1       0.50      0.25      0.33         4\n",
      "          2       1.00      0.50      0.67         2\n",
      "          3       1.00      0.50      0.67         2\n",
      "          4       0.89      1.00      0.94         8\n",
      "          5       0.67      1.00      0.80         4\n",
      "\n",
      "avg / total       0.75      0.73      0.71        22\n",
      "\n",
      "Confusion matrix:\n",
      " [[1 1 0 0 0 0]\n",
      " [2 1 0 0 1 0]\n",
      " [0 0 1 0 0 1]\n",
      " [0 0 0 1 0 1]\n",
      " [0 0 0 0 8 0]\n",
      " [0 0 0 0 0 4]]\n"
     ]
    }
   ],
   "source": [
    "y_pred_lr_ovr = lr_ovr.predict(X_test)\n",
    "print(classification_report(y_test, y_pred_lr_ovr))\n",
    "print(\"Confusion matrix:\\n\", confusion_matrix(y_test, y_pred_lr_ovr))"
   ]
  },
  {
   "cell_type": "markdown",
   "metadata": {},
   "source": [
    "Task code:\n",
    "- Lying 0\n",
    "- Sitting 1\n",
    "- Stairs dn 2\n",
    "- Stairs up 3\n",
    "- Standing 4\n",
    "- Walking 5"
   ]
  },
  {
   "cell_type": "markdown",
   "metadata": {},
   "source": [
    "## 2.2 Softmax/Multinomial/Cross-Entropy Loss"
   ]
  },
  {
   "cell_type": "code",
   "execution_count": 30,
   "metadata": {
    "ExecuteTime": {
     "end_time": "2018-10-30T20:10:00.348343Z",
     "start_time": "2018-10-30T20:10:00.294754Z"
    }
   },
   "outputs": [
    {
     "name": "stdout",
     "output_type": "stream",
     "text": [
      "Softmax training accuracy: 1.0\n",
      "Softmax test accuracy    : 0.6818181818181818\n"
     ]
    }
   ],
   "source": [
    "lr_mn = LogisticRegression(multi_class=\"multinomial\",solver=\"lbfgs\")\n",
    "lr_mn.fit(X_train, y_train)\n",
    "\n",
    "print(\"Softmax training accuracy:\", lr_mn.score(X_train, y_train))\n",
    "print(\"Softmax test accuracy    :\", lr_mn.score(X_test, y_test))"
   ]
  },
  {
   "cell_type": "code",
   "execution_count": 31,
   "metadata": {
    "ExecuteTime": {
     "end_time": "2018-10-30T20:10:01.677106Z",
     "start_time": "2018-10-30T20:10:01.671122Z"
    }
   },
   "outputs": [
    {
     "name": "stdout",
     "output_type": "stream",
     "text": [
      "             precision    recall  f1-score   support\n",
      "\n",
      "          0       0.50      1.00      0.67         2\n",
      "          1       0.50      0.25      0.33         4\n",
      "          2       0.33      0.50      0.40         2\n",
      "          3       0.00      0.00      0.00         2\n",
      "          4       0.88      0.88      0.88         8\n",
      "          5       1.00      1.00      1.00         4\n",
      "\n",
      "avg / total       0.67      0.68      0.66        22\n",
      "\n",
      "Confusion matrix:\n",
      " [[2 0 0 0 0 0]\n",
      " [2 1 0 0 1 0]\n",
      " [0 0 1 1 0 0]\n",
      " [0 0 2 0 0 0]\n",
      " [0 1 0 0 7 0]\n",
      " [0 0 0 0 0 4]]\n"
     ]
    }
   ],
   "source": [
    "y_pred_lr_mn = lr_mn.predict(X_test)\n",
    "print(classification_report(y_test, y_pred_lr_mn))\n",
    "print(\"Confusion matrix:\\n\", confusion_matrix(y_test, y_pred_lr_mn))"
   ]
  },
  {
   "cell_type": "markdown",
   "metadata": {},
   "source": [
    "## Optional: L1 regularization"
   ]
  },
  {
   "cell_type": "code",
   "execution_count": 32,
   "metadata": {
    "ExecuteTime": {
     "end_time": "2018-10-30T20:10:10.867290Z",
     "start_time": "2018-10-30T20:10:10.709713Z"
    }
   },
   "outputs": [
    {
     "name": "stdout",
     "output_type": "stream",
     "text": [
      "Best CV params {'C': 100}\n",
      "Total number of features: 1572\n",
      "Number of selected features: 373\n"
     ]
    }
   ],
   "source": [
    "# Specify L1 regularization\n",
    "lr = LogisticRegression(penalty='l1')\n",
    "\n",
    "# Instantiate the GridSearchCV object and run the search\n",
    "searcher = GridSearchCV(lr, {'C':[0.001, 0.01, 0.1, 1, 10, 100]})\n",
    "searcher.fit(X_train, y_train)\n",
    "\n",
    "# Report the best parameters\n",
    "print(\"Best CV params\", searcher.best_params_)\n",
    "\n",
    "# Find the number of nonzero coefficients (selected features)\n",
    "best_lr = searcher.best_estimator_\n",
    "coefs = best_lr.coef_\n",
    "print(\"Total number of features:\", coefs.size)\n",
    "print(\"Number of selected features:\", np.count_nonzero(coefs))\n",
    "\n",
    "# with l1 reg - C=1\n",
    "# without l1 reg - C=10"
   ]
  },
  {
   "cell_type": "code",
   "execution_count": 33,
   "metadata": {
    "ExecuteTime": {
     "end_time": "2018-10-30T20:10:13.626966Z",
     "start_time": "2018-10-30T20:10:13.622977Z"
    }
   },
   "outputs": [
    {
     "name": "stdout",
     "output_type": "stream",
     "text": [
      "L1 reg training accuracy: 1.0\n",
      "L1 reg test accuracy    : 0.7272727272727273\n"
     ]
    }
   ],
   "source": [
    "print(\"L1 reg training accuracy:\", searcher.score(X_train, y_train))\n",
    "print(\"L1 reg test accuracy    :\", searcher.score(X_test, y_test))"
   ]
  },
  {
   "cell_type": "markdown",
   "metadata": {},
   "source": [
    "# 3. LinearSVC for SVM"
   ]
  },
  {
   "cell_type": "code",
   "execution_count": 34,
   "metadata": {
    "ExecuteTime": {
     "end_time": "2018-10-30T20:10:20.274294Z",
     "start_time": "2018-10-30T20:10:20.262297Z"
    }
   },
   "outputs": [],
   "source": [
    "# LinearSVC\n",
    "import sklearn.datasets\n",
    "wine = sklearn.datasets.load_wine()\n",
    "from sklearn.svm import LinearSVC\n",
    "\n",
    "# svm.ft(wine.data, wine.target)\n",
    "# svm.score(wine.data, wine.target)"
   ]
  },
  {
   "cell_type": "code",
   "execution_count": 35,
   "metadata": {
    "ExecuteTime": {
     "end_time": "2018-10-30T20:10:20.807413Z",
     "start_time": "2018-10-30T20:10:20.758545Z"
    }
   },
   "outputs": [
    {
     "data": {
      "text/plain": [
       "LinearSVC(C=1.0, class_weight=None, dual=True, fit_intercept=True,\n",
       "     intercept_scaling=1, loss='squared_hinge', max_iter=1000,\n",
       "     multi_class='ovr', penalty='l2', random_state=None, tol=0.0001,\n",
       "     verbose=0)"
      ]
     },
     "execution_count": 35,
     "metadata": {},
     "output_type": "execute_result"
    }
   ],
   "source": [
    "linearsvm = LinearSVC()\n",
    "linearsvm.fit(X_train, y_train)"
   ]
  },
  {
   "cell_type": "code",
   "execution_count": 36,
   "metadata": {
    "ExecuteTime": {
     "end_time": "2018-10-30T20:10:21.450978Z",
     "start_time": "2018-10-30T20:10:21.446989Z"
    }
   },
   "outputs": [
    {
     "name": "stdout",
     "output_type": "stream",
     "text": [
      "LinearSVC training accuracy: 1.0\n",
      "LinearSVC test accuracy    : 0.8181818181818182\n"
     ]
    }
   ],
   "source": [
    "print(\"LinearSVC training accuracy:\", linearsvm.score(X_train, y_train))\n",
    "print(\"LinearSVC test accuracy    :\", linearsvm.score(X_test, y_test))"
   ]
  },
  {
   "cell_type": "code",
   "execution_count": 37,
   "metadata": {
    "ExecuteTime": {
     "end_time": "2018-10-30T20:10:23.466122Z",
     "start_time": "2018-10-30T20:10:23.463131Z"
    }
   },
   "outputs": [
    {
     "data": {
      "text/plain": [
       "dict_keys(['C', 'class_weight', 'dual', 'fit_intercept', 'intercept_scaling', 'loss', 'max_iter', 'multi_class', 'penalty', 'random_state', 'tol', 'verbose'])"
      ]
     },
     "execution_count": 37,
     "metadata": {},
     "output_type": "execute_result"
    }
   ],
   "source": [
    "LinearSVC().get_params().keys()"
   ]
  },
  {
   "cell_type": "code",
   "execution_count": 38,
   "metadata": {
    "ExecuteTime": {
     "end_time": "2018-10-30T20:10:26.011373Z",
     "start_time": "2018-10-30T20:10:25.493839Z"
    }
   },
   "outputs": [
    {
     "name": "stdout",
     "output_type": "stream",
     "text": [
      "Tuned Model Parameters: {'svc__C': 0.1}\n",
      "LinearSVC training accuracy: 1.0\n",
      "Test Accuracy: 0.8181818181818182\n",
      "             precision    recall  f1-score   support\n",
      "\n",
      "          0       1.00      0.50      0.67         2\n",
      "          1       0.50      0.25      0.33         4\n",
      "          2       1.00      1.00      1.00         2\n",
      "          3       0.67      1.00      0.80         2\n",
      "          4       0.80      1.00      0.89         8\n",
      "          5       1.00      1.00      1.00         4\n",
      "\n",
      "avg / total       0.81      0.82      0.79        22\n",
      "\n",
      "Confusion matrix:\n",
      " [[1 1 0 0 0 0]\n",
      " [0 1 0 1 2 0]\n",
      " [0 0 2 0 0 0]\n",
      " [0 0 0 2 0 0]\n",
      " [0 0 0 0 8 0]\n",
      " [0 0 0 0 0 4]]\n"
     ]
    }
   ],
   "source": [
    "# CV and scaling in a pipeline using Normalization\n",
    "steps = [('scaler', StandardScaler()),\n",
    "         ('svc', LinearSVC())]\n",
    "pipeline = Pipeline(steps)\n",
    "\n",
    "# Specify hyperparameter space using a dictionary\n",
    "parameters = {'svc__C':[0.1, 1, 10]}\n",
    "\n",
    "X_train_svc, X_test_svc, y_train_svc, y_test_svc = train_test_split(X, y, test_size=0.2, random_state=42, stratify=y)\n",
    "\n",
    "cv = GridSearchCV(pipeline, param_grid=parameters)\n",
    "cv.fit(X_train_svc, y_train_svc)\n",
    "y_pred_svc = cv.predict(X_test_svc)\n",
    "\n",
    "# Compute and print metrics\n",
    "# print best parameters\n",
    "print(\"Tuned Model Parameters: {}\".format(cv.best_params_))\n",
    "print(\"LinearSVC training accuracy:\", linearsvm.score(X_train, y_train))\n",
    "print(\"Test Accuracy: {}\".format(cv.score(X_test_svc, y_test_svc)))\n",
    "print(classification_report(y_test_svc, y_pred_svc))\n",
    "print(\"Confusion matrix:\\n\", confusion_matrix(y_test_svc, y_pred_svc))"
   ]
  },
  {
   "cell_type": "markdown",
   "metadata": {},
   "source": [
    "Sitting confused as Lying 1\n",
    "Sitting confused with Standing 6\n",
    "Stairs dn confused with Walking 1\n",
    "Standing confused with Sitting 2"
   ]
  },
  {
   "cell_type": "markdown",
   "metadata": {},
   "source": [
    "Task code:\n",
    "Lying 0\n",
    "Sitting 1\n",
    "Stairs dn 2\n",
    "Stairs up 3\n",
    "Standing 4\n",
    "Walking 5"
   ]
  },
  {
   "cell_type": "code",
   "execution_count": null,
   "metadata": {},
   "outputs": [],
   "source": []
  },
  {
   "cell_type": "markdown",
   "metadata": {},
   "source": [
    "# 4. SVC - default nonlinear SVM"
   ]
  },
  {
   "cell_type": "code",
   "execution_count": 39,
   "metadata": {
    "ExecuteTime": {
     "end_time": "2018-10-30T20:10:29.419377Z",
     "start_time": "2018-10-30T20:10:29.413393Z"
    }
   },
   "outputs": [],
   "source": [
    "# SVC\n",
    "import sklearn.datasets\n",
    "wine = sklearn.datasets.load_wine()\n",
    "from sklearn.svm import SVC\n",
    "svm = SVC()\n",
    "# svm.fit(wine.data, wine.target)\n",
    "# svm.score(wine.data, wine.target)"
   ]
  },
  {
   "cell_type": "code",
   "execution_count": 40,
   "metadata": {
    "ExecuteTime": {
     "end_time": "2018-10-30T20:10:30.735244Z",
     "start_time": "2018-10-30T20:10:30.725270Z"
    }
   },
   "outputs": [
    {
     "data": {
      "text/plain": [
       "SVC(C=1.0, cache_size=200, class_weight=None, coef0=0.0,\n",
       "  decision_function_shape='ovr', degree=3, gamma='auto', kernel='rbf',\n",
       "  max_iter=-1, probability=False, random_state=None, shrinking=True,\n",
       "  tol=0.001, verbose=False)"
      ]
     },
     "execution_count": 40,
     "metadata": {},
     "output_type": "execute_result"
    }
   ],
   "source": [
    "svm.fit(X_train, y_train)"
   ]
  },
  {
   "cell_type": "code",
   "execution_count": 41,
   "metadata": {
    "ExecuteTime": {
     "end_time": "2018-10-30T20:10:40.844063Z",
     "start_time": "2018-10-30T20:10:40.837082Z"
    }
   },
   "outputs": [
    {
     "name": "stdout",
     "output_type": "stream",
     "text": [
      "SVC training accuracy: 0.9886363636363636\n",
      "SVC test accuracy    : 0.36363636363636365\n"
     ]
    }
   ],
   "source": [
    "print(\"SVC training accuracy:\", svm.score(X_train, y_train))\n",
    "print(\"SVC test accuracy    :\", svm.score(X_test, y_test))\n",
    "\n",
    "# overfit model"
   ]
  },
  {
   "cell_type": "markdown",
   "metadata": {},
   "source": [
    "## 4.1 SVC: Tune hyperparameters to improve test accuracy"
   ]
  },
  {
   "cell_type": "code",
   "execution_count": 42,
   "metadata": {
    "ExecuteTime": {
     "end_time": "2018-10-30T20:10:45.128912Z",
     "start_time": "2018-10-30T20:10:44.885545Z"
    }
   },
   "outputs": [
    {
     "name": "stdout",
     "output_type": "stream",
     "text": [
      "Best CV params {'C': 10, 'gamma': 1e-05}\n",
      "Best CV accuracy 0.4431818181818182\n",
      "Train accuracy of best grid search hypers: 0.9772727272727273\n",
      "Test accuracy of best grid search hypers: 0.36363636363636365\n"
     ]
    }
   ],
   "source": [
    "# Instantiate an RBF SVM\n",
    "svm = SVC()\n",
    "\n",
    "# Instantiate the GridSearchCV object and run the search\n",
    "parameters = {'C':[0.1, 1, 10], 'gamma':[0.00001, 0.0001, 0.001, 0.01, 0.1]}\n",
    "searcher = GridSearchCV(svm, parameters)\n",
    "searcher.fit(X_train,y_train)\n",
    "\n",
    "# Report the best parameters and the corresponding score\n",
    "print(\"Best CV params\", searcher.best_params_)\n",
    "print(\"Best CV accuracy\", searcher.best_score_)\n",
    "\n",
    "# Report the test accuracy using these best parameters\n",
    "print(\"Train accuracy of best grid search hypers:\", \n",
    "      searcher.score(X_train,y_train))\n",
    "# Report the test accuracy using these best parameters\n",
    "print(\"Test accuracy of best grid search hypers:\", \n",
    "      searcher.score(X_test, y_test))"
   ]
  },
  {
   "cell_type": "markdown",
   "metadata": {},
   "source": [
    "## 4.2 SVC: normalize data, tune hyperparameters and check final result"
   ]
  },
  {
   "cell_type": "code",
   "execution_count": 44,
   "metadata": {
    "ExecuteTime": {
     "end_time": "2018-10-30T20:11:14.288274Z",
     "start_time": "2018-10-30T20:11:14.037762Z"
    }
   },
   "outputs": [
    {
     "name": "stdout",
     "output_type": "stream",
     "text": [
      "Tuned Model Parameters: {'svm__C': 10, 'svm__gamma': 0.001}\n",
      "Train Accuracy: 1.0\n",
      "Test Accuracy: 0.8636363636363636\n",
      "             precision    recall  f1-score   support\n",
      "\n",
      "          0       1.00      1.00      1.00         2\n",
      "          1       1.00      0.50      0.67         4\n",
      "          2       1.00      1.00      1.00         2\n",
      "          3       0.50      0.50      0.50         2\n",
      "          4       0.89      1.00      0.94         8\n",
      "          5       0.80      1.00      0.89         4\n",
      "\n",
      "avg / total       0.88      0.86      0.85        22\n",
      "\n",
      "Confusion matrix:\n",
      " [[2 0 0 0 0 0]\n",
      " [0 2 0 1 1 0]\n",
      " [0 0 2 0 0 0]\n",
      " [0 0 0 1 0 1]\n",
      " [0 0 0 0 8 0]\n",
      " [0 0 0 0 0 4]]\n"
     ]
    }
   ],
   "source": [
    "# CV and scaling in a pipeline\n",
    "steps = [('scaler', StandardScaler()),\n",
    "         ('svm', SVC())]\n",
    "pipeline = Pipeline(steps)\n",
    "\n",
    "# Specify hyperparameter space using a dictionary\n",
    "parameters = {'svm__C':[0.1, 1, 10],\n",
    "              'svm__gamma':[0.00001, 0.0001, 0.001, 0.01, 0.1]}\n",
    "\n",
    "X_train_svm, X_test_svm, y_train_svm, y_test_svm = train_test_split(X, y, test_size=0.2, random_state=42, stratify=y)\n",
    "\n",
    "cv = GridSearchCV(pipeline, param_grid=parameters)\n",
    "cv.fit(X_train_svm, y_train_svm)\n",
    "y_pred_svm = cv.predict(X_test_svm)\n",
    "\n",
    "# Compute and print metrics\n",
    "# print best parameters\n",
    "print(\"Tuned Model Parameters: {}\".format(cv.best_params_))\n",
    "print(\"Train Accuracy: {}\".format(cv.score(X_train_svm, y_train_svm)))\n",
    "print(\"Test Accuracy: {}\".format(cv.score(X_test_svm, y_test_svm)))\n",
    "print(classification_report(y_test_svm, y_pred_svm))\n",
    "print(\"Confusion matrix:\\n\", confusion_matrix(y_test_svm, y_pred_svm))"
   ]
  },
  {
   "cell_type": "markdown",
   "metadata": {},
   "source": [
    "Lying confused as Sitting 1\n",
    "Lying confused with Standing 0\n",
    "Sitting confused as Lying 1\n",
    "Sitting confused with Standing 4\n",
    "Stairs dn confused with Standing 0\n",
    "Stairs dn confused with Walking 4\n",
    "Stairs up confused with Stairs dn 2\n",
    "Stairs up confused with Walking 3\n",
    "Standing confused with Lying 0\n",
    "Standing confused with Sitting 4\n",
    "Standing confused with Stairs dn 0\n",
    "Standing confused with Walking 0\n",
    "Walking confused as Stairs dn 0\n",
    "Walking confused as Stairs up 0"
   ]
  },
  {
   "cell_type": "markdown",
   "metadata": {},
   "source": [
    "Task code:\n",
    "Lying 0\n",
    "Sitting 1\n",
    "Stairs dn 2\n",
    "Stairs up 3\n",
    "Standing 4\n",
    "Walking 5"
   ]
  },
  {
   "cell_type": "markdown",
   "metadata": {},
   "source": [
    "# Everything overfits"
   ]
  },
  {
   "cell_type": "code",
   "execution_count": null,
   "metadata": {},
   "outputs": [],
   "source": []
  }
 ],
 "metadata": {
  "kernelspec": {
   "display_name": "Python 3",
   "language": "python",
   "name": "python3"
  },
  "language_info": {
   "codemirror_mode": {
    "name": "ipython",
    "version": 3
   },
   "file_extension": ".py",
   "mimetype": "text/x-python",
   "name": "python",
   "nbconvert_exporter": "python",
   "pygments_lexer": "ipython3",
   "version": "3.6.5"
  }
 },
 "nbformat": 4,
 "nbformat_minor": 2
}
